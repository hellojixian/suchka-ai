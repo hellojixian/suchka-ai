{
 "cells": [
  {
   "cell_type": "code",
   "execution_count": 3,
   "metadata": {},
   "outputs": [
    {
     "name": "stdout",
     "output_type": "stream",
     "text": [
      "Given Tag: tag2\n",
      "Most Related Tag Combination: (('tag1', 'tag2', 'tag3'), ('tag2', 'tag3', 'tag4'))\n"
     ]
    }
   ],
   "source": [
    "from itertools import combinations\n",
    "\n",
    "# 示例数据，包含一组标签\n",
    "tags = [\n",
    "    (\"tag1\", \"tag2\", \"tag3\"),\n",
    "    (\"tag2\", \"tag3\", \"tag4\"),\n",
    "    (\"tag1\", \"tag3\", \"tag4\"),\n",
    "    (\"tag2\", \"tag3\", \"tag5\"),\n",
    "    (\"tag1\", \"tag2\", \"tag3\", \"tag4\"),\n",
    "]\n",
    "\n",
    "# 给定的标签\n",
    "given_tag = \"tag2\"\n",
    "\n",
    "# 计算给定标签与每个标签之间的支持度\n",
    "support_dict = {}\n",
    "for tag_combination in combinations(tags, 2):\n",
    "    if given_tag in tag_combination[0] and given_tag in tag_combination[1]:\n",
    "        support_dict[tag_combination] = support_dict.get(tag_combination, 0) + 1\n",
    "\n",
    "# 找到与给定标签最相关的其他标签\n",
    "most_related_tag_combination = max(support_dict, key=support_dict.get)\n",
    "\n",
    "print(\"Given Tag:\", given_tag)\n",
    "print(\"Most Related Tag Combination:\", most_related_tag_combination)"
   ]
  }
 ],
 "metadata": {
  "kernelspec": {
   "display_name": "base",
   "language": "python",
   "name": "python3"
  },
  "language_info": {
   "codemirror_mode": {
    "name": "ipython",
    "version": 3
   },
   "file_extension": ".py",
   "mimetype": "text/x-python",
   "name": "python",
   "nbconvert_exporter": "python",
   "pygments_lexer": "ipython3",
   "version": "3.10.9"
  },
  "orig_nbformat": 4
 },
 "nbformat": 4,
 "nbformat_minor": 2
}
