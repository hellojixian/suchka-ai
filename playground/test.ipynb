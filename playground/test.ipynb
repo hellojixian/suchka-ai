{
 "cells": [
  {
   "cell_type": "code",
   "execution_count": 28,
   "metadata": {},
   "outputs": [],
   "source": [
    "import os\n",
    "import sys\n",
    "import json\n",
    "import tqdm\n",
    "from dotenv import load_dotenv\n",
    "load_dotenv()\n",
    "\n",
    "project_root = os.path.abspath(os.path.join(os.path.dirname('../')))\n",
    "sys.path.append(project_root)\n",
    "\n",
    "import core.data_schema.model as model\n",
    "from core.database import Database\n",
    "db = Database()"
   ]
  },
  {
   "cell_type": "code",
   "execution_count": 27,
   "metadata": {},
   "outputs": [
    {
     "name": "stderr",
     "output_type": "stream",
     "text": [
      "Update Models face: 100%|██████████| 48022/48022 [00:51<00:00, 930.40it/s]  \n"
     ]
    }
   ],
   "source": [
    "for model_obj in tqdm.tqdm(model.Model.objects(), desc=\"Update Models face\"):  \n",
    "  for face in model_obj.faces:\n",
    "    face.source = face.source.replace(\"/storage/suchka-storage\", \"\")\n",
    "    # print(face.source )\n",
    "    # break\n",
    "    # face.save()\n",
    "  model_obj.save()\n"
   ]
  }
 ],
 "metadata": {
  "kernelspec": {
   "display_name": "base",
   "language": "python",
   "name": "python3"
  },
  "language_info": {
   "codemirror_mode": {
    "name": "ipython",
    "version": 3
   },
   "file_extension": ".py",
   "mimetype": "text/x-python",
   "name": "python",
   "nbconvert_exporter": "python",
   "pygments_lexer": "ipython3",
   "version": "3.10.9"
  },
  "orig_nbformat": 4
 },
 "nbformat": 4,
 "nbformat_minor": 2
}
