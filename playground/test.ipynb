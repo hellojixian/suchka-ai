{
 "cells": [
  {
   "cell_type": "code",
   "execution_count": 29,
   "metadata": {},
   "outputs": [],
   "source": [
    "import os\n",
    "import sys\n",
    "import json\n",
    "import tqdm\n",
    "from dotenv import load_dotenv\n",
    "load_dotenv()\n",
    "\n",
    "project_root = os.path.abspath(os.path.join(os.path.dirname('../')))\n",
    "sys.path.append(project_root)\n",
    "\n",
    "import core.data_schema.model as model\n",
    "from core.database import Database\n",
    "db = Database()"
   ]
  },
  {
   "cell_type": "code",
   "execution_count": 38,
   "metadata": {},
   "outputs": [
    {
     "name": "stdout",
     "output_type": "stream",
     "text": [
      "72143467\n"
     ]
    }
   ],
   "source": [
    "import pprint as pp\n",
    "gallery = model.Gallery.objects().first()\n",
    "# output_data = pop_gallery.to_json()\n",
    "print(gallery.gid)\n",
    "for m in gallery.models:\n",
    "  for t in m.tags:\n",
    "    print(t.name)\n",
    "\n"
   ]
  }
 ],
 "metadata": {
  "kernelspec": {
   "display_name": "base",
   "language": "python",
   "name": "python3"
  },
  "language_info": {
   "codemirror_mode": {
    "name": "ipython",
    "version": 3
   },
   "file_extension": ".py",
   "mimetype": "text/x-python",
   "name": "python",
   "nbconvert_exporter": "python",
   "pygments_lexer": "ipython3",
   "version": "3.10.9"
  },
  "orig_nbformat": 4
 },
 "nbformat": 4,
 "nbformat_minor": 2
}
