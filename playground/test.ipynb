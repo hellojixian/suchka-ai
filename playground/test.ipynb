{
 "cells": [
  {
   "cell_type": "code",
   "execution_count": 1,
   "metadata": {},
   "outputs": [],
   "source": [
    "import os\n",
    "import sys\n",
    "import json\n",
    "import tqdm\n",
    "from dotenv import load_dotenv\n",
    "load_dotenv()\n",
    "\n",
    "project_root = os.path.abspath(os.path.join(os.path.dirname('../')))\n",
    "sys.path.append(project_root)\n",
    "\n",
    "import core.data_model as model\n",
    "from core.database import Database\n",
    "db = Database()"
   ]
  },
  {
   "cell_type": "code",
   "execution_count": 9,
   "metadata": {},
   "outputs": [
    {
     "name": "stdout",
     "output_type": "stream",
     "text": [
      "{'tags': ObjectId('64829b1a2e33334d7f99c66d')}\n"
     ]
    }
   ],
   "source": [
    "tag_id = '64829b1a2e33334d7f99c66d'\n",
    "res = model.Gallery.objects(tags=tag_id)\n",
    "print(res._query)"
   ]
  },
  {
   "cell_type": "code",
   "execution_count": 2,
   "metadata": {},
   "outputs": [
    {
     "name": "stderr",
     "output_type": "stream",
     "text": [
      "Update Channel's parent index:   7%|▋         | 30156/432447 [01:06<14:41, 456.14it/s]  \n"
     ]
    },
    {
     "ename": "KeyboardInterrupt",
     "evalue": "",
     "output_type": "error",
     "traceback": [
      "\u001b[0;31m---------------------------------------------------------------------------\u001b[0m",
      "\u001b[0;31mKeyboardInterrupt\u001b[0m                         Traceback (most recent call last)",
      "Cell \u001b[0;32mIn[2], line 10\u001b[0m\n\u001b[1;32m      8\u001b[0m \u001b[39mfor\u001b[39;00m gallery \u001b[39min\u001b[39;00m tqdm\u001b[39m.\u001b[39mtqdm(galleries, desc\u001b[39m=\u001b[39m\u001b[39m\"\u001b[39m\u001b[39mUpdate Channel\u001b[39m\u001b[39m'\u001b[39m\u001b[39ms parent index\u001b[39m\u001b[39m\"\u001b[39m):    \n\u001b[1;32m      9\u001b[0m   has_new_child \u001b[39m=\u001b[39m \u001b[39mFalse\u001b[39;00m\n\u001b[0;32m---> 10\u001b[0m   channels \u001b[39m=\u001b[39m gallery\u001b[39m.\u001b[39;49mchannels\n\u001b[1;32m     11\u001b[0m   \u001b[39mfor\u001b[39;00m i \u001b[39min\u001b[39;00m \u001b[39mrange\u001b[39m(\u001b[39m1\u001b[39m, \u001b[39mlen\u001b[39m(channels)):\n\u001b[1;32m     12\u001b[0m     \u001b[39mif\u001b[39;00m channels[i]\u001b[39m.\u001b[39mid \u001b[39min\u001b[39;00m checked_channels: \u001b[39mcontinue\u001b[39;00m\n",
      "File \u001b[0;32m~/anaconda3/lib/python3.10/site-packages/mongoengine/fields.py:928\u001b[0m, in \u001b[0;36mListField.__get__\u001b[0;34m(self, instance, owner)\u001b[0m\n\u001b[1;32m    923\u001b[0m \u001b[39mif\u001b[39;00m (\n\u001b[1;32m    924\u001b[0m     \u001b[39misinstance\u001b[39m(\u001b[39mself\u001b[39m\u001b[39m.\u001b[39mfield, (LazyReferenceField, GenericLazyReferenceField))\n\u001b[1;32m    925\u001b[0m     \u001b[39mand\u001b[39;00m value\n\u001b[1;32m    926\u001b[0m ):\n\u001b[1;32m    927\u001b[0m     instance\u001b[39m.\u001b[39m_data[\u001b[39mself\u001b[39m\u001b[39m.\u001b[39mname] \u001b[39m=\u001b[39m [\u001b[39mself\u001b[39m\u001b[39m.\u001b[39mfield\u001b[39m.\u001b[39mbuild_lazyref(x) \u001b[39mfor\u001b[39;00m x \u001b[39min\u001b[39;00m value]\n\u001b[0;32m--> 928\u001b[0m \u001b[39mreturn\u001b[39;00m \u001b[39msuper\u001b[39;49m()\u001b[39m.\u001b[39;49m\u001b[39m__get__\u001b[39;49m(instance, owner)\n",
      "File \u001b[0;32m~/anaconda3/lib/python3.10/site-packages/mongoengine/base/fields.py:321\u001b[0m, in \u001b[0;36mComplexBaseField.__get__\u001b[0;34m(self, instance, owner)\u001b[0m\n\u001b[1;32m    314\u001b[0m \u001b[39mif\u001b[39;00m (\n\u001b[1;32m    315\u001b[0m     instance\u001b[39m.\u001b[39m_initialised\n\u001b[1;32m    316\u001b[0m     \u001b[39mand\u001b[39;00m dereference\n\u001b[1;32m    317\u001b[0m     \u001b[39mand\u001b[39;00m instance\u001b[39m.\u001b[39m_data\u001b[39m.\u001b[39mget(\u001b[39mself\u001b[39m\u001b[39m.\u001b[39mname)\n\u001b[1;32m    318\u001b[0m     \u001b[39mand\u001b[39;00m \u001b[39mnot\u001b[39;00m \u001b[39mgetattr\u001b[39m(instance\u001b[39m.\u001b[39m_data[\u001b[39mself\u001b[39m\u001b[39m.\u001b[39mname], \u001b[39m\"\u001b[39m\u001b[39m_dereferenced\u001b[39m\u001b[39m\"\u001b[39m, \u001b[39mFalse\u001b[39;00m)\n\u001b[1;32m    319\u001b[0m ):\n\u001b[1;32m    320\u001b[0m     ref_values \u001b[39m=\u001b[39m instance\u001b[39m.\u001b[39m_data\u001b[39m.\u001b[39mget(\u001b[39mself\u001b[39m\u001b[39m.\u001b[39mname)\n\u001b[0;32m--> 321\u001b[0m     instance\u001b[39m.\u001b[39m_data[\u001b[39mself\u001b[39m\u001b[39m.\u001b[39mname] \u001b[39m=\u001b[39m \u001b[39mself\u001b[39;49m\u001b[39m.\u001b[39;49m_lazy_load_refs(\n\u001b[1;32m    322\u001b[0m         ref_values\u001b[39m=\u001b[39;49mref_values, instance\u001b[39m=\u001b[39;49minstance, name\u001b[39m=\u001b[39;49m\u001b[39mself\u001b[39;49m\u001b[39m.\u001b[39;49mname, max_depth\u001b[39m=\u001b[39;49m\u001b[39m1\u001b[39;49m\n\u001b[1;32m    323\u001b[0m     )\n\u001b[1;32m    324\u001b[0m     \u001b[39mif\u001b[39;00m \u001b[39mhasattr\u001b[39m(instance\u001b[39m.\u001b[39m_data[\u001b[39mself\u001b[39m\u001b[39m.\u001b[39mname], \u001b[39m\"\u001b[39m\u001b[39m_dereferenced\u001b[39m\u001b[39m\"\u001b[39m):\n\u001b[1;32m    325\u001b[0m         instance\u001b[39m.\u001b[39m_data[\u001b[39mself\u001b[39m\u001b[39m.\u001b[39mname]\u001b[39m.\u001b[39m_dereferenced \u001b[39m=\u001b[39m \u001b[39mTrue\u001b[39;00m\n",
      "File \u001b[0;32m~/anaconda3/lib/python3.10/site-packages/mongoengine/base/fields.py:277\u001b[0m, in \u001b[0;36mComplexBaseField._lazy_load_refs\u001b[0;34m(instance, name, ref_values, max_depth)\u001b[0m\n\u001b[1;32m    274\u001b[0m \u001b[39m@staticmethod\u001b[39m\n\u001b[1;32m    275\u001b[0m \u001b[39mdef\u001b[39;00m \u001b[39m_lazy_load_refs\u001b[39m(instance, name, ref_values, \u001b[39m*\u001b[39m, max_depth):\n\u001b[1;32m    276\u001b[0m     _dereference \u001b[39m=\u001b[39m _import_class(\u001b[39m\"\u001b[39m\u001b[39mDeReference\u001b[39m\u001b[39m\"\u001b[39m)()\n\u001b[0;32m--> 277\u001b[0m     documents \u001b[39m=\u001b[39m _dereference(\n\u001b[1;32m    278\u001b[0m         ref_values,\n\u001b[1;32m    279\u001b[0m         max_depth\u001b[39m=\u001b[39;49mmax_depth,\n\u001b[1;32m    280\u001b[0m         instance\u001b[39m=\u001b[39;49minstance,\n\u001b[1;32m    281\u001b[0m         name\u001b[39m=\u001b[39;49mname,\n\u001b[1;32m    282\u001b[0m     )\n\u001b[1;32m    283\u001b[0m     \u001b[39mreturn\u001b[39;00m documents\n",
      "File \u001b[0;32m~/anaconda3/lib/python3.10/site-packages/mongoengine/dereference.py:102\u001b[0m, in \u001b[0;36mDeReference.__call__\u001b[0;34m(self, items, max_depth, instance, name)\u001b[0m\n\u001b[1;32m     99\u001b[0m                 items \u001b[39m=\u001b[39m _get_items_from_dict(items)\n\u001b[1;32m    101\u001b[0m \u001b[39mself\u001b[39m\u001b[39m.\u001b[39mreference_map \u001b[39m=\u001b[39m \u001b[39mself\u001b[39m\u001b[39m.\u001b[39m_find_references(items)\n\u001b[0;32m--> 102\u001b[0m \u001b[39mself\u001b[39m\u001b[39m.\u001b[39mobject_map \u001b[39m=\u001b[39m \u001b[39mself\u001b[39;49m\u001b[39m.\u001b[39;49m_fetch_objects(doc_type\u001b[39m=\u001b[39;49mdoc_type)\n\u001b[1;32m    103\u001b[0m \u001b[39mreturn\u001b[39;00m \u001b[39mself\u001b[39m\u001b[39m.\u001b[39m_attach_objects(items, \u001b[39m0\u001b[39m, instance, name)\n",
      "File \u001b[0;32m~/anaconda3/lib/python3.10/site-packages/mongoengine/dereference.py:193\u001b[0m, in \u001b[0;36mDeReference._fetch_objects\u001b[0;34m(self, doc_type)\u001b[0m\n\u001b[1;32m    189\u001b[0m     references \u001b[39m=\u001b[39m doc_type\u001b[39m.\u001b[39m_get_db()[collection]\u001b[39m.\u001b[39mfind(\n\u001b[1;32m    190\u001b[0m         {\u001b[39m\"\u001b[39m\u001b[39m_id\u001b[39m\u001b[39m\"\u001b[39m: {\u001b[39m\"\u001b[39m\u001b[39m$in\u001b[39m\u001b[39m\"\u001b[39m: refs}}\n\u001b[1;32m    191\u001b[0m     )\n\u001b[1;32m    192\u001b[0m     \u001b[39mfor\u001b[39;00m ref \u001b[39min\u001b[39;00m references:\n\u001b[0;32m--> 193\u001b[0m         doc \u001b[39m=\u001b[39m doc_type\u001b[39m.\u001b[39;49m_from_son(ref)\n\u001b[1;32m    194\u001b[0m         object_map[(collection, doc\u001b[39m.\u001b[39mid)] \u001b[39m=\u001b[39m doc\n\u001b[1;32m    195\u001b[0m \u001b[39melse\u001b[39;00m:\n",
      "File \u001b[0;32m~/anaconda3/lib/python3.10/site-packages/mongoengine/base/document.py:815\u001b[0m, in \u001b[0;36mBaseDocument._from_son\u001b[0;34m(cls, son, _auto_dereference, created)\u001b[0m\n\u001b[1;32m    812\u001b[0m value \u001b[39m=\u001b[39m data[field\u001b[39m.\u001b[39mdb_field]\n\u001b[1;32m    813\u001b[0m \u001b[39mtry\u001b[39;00m:\n\u001b[1;32m    814\u001b[0m     data[field_name] \u001b[39m=\u001b[39m (\n\u001b[0;32m--> 815\u001b[0m         value \u001b[39mif\u001b[39;00m value \u001b[39mis\u001b[39;00m \u001b[39mNone\u001b[39;00m \u001b[39melse\u001b[39;00m field\u001b[39m.\u001b[39;49mto_python(value)\n\u001b[1;32m    816\u001b[0m     )\n\u001b[1;32m    817\u001b[0m     \u001b[39mif\u001b[39;00m field_name \u001b[39m!=\u001b[39m field\u001b[39m.\u001b[39mdb_field:\n\u001b[1;32m    818\u001b[0m         \u001b[39mdel\u001b[39;00m data[field\u001b[39m.\u001b[39mdb_field]\n",
      "File \u001b[0;32m~/anaconda3/lib/python3.10/site-packages/mongoengine/base/fields.py:379\u001b[0m, in \u001b[0;36mComplexBaseField.to_python\u001b[0;34m(self, value)\u001b[0m\n\u001b[1;32m    377\u001b[0m \u001b[39mif\u001b[39;00m \u001b[39mself\u001b[39m\u001b[39m.\u001b[39mfield:\n\u001b[1;32m    378\u001b[0m     \u001b[39mself\u001b[39m\u001b[39m.\u001b[39mfield\u001b[39m.\u001b[39m_auto_dereference \u001b[39m=\u001b[39m \u001b[39mself\u001b[39m\u001b[39m.\u001b[39m_auto_dereference\n\u001b[0;32m--> 379\u001b[0m     value_dict \u001b[39m=\u001b[39m {\n\u001b[1;32m    380\u001b[0m         key: \u001b[39mself\u001b[39m\u001b[39m.\u001b[39mfield\u001b[39m.\u001b[39mto_python(item) \u001b[39mfor\u001b[39;00m key, item \u001b[39min\u001b[39;00m value\u001b[39m.\u001b[39mitems()\n\u001b[1;32m    381\u001b[0m     }\n\u001b[1;32m    382\u001b[0m \u001b[39melse\u001b[39;00m:\n\u001b[1;32m    383\u001b[0m     Document \u001b[39m=\u001b[39m _import_class(\u001b[39m\"\u001b[39m\u001b[39mDocument\u001b[39m\u001b[39m\"\u001b[39m)\n",
      "File \u001b[0;32m~/anaconda3/lib/python3.10/site-packages/mongoengine/base/fields.py:380\u001b[0m, in \u001b[0;36m<dictcomp>\u001b[0;34m(.0)\u001b[0m\n\u001b[1;32m    377\u001b[0m \u001b[39mif\u001b[39;00m \u001b[39mself\u001b[39m\u001b[39m.\u001b[39mfield:\n\u001b[1;32m    378\u001b[0m     \u001b[39mself\u001b[39m\u001b[39m.\u001b[39mfield\u001b[39m.\u001b[39m_auto_dereference \u001b[39m=\u001b[39m \u001b[39mself\u001b[39m\u001b[39m.\u001b[39m_auto_dereference\n\u001b[1;32m    379\u001b[0m     value_dict \u001b[39m=\u001b[39m {\n\u001b[0;32m--> 380\u001b[0m         key: \u001b[39mself\u001b[39;49m\u001b[39m.\u001b[39;49mfield\u001b[39m.\u001b[39;49mto_python(item) \u001b[39mfor\u001b[39;00m key, item \u001b[39min\u001b[39;00m value\u001b[39m.\u001b[39mitems()\n\u001b[1;32m    381\u001b[0m     }\n\u001b[1;32m    382\u001b[0m \u001b[39melse\u001b[39;00m:\n\u001b[1;32m    383\u001b[0m     Document \u001b[39m=\u001b[39m _import_class(\u001b[39m\"\u001b[39m\u001b[39mDocument\u001b[39m\u001b[39m\"\u001b[39m)\n",
      "File \u001b[0;32m~/anaconda3/lib/python3.10/site-packages/mongoengine/fields.py:1242\u001b[0m, in \u001b[0;36mReferenceField.to_python\u001b[0;34m(self, value)\u001b[0m\n\u001b[1;32m   1240\u001b[0m \u001b[39mdef\u001b[39;00m \u001b[39mto_python\u001b[39m(\u001b[39mself\u001b[39m, value):\n\u001b[1;32m   1241\u001b[0m \u001b[39m    \u001b[39m\u001b[39m\"\"\"Convert a MongoDB-compatible type to a Python type.\"\"\"\u001b[39;00m\n\u001b[0;32m-> 1242\u001b[0m     \u001b[39mif\u001b[39;00m \u001b[39mnot\u001b[39;00m \u001b[39mself\u001b[39m\u001b[39m.\u001b[39mdbref \u001b[39mand\u001b[39;00m \u001b[39mnot\u001b[39;00m \u001b[39misinstance\u001b[39;49m(\n\u001b[1;32m   1243\u001b[0m         value, (DBRef, Document, EmbeddedDocument)\n\u001b[1;32m   1244\u001b[0m     ):\n\u001b[1;32m   1245\u001b[0m         collection \u001b[39m=\u001b[39m \u001b[39mself\u001b[39m\u001b[39m.\u001b[39mdocument_type\u001b[39m.\u001b[39m_get_collection_name()\n\u001b[1;32m   1246\u001b[0m         value \u001b[39m=\u001b[39m DBRef(collection, \u001b[39mself\u001b[39m\u001b[39m.\u001b[39mdocument_type\u001b[39m.\u001b[39mid\u001b[39m.\u001b[39mto_python(value))\n",
      "\u001b[0;31mKeyboardInterrupt\u001b[0m: "
     ]
    }
   ],
   "source": [
    "model_name='Ashley Adams'\n",
    "model_id = \"647c36ffa6f57b54a3e18159\"\n",
    "# galleries = model.Gallery.objects(channels__size__gte=2)\n",
    "\n",
    "\n",
    "checked_channels = set()\n",
    "galleries = model.Gallery.objects(__raw__={  '$expr': { '$gte': [{ '$size': '$channels' }, 2]} })\n",
    "for gallery in tqdm.tqdm(galleries, desc=\"Update Channel's parent index\"):\n",
    "  channels = gallery.channels\n",
    "  for i in range(1, len(channels)):\n",
    "    if channels[i].id in checked_channels: continue\n",
    "    if channels[i] not in channels[0].children:\n",
    "      channels[0].children.append(channels[i])\n",
    "      print(\"save new child\")\n",
    "      channels[0].save() \n",
    "    if channels[i].parent != channels[0]:\n",
    "      channels[i].parent = channels[0]\n",
    "      print(\"save new parent\")\n",
    "      channels[i].save()\n",
    "    checked_channels.add(channels[i].id)  \n",
    "del checked_channels\n",
    "# for g in galleries:\n",
    "#   print(g.id)\n",
    "#   print(g.path)  \n",
    "#   print(g.gid)\n",
    "#   print(g.models)\n",
    "#   print(\"------------------\")\n",
    "  \n",
    "# model.Model.objects(id=model_id)"
   ]
  }
 ],
 "metadata": {
  "kernelspec": {
   "display_name": "base",
   "language": "python",
   "name": "python3"
  },
  "language_info": {
   "codemirror_mode": {
    "name": "ipython",
    "version": 3
   },
   "file_extension": ".py",
   "mimetype": "text/x-python",
   "name": "python",
   "nbconvert_exporter": "python",
   "pygments_lexer": "ipython3",
   "version": "3.10.9"
  },
  "orig_nbformat": 4
 },
 "nbformat": 4,
 "nbformat_minor": 2
}
