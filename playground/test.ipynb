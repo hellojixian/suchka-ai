{
 "cells": [
  {
   "cell_type": "code",
   "execution_count": 1,
   "metadata": {},
   "outputs": [],
   "source": [
    "import os\n",
    "import sys\n",
    "import json\n",
    "import tqdm\n",
    "from dotenv import load_dotenv\n",
    "load_dotenv()\n",
    "\n",
    "project_root = os.path.abspath(os.path.join(os.path.dirname('../')))\n",
    "sys.path.append(project_root)\n",
    "\n",
    "import core.data_schema.model as model\n",
    "from core.database import Database\n",
    "db = Database()"
   ]
  },
  {
   "cell_type": "code",
   "execution_count": null,
   "metadata": {},
   "outputs": [],
   "source": [
    "import pprint as pp\n",
    "gallery = model.Gallery.objects().first()\n",
    "# output_data = pop_gallery.to_json()\n",
    "print(gallery.gid)\n",
    "for m in gallery.models:\n",
    "  print(f'name: {m.name}')\n",
    "  print('tags: ')\n",
    "  for t in m.tags:\n",
    "    print(t.name)\n",
    "\n"
   ]
  },
  {
   "cell_type": "code",
   "execution_count": 3,
   "metadata": {},
   "outputs": [],
   "source": [
    "galleries = model.Gallery.objects(__raw__={\"$where\": \"this.channels.length >= 2\"})\n"
   ]
  },
  {
   "cell_type": "code",
   "execution_count": 4,
   "metadata": {},
   "outputs": [
    {
     "name": "stderr",
     "output_type": "stream",
     "text": [
      "Update Channel's parent index:   1%|▏         | 5404/422907 [00:34<26:32, 262.21it/s]  "
     ]
    }
   ],
   "source": [
    "model_name='Ashley Adams'\n",
    "model_id = \"647c36ffa6f57b54a3e18159\"\n",
    "# galleries = model.Gallery.objects(channels__size=2)\n",
    "for gallery in tqdm.tqdm(galleries, desc=\"Update Channel's parent index\"):\n",
    "  channels = gallery.channels\n",
    "  has_new_child = False\n",
    "  for i in range(1, len(channels)):\n",
    "    if channels[i] not in channels[0].children:\n",
    "      has_new_child = True\n",
    "      channels[0].children.append(channels[i])\n",
    "    if channels[i].parent != channels[0]:\n",
    "      channels[i].parent = channels[0]\n",
    "      channels[i].save()\n",
    "      print('save new parent')\n",
    "  if has_new_child: \n",
    "    print('has new child')\n",
    "    channels[0].save()\n",
    "# for g in galleries:\n",
    "#   print(g.id)\n",
    "#   print(g.path)  \n",
    "#   print(g.gid)\n",
    "#   print(g.models)\n",
    "#   print(\"------------------\")\n",
    "  \n",
    "# model.Model.objects(id=model_id)"
   ]
  }
 ],
 "metadata": {
  "kernelspec": {
   "display_name": "base",
   "language": "python",
   "name": "python3"
  },
  "language_info": {
   "codemirror_mode": {
    "name": "ipython",
    "version": 3
   },
   "file_extension": ".py",
   "mimetype": "text/x-python",
   "name": "python",
   "nbconvert_exporter": "python",
   "pygments_lexer": "ipython3",
   "version": "3.10.9"
  },
  "orig_nbformat": 4
 },
 "nbformat": 4,
 "nbformat_minor": 2
}
