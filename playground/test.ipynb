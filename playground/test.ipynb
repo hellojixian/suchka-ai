{
 "cells": [
  {
   "cell_type": "code",
   "execution_count": null,
   "metadata": {},
   "outputs": [],
   "source": [
    "import os\n",
    "import sys\n",
    "import json\n",
    "import tqdm\n",
    "from dotenv import load_dotenv\n",
    "load_dotenv()\n",
    "\n",
    "project_root = os.path.abspath(os.path.join(os.path.dirname('../')))\n",
    "sys.path.append(project_root)\n",
    "\n",
    "import core.data_model as model\n",
    "from core.database import Database\n",
    "db = Database()"
   ]
  },
  {
   "cell_type": "code",
   "execution_count": null,
   "metadata": {},
   "outputs": [],
   "source": [
    "tag_id = '64829b1a2e33334d7f99c66d'\n",
    "res = model.Gallery.objects(tags=tag_id)\n",
    "print(res._query)"
   ]
  },
  {
   "cell_type": "code",
   "execution_count": null,
   "metadata": {},
   "outputs": [],
   "source": [
    "model_name='Ashley Adams'\n",
    "model_id = \"647c36ffa6f57b54a3e18159\"\n",
    "# galleries = model.Gallery.objects(channels__size__gte=2)\n",
    "\n",
    "\n",
    "checked_channels = set()\n",
    "galleries = model.Gallery.objects(__raw__={  '$expr': { '$gte': [{ '$size': '$channels' }, 2]} })\n",
    "for gallery in tqdm.tqdm(galleries, desc=\"Update Channel's parent index\"):\n",
    "  channels = gallery.channels\n",
    "  for i in range(1, len(channels)):\n",
    "    if channels[i].id in checked_channels: continue\n",
    "    if channels[i] not in channels[0].children:\n",
    "      channels[0].children.append(channels[i])\n",
    "      print(\"save new child\")\n",
    "      channels[0].save() \n",
    "    if channels[i].parent != channels[0]:\n",
    "      channels[i].parent = channels[0]\n",
    "      print(\"save new parent\")\n",
    "      channels[i].save()\n",
    "    checked_channels.add(channels[i].id)  \n",
    "del checked_channels\n",
    "# for g in galleries:\n",
    "#   print(g.id)\n",
    "#   print(g.path)  \n",
    "#   print(g.gid)\n",
    "#   print(g.models)\n",
    "#   print(\"------------------\")\n",
    "  \n",
    "# model.Model.objects(id=model_id)"
   ]
  },
  {
   "cell_type": "code",
   "execution_count": 5,
   "metadata": {},
   "outputs": [
    {
     "data": {
      "text/plain": [
       "(200, 200, 3)"
      ]
     },
     "execution_count": 5,
     "metadata": {},
     "output_type": "execute_result"
    }
   ],
   "source": [
    "import numpy as np\n",
    "color = \"#000000\"\n",
    "hex_color = color.lstrip('#')\n",
    "r = int(hex_color[0:2], 16)\n",
    "g = int(hex_color[2:4], 16)\n",
    "b = int(hex_color[4:6], 16)\n",
    "background_color = (r, g, b)\n",
    "background = np.full((200,200,3), background_color, dtype=np.uint8)\n",
    "background.shape\n"
   ]
  }
 ],
 "metadata": {
  "kernelspec": {
   "display_name": "base",
   "language": "python",
   "name": "python3"
  },
  "language_info": {
   "codemirror_mode": {
    "name": "ipython",
    "version": 3
   },
   "file_extension": ".py",
   "mimetype": "text/x-python",
   "name": "python",
   "nbconvert_exporter": "python",
   "pygments_lexer": "ipython3",
   "version": "3.10.9"
  },
  "orig_nbformat": 4
 },
 "nbformat": 4,
 "nbformat_minor": 2
}
