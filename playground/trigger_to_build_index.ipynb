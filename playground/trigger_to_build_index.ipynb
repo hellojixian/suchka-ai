{
 "cells": [
  {
   "cell_type": "code",
   "execution_count": 2,
   "metadata": {},
   "outputs": [
    {
     "ename": "AttributeError",
     "evalue": "module 'core.data_model.model' has no attribute 'Face'",
     "output_type": "error",
     "traceback": [
      "\u001b[0;31m---------------------------------------------------------------------------\u001b[0m",
      "\u001b[0;31mAttributeError\u001b[0m                            Traceback (most recent call last)",
      "Cell \u001b[0;32mIn[2], line 15\u001b[0m\n\u001b[1;32m     12\u001b[0m \u001b[39mfrom\u001b[39;00m \u001b[39mcore\u001b[39;00m\u001b[39m.\u001b[39;00m\u001b[39mdatabase\u001b[39;00m \u001b[39mimport\u001b[39;00m Database\n\u001b[1;32m     13\u001b[0m db \u001b[39m=\u001b[39m Database()\n\u001b[0;32m---> 15\u001b[0m model\u001b[39m.\u001b[39;49mbuild_indexes()\n",
      "File \u001b[0;32m~/github/suchka-ai/core/data_model/__init__.py:11\u001b[0m, in \u001b[0;36mbuild_indexes\u001b[0;34m()\u001b[0m\n\u001b[1;32m      9\u001b[0m Gallery\u001b[39m.\u001b[39mobjects()\u001b[39m.\u001b[39mfirst()\n\u001b[1;32m     10\u001b[0m Model\u001b[39m.\u001b[39mobjects()\u001b[39m.\u001b[39mfirst()\n\u001b[0;32m---> 11\u001b[0m model\u001b[39m.\u001b[39;49mFace\u001b[39m.\u001b[39mobjects()\u001b[39m.\u001b[39mfirst()\n\u001b[1;32m     12\u001b[0m model\u001b[39m.\u001b[39mChannel\u001b[39m.\u001b[39mobjects()\u001b[39m.\u001b[39mfirst()\n\u001b[1;32m     13\u001b[0m \u001b[39mreturn\u001b[39;00m\n",
      "\u001b[0;31mAttributeError\u001b[0m: module 'core.data_model.model' has no attribute 'Face'"
     ]
    }
   ],
   "source": [
    "import os\n",
    "import sys\n",
    "import json\n",
    "import tqdm\n",
    "from dotenv import load_dotenv\n",
    "load_dotenv()\n",
    "\n",
    "project_root = os.path.abspath(os.path.join(os.path.dirname('../')))\n",
    "sys.path.append(project_root)\n",
    "\n",
    "import core.data_model as model\n",
    "from core.database import Database\n",
    "db = Database()\n",
    "\n",
    "model.build_indexes()"
   ]
  }
 ],
 "metadata": {
  "kernelspec": {
   "display_name": "base",
   "language": "python",
   "name": "python3"
  },
  "language_info": {
   "codemirror_mode": {
    "name": "ipython",
    "version": 3
   },
   "file_extension": ".py",
   "mimetype": "text/x-python",
   "name": "python",
   "nbconvert_exporter": "python",
   "pygments_lexer": "ipython3",
   "version": "3.10.9"
  },
  "orig_nbformat": 4
 },
 "nbformat": 4,
 "nbformat_minor": 2
}
