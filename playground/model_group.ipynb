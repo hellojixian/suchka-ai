{
 "cells": [
  {
   "cell_type": "code",
   "execution_count": 3,
   "metadata": {},
   "outputs": [
    {
     "name": "stderr",
     "output_type": "stream",
     "text": [
      "Loading models: 100%|██████████| 71147/71147 [00:03<00:00, 18755.61it/s]\n"
     ]
    }
   ],
   "source": [
    "import os\n",
    "import sys\n",
    "import json\n",
    "from tqdm import tqdm\n",
    "from dotenv import load_dotenv\n",
    "import pandas as pd\n",
    "load_dotenv()\n",
    "\n",
    "project_root = os.path.abspath(os.path.join(os.path.dirname('../')))\n",
    "sys.path.append(project_root)\n",
    "\n",
    "from pymongo import MongoClient\n",
    "pymongo_client = MongoClient(os.environ.get('MONGODB_URI'))\n",
    "pydb = pymongo_client.get_database()\n",
    "\n",
    "model_dataset = dict()\n",
    "\n",
    "models = pydb.model.find({}, {'faces': 1, 'galleries': 1, 'name': 1})\n",
    "model_count = pydb.model.count_documents({})\n",
    "for _ in tqdm(range(model_count), desc=\"Loading models\"):\n",
    "  model = next(models)\n",
    "  name = model['name']\n",
    "  gallery_count = len(model['galleries'])\n",
    "  face_count = len(model['faces'])\n",
    "  model_dataset[name] = {'galleries': gallery_count, 'faces': face_count}\n",
    "model_df = pd.DataFrame(model_dataset).T\n"
   ]
  },
  {
   "cell_type": "code",
   "execution_count": 10,
   "metadata": {},
   "outputs": [
    {
     "data": {
      "text/plain": [
       "(25145, 2)"
      ]
     },
     "execution_count": 10,
     "metadata": {},
     "output_type": "execute_result"
    }
   ],
   "source": [
    "tmp_df = model_df[model_df['faces'] >= 25]\n",
    "tmp_df.shape"
   ]
  },
  {
   "cell_type": "code",
   "execution_count": 2,
   "metadata": {},
   "outputs": [
    {
     "name": "stderr",
     "output_type": "stream",
     "text": [
      "Loading models: 100%|██████████| 71147/71147 [00:02<00:00, 30188.87it/s]\n",
      "Loading dataset: 100%|██████████| 8876/8876 [00:16<00:00, 522.14it/s]\n"
     ]
    },
    {
     "name": "stdout",
     "output_type": "stream",
     "text": [
      "Accuracy: 0.9770\n"
     ]
    }
   ],
   "source": [
    "from core.face.recognizer import FaceRecognizer\n",
    "recognizer = FaceRecognizer(device='cuda:0', bf16=True)\n",
    "recognizer.evalaute()"
   ]
  },
  {
   "cell_type": "code",
   "execution_count": null,
   "metadata": {},
   "outputs": [],
   "source": [
    "from sklearn.feature_extraction.text import CountVectorizer\n",
    "\n",
    "# Sample documents\n",
    "documents = [\n",
    "    \"This is the first document.\",\n",
    "    \"This document is the second document.\",\n",
    "    \"And this is the third one.\",\n",
    "    \"Is this the first document?\",\n",
    "]\n",
    "\n",
    "# Instantiate CountVectorizer\n",
    "vectorizer = CountVectorizer()\n",
    "\n",
    "# Learn the vocabulary and transform the documents into a document-term matrix\n",
    "X = vectorizer.fit_transform(documents)\n",
    "\n",
    "# Convert a new document into its vector representation\n",
    "new_document = \"This is a new document.\"\n",
    "new_vector = vectorizer.transform([new_document]).toarray()\n",
    "\n",
    "# Perform inverse transform to obtain the original text representation\n",
    "original_text = vectorizer.inverse_transform(new_vector)\n",
    "original_text_string = ' '.join(original_text[0])\n",
    "print(original_text)\n",
    "print(original_text_string)\n",
    "print(new_vector)\n",
    "\n",
    "\n"
   ]
  }
 ],
 "metadata": {
  "kernelspec": {
   "display_name": "base",
   "language": "python",
   "name": "python3"
  },
  "language_info": {
   "codemirror_mode": {
    "name": "ipython",
    "version": 3
   },
   "file_extension": ".py",
   "mimetype": "text/x-python",
   "name": "python",
   "nbconvert_exporter": "python",
   "pygments_lexer": "ipython3",
   "version": "3.10.9"
  },
  "orig_nbformat": 4
 },
 "nbformat": 4,
 "nbformat_minor": 2
}
