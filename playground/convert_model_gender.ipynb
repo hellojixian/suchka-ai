{
 "cells": [
  {
   "cell_type": "code",
   "execution_count": 2,
   "metadata": {},
   "outputs": [],
   "source": [
    "import os, sys\n",
    "project_root = os.path.abspath(os.path.join(os.path.dirname('../')))\n",
    "sys.path.append(project_root)\n",
    "\n",
    "from deepface.basemodels import VGGFace\n",
    "tf_face = VGGFace.loadModel()\n",
    "\n",
    "from deepface.extendedmodels import Gender\n",
    "tf_gender = Gender.loadModel()\n",
    "\n",
    "# import torch\n",
    "# from core.face.vggface import VGGFace as PTVGGFace\n",
    "# torch_model = PTVGGFace()\n",
    "\n",
    "# weights_file = os.path.join(project_root, \"pretrained/vggface.pth\")\n",
    "# torch_model.load_state_dict(torch.load(weights_file))"
   ]
  },
  {
   "cell_type": "code",
   "execution_count": 6,
   "metadata": {},
   "outputs": [
    {
     "name": "stdout",
     "output_type": "stream",
     "text": [
      "38 39\n",
      "(3, 3, 3, 64) (3, 3, 3, 64)\n",
      "(3, 3, 64, 64) (3, 3, 64, 64)\n",
      "(3, 3, 64, 128) (3, 3, 64, 128)\n",
      "(3, 3, 128, 128) (3, 3, 128, 128)\n",
      "(3, 3, 128, 256) (3, 3, 128, 256)\n",
      "(3, 3, 256, 256) (3, 3, 256, 256)\n",
      "(3, 3, 256, 256) (3, 3, 256, 256)\n",
      "(3, 3, 256, 512) (3, 3, 256, 512)\n",
      "(3, 3, 512, 512) (3, 3, 512, 512)\n",
      "(3, 3, 512, 512) (3, 3, 512, 512)\n",
      "(3, 3, 512, 512) (3, 3, 512, 512)\n",
      "(3, 3, 512, 512) (3, 3, 512, 512)\n",
      "(3, 3, 512, 512) (3, 3, 512, 512)\n",
      "(7, 7, 512, 4096) (7, 7, 512, 4096)\n",
      "(1, 1, 4096, 4096) (1, 1, 4096, 4096)\n",
      "(1, 1, 4096, 2622) (1, 1, 4096, 2)\n"
     ]
    }
   ],
   "source": [
    "print(len(tf_face.layers), len(tf_gender.layers))\n",
    "print(tf_gender.layers)\n",
    "for face_layer, gender_layer in zip(tf_face.layers, tf_gender.layers):\n",
    "  if not face_layer.get_weights(): continue\n",
    "  print(face_layer.get_weights()[0].shape, gender_layer.get_weights()[0].shape)"
   ]
  },
  {
   "cell_type": "code",
   "execution_count": 19,
   "metadata": {},
   "outputs": [
    {
     "name": "stdout",
     "output_type": "stream",
     "text": [
      "[2.270510196685791, -0.28317683935165405, 0.6137429475784302, 1.8658781051635742, 2.337536573410034, 3.0819878578186035, 2.980890989303589, 1.5023161172866821, 2.195514678955078, 0.2994230389595032]\n",
      "[2.270510196685791, -0.28317683935165405, 0.6137429475784302, 1.8658781051635742, 2.337536573410034, 3.0819878578186035, 2.980890989303589, 1.5023161172866821, 2.195514678955078, 0.2994230389595032]\n",
      "[2.2696855068206787, -0.28304508328437805, 0.613831639289856, 1.8660333156585693, 2.337951183319092, 3.081942558288574, 2.98045015335083, 1.502403974533081, 2.1956019401550293, 0.29918134212493896]\n",
      "[2.2696855068206787, -0.28304508328437805, 0.613831639289856, 1.8660333156585693, 2.337951183319092, 3.081942558288574, 2.98045015335083, 1.502403974533081, 2.1956019401550293, 0.29918134212493896]\n"
     ]
    }
   ],
   "source": [
    "import cv2\n",
    "import numpy as np\n",
    "test_img = '/home/jixian/tmp/face_0_cropped.jpg'\n",
    "img = cv2.imread(test_img)\n",
    "img = cv2.resize(img, (224, 224))\n",
    "tf_img = np.expand_dims(img, axis=0)\n",
    "\n",
    "tf_res = tf_model.predict(tf_img, verbose=0)[0].tolist()\n",
    "print(tf_res[:10])\n",
    "tf_res = tf_model.predict(tf_img, verbose=0)[0].tolist()\n",
    "print(tf_res[:10])\n",
    "# convert img to torch tensor\n",
    "\n",
    "img = cv2.imread(test_img)\n",
    "img = cv2.resize(img, (224, 224))\n",
    "img = img.astype(np.float32)\n",
    "img = img.transpose(2, 0, 1)\n",
    "torch_img = torch.from_numpy(img)\n",
    "\n",
    "torch_model.eval()\n",
    "with torch.no_grad():  \n",
    "  torch_res = torch_model(torch_img).reshape(-1).detach().numpy().tolist()\n",
    "  print(torch_res[:10])\n",
    "\n",
    "  torch_res2 = torch_model(torch_img).reshape(-1).detach().numpy().tolist()\n",
    "  print(torch_res2[:10])"
   ]
  },
  {
   "cell_type": "code",
   "execution_count": 6,
   "metadata": {},
   "outputs": [
    {
     "name": "stdout",
     "output_type": "stream",
     "text": [
      "[[0.99999999]]\n",
      "[[0.99999999]]\n",
      "[[1.]]\n"
     ]
    }
   ],
   "source": [
    "from sklearn.metrics.pairwise import cosine_similarity\n",
    "print(cosine_similarity([tf_res], [torch_res]))\n",
    "print(cosine_similarity([tf_res], [torch_res2]))\n",
    "print(cosine_similarity([torch_res], [torch_res2]))\n"
   ]
  }
 ],
 "metadata": {
  "kernelspec": {
   "display_name": "base",
   "language": "python",
   "name": "python3"
  },
  "language_info": {
   "codemirror_mode": {
    "name": "ipython",
    "version": 3
   },
   "file_extension": ".py",
   "mimetype": "text/x-python",
   "name": "python",
   "nbconvert_exporter": "python",
   "pygments_lexer": "ipython3",
   "version": "3.10.9"
  },
  "orig_nbformat": 4
 },
 "nbformat": 4,
 "nbformat_minor": 2
}
