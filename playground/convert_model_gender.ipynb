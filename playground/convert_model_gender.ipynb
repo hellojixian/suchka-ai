{
 "cells": [
  {
   "cell_type": "code",
   "execution_count": 8,
   "metadata": {},
   "outputs": [
    {
     "ename": "RuntimeError",
     "evalue": "Error(s) in loading state_dict for Gender:\n\tUnexpected key(s) in state_dict: \"features.0.weight\", \"features.0.bias\", \"features.2.weight\", \"features.2.bias\", \"features.5.weight\", \"features.5.bias\", \"features.7.weight\", \"features.7.bias\", \"features.10.weight\", \"features.10.bias\", \"features.12.weight\", \"features.12.bias\", \"features.14.weight\", \"features.14.bias\", \"features.17.weight\", \"features.17.bias\", \"features.19.weight\", \"features.19.bias\", \"features.21.weight\", \"features.21.bias\", \"features.24.weight\", \"features.24.bias\", \"features.26.weight\", \"features.26.bias\", \"features.28.weight\", \"features.28.bias\". \n\tsize mismatch for classifier.6.weight: copying a param with shape torch.Size([2622, 4096, 1, 1]) from checkpoint, the shape in current model is torch.Size([2, 4096, 1, 1]).\n\tsize mismatch for classifier.6.bias: copying a param with shape torch.Size([2622]) from checkpoint, the shape in current model is torch.Size([2]).",
     "output_type": "error",
     "traceback": [
      "\u001b[0;31m---------------------------------------------------------------------------\u001b[0m",
      "\u001b[0;31mRuntimeError\u001b[0m                              Traceback (most recent call last)",
      "Cell \u001b[0;32mIn[8], line 12\u001b[0m\n\u001b[1;32m      9\u001b[0m tf_gender \u001b[39m=\u001b[39m Gender\u001b[39m.\u001b[39mloadModel()\n\u001b[1;32m     11\u001b[0m \u001b[39mfrom\u001b[39;00m \u001b[39mcore\u001b[39;00m\u001b[39m.\u001b[39;00m\u001b[39mface\u001b[39;00m\u001b[39m.\u001b[39;00m\u001b[39mgender\u001b[39;00m \u001b[39mimport\u001b[39;00m Gender \u001b[39mas\u001b[39;00m PTGender\n\u001b[0;32m---> 12\u001b[0m pt_gender \u001b[39m=\u001b[39m PTGender()\n\u001b[1;32m     14\u001b[0m \u001b[39mfrom\u001b[39;00m \u001b[39mcore\u001b[39;00m\u001b[39m.\u001b[39;00m\u001b[39mface\u001b[39;00m\u001b[39m.\u001b[39;00m\u001b[39mvggface\u001b[39;00m \u001b[39mimport\u001b[39;00m VGGFace \u001b[39mas\u001b[39;00m PTVGGFace\n\u001b[1;32m     15\u001b[0m torch_model \u001b[39m=\u001b[39m PTVGGFace()\n",
      "File \u001b[0;32m~/github/suchka-ai/core/face/gender.py:24\u001b[0m, in \u001b[0;36mGender.__init__\u001b[0;34m(self)\u001b[0m\n\u001b[1;32m     22\u001b[0m \u001b[39mself\u001b[39m\u001b[39m.\u001b[39mflatten \u001b[39m=\u001b[39m nn\u001b[39m.\u001b[39mFlatten(start_dim\u001b[39m=\u001b[39m\u001b[39m0\u001b[39m)\n\u001b[1;32m     23\u001b[0m \u001b[39mself\u001b[39m\u001b[39m.\u001b[39msoftmax \u001b[39m=\u001b[39m nn\u001b[39m.\u001b[39mSoftmax(dim\u001b[39m=\u001b[39m\u001b[39m0\u001b[39m)\n\u001b[0;32m---> 24\u001b[0m \u001b[39mself\u001b[39;49m\u001b[39m.\u001b[39;49mload_weights()\n",
      "File \u001b[0;32m~/github/suchka-ai/core/face/gender.py:41\u001b[0m, in \u001b[0;36mGender.load_weights\u001b[0;34m(self, path)\u001b[0m\n\u001b[1;32m     39\u001b[0m \u001b[39mif\u001b[39;00m \u001b[39mnot\u001b[39;00m os\u001b[39m.\u001b[39mpath\u001b[39m.\u001b[39mexists(path): \u001b[39mraise\u001b[39;00m \u001b[39mException\u001b[39;00m(\u001b[39mf\u001b[39m\u001b[39m'\u001b[39m\u001b[39mNo such file: \u001b[39m\u001b[39m{\u001b[39;00mpath\u001b[39m}\u001b[39;00m\u001b[39m'\u001b[39m)\n\u001b[1;32m     40\u001b[0m state_dict \u001b[39m=\u001b[39m torch\u001b[39m.\u001b[39mload(path)\n\u001b[0;32m---> 41\u001b[0m \u001b[39mself\u001b[39;49m\u001b[39m.\u001b[39;49mload_state_dict(state_dict)\n\u001b[1;32m     42\u001b[0m \u001b[39mself\u001b[39m\u001b[39m.\u001b[39meval()\n",
      "File \u001b[0;32m~/anaconda3/lib/python3.10/site-packages/torch/nn/modules/module.py:2041\u001b[0m, in \u001b[0;36mModule.load_state_dict\u001b[0;34m(self, state_dict, strict)\u001b[0m\n\u001b[1;32m   2036\u001b[0m         error_msgs\u001b[39m.\u001b[39minsert(\n\u001b[1;32m   2037\u001b[0m             \u001b[39m0\u001b[39m, \u001b[39m'\u001b[39m\u001b[39mMissing key(s) in state_dict: \u001b[39m\u001b[39m{}\u001b[39;00m\u001b[39m. \u001b[39m\u001b[39m'\u001b[39m\u001b[39m.\u001b[39mformat(\n\u001b[1;32m   2038\u001b[0m                 \u001b[39m'\u001b[39m\u001b[39m, \u001b[39m\u001b[39m'\u001b[39m\u001b[39m.\u001b[39mjoin(\u001b[39m'\u001b[39m\u001b[39m\"\u001b[39m\u001b[39m{}\u001b[39;00m\u001b[39m\"\u001b[39m\u001b[39m'\u001b[39m\u001b[39m.\u001b[39mformat(k) \u001b[39mfor\u001b[39;00m k \u001b[39min\u001b[39;00m missing_keys)))\n\u001b[1;32m   2040\u001b[0m \u001b[39mif\u001b[39;00m \u001b[39mlen\u001b[39m(error_msgs) \u001b[39m>\u001b[39m \u001b[39m0\u001b[39m:\n\u001b[0;32m-> 2041\u001b[0m     \u001b[39mraise\u001b[39;00m \u001b[39mRuntimeError\u001b[39;00m(\u001b[39m'\u001b[39m\u001b[39mError(s) in loading state_dict for \u001b[39m\u001b[39m{}\u001b[39;00m\u001b[39m:\u001b[39m\u001b[39m\\n\u001b[39;00m\u001b[39m\\t\u001b[39;00m\u001b[39m{}\u001b[39;00m\u001b[39m'\u001b[39m\u001b[39m.\u001b[39mformat(\n\u001b[1;32m   2042\u001b[0m                        \u001b[39mself\u001b[39m\u001b[39m.\u001b[39m\u001b[39m__class__\u001b[39m\u001b[39m.\u001b[39m\u001b[39m__name__\u001b[39m, \u001b[39m\"\u001b[39m\u001b[39m\\n\u001b[39;00m\u001b[39m\\t\u001b[39;00m\u001b[39m\"\u001b[39m\u001b[39m.\u001b[39mjoin(error_msgs)))\n\u001b[1;32m   2043\u001b[0m \u001b[39mreturn\u001b[39;00m _IncompatibleKeys(missing_keys, unexpected_keys)\n",
      "\u001b[0;31mRuntimeError\u001b[0m: Error(s) in loading state_dict for Gender:\n\tUnexpected key(s) in state_dict: \"features.0.weight\", \"features.0.bias\", \"features.2.weight\", \"features.2.bias\", \"features.5.weight\", \"features.5.bias\", \"features.7.weight\", \"features.7.bias\", \"features.10.weight\", \"features.10.bias\", \"features.12.weight\", \"features.12.bias\", \"features.14.weight\", \"features.14.bias\", \"features.17.weight\", \"features.17.bias\", \"features.19.weight\", \"features.19.bias\", \"features.21.weight\", \"features.21.bias\", \"features.24.weight\", \"features.24.bias\", \"features.26.weight\", \"features.26.bias\", \"features.28.weight\", \"features.28.bias\". \n\tsize mismatch for classifier.6.weight: copying a param with shape torch.Size([2622, 4096, 1, 1]) from checkpoint, the shape in current model is torch.Size([2, 4096, 1, 1]).\n\tsize mismatch for classifier.6.bias: copying a param with shape torch.Size([2622]) from checkpoint, the shape in current model is torch.Size([2])."
     ]
    }
   ],
   "source": [
    "import os, sys\n",
    "project_root = os.path.abspath(os.path.join(os.path.dirname('../')))\n",
    "sys.path.append(project_root)\n",
    "\n",
    "from deepface.basemodels import VGGFace\n",
    "tf_face = VGGFace.loadModel()\n",
    "\n",
    "from deepface.extendedmodels import Gender\n",
    "tf_gender = Gender.loadModel()\n",
    "\n",
    "from core.face.gender import Gender as PTGender\n",
    "pt_gender = PTGender()\n",
    "\n",
    "from core.face.vggface import VGGFace as PTVGGFace\n",
    "torch_model = PTVGGFace()\n",
    "# import torch\n",
    "# from core.face.vggface import VGGFace as PTVGGFace\n",
    "# torch_model = PTVGGFace()\n",
    "\n",
    "# weights_file = os.path.join(project_root, \"pretrained/vggface.pth\")\n",
    "# torch_model.load_state_dict(torch.load(weights_file))"
   ]
  },
  {
   "cell_type": "code",
   "execution_count": null,
   "metadata": {},
   "outputs": [],
   "source": [
    "import numpy as np\n",
    "import torch\n",
    "print(len(tf_face.layers), len(tf_gender.layers))\n",
    "\n",
    "tf_gender_layer_id = 0\n",
    "for i in range(len(tf_gender.layers)):  \n",
    "  face_layer = tf_face.layers[i] if i < len(tf_face.layers) else None\n",
    "  gender_layer =  tf_gender.layers[i]\n",
    "  if face_layer: \n",
    "    pass\n",
    "  #   print(face_layer.name, gender_layer.name)\n",
    "  else:\n",
    "  #   print(gender_layer.name)\n",
    "    continue\n",
    "  \n",
    "  if not gender_layer.get_weights(): continue\n",
    "  flatten_face_weights = face_layer.get_weights()[0].reshape(-1)\n",
    "  flatten_gender_weights = gender_layer.get_weights()[0].reshape(-1)\n",
    "  \n",
    "  if not np.array_equal(flatten_face_weights, flatten_gender_weights):    \n",
    "    print(face_layer.get_weights()[0].shape, gender_layer.get_weights()[0].shape)\n",
    "    pt_gender_layer_id = 0\n",
    "    for pt_gender_layer in pt_gender.modules():\n",
    "      if isinstance(pt_gender_layer, torch.nn.Conv2d):\n",
    "        if gender_layer.get_weights():\n",
    "          if (pt_gender_layer_id == tf_gender_layer_id):\n",
    "            weights = gender_layer.get_weights()\n",
    "            pt_gender_layer.weight.data = torch.from_numpy(weights[0].transpose(3, 2, 0, 1))\n",
    "            pt_gender_layer.bias.data = torch.from_numpy(weights[1])\n",
    "            print(gender_layer)\n",
    "            print(gender_layer.get_weights()[0].shape, pt_gender_layer.weight.data.shape)\n",
    "            print(flatten_face_weights[:10])\n",
    "            print(flatten_gender_weights[:10])\n",
    "            print('------------------')\n",
    "        pt_gender_layer_id += 1      \n",
    "    tf_gender_layer_id += 1          \n",
    "    \n",
    "torch.save(pt_gender.state_dict(), os.path.join(project_root, \"pretrained/gender.pth\"))"
   ]
  },
  {
   "cell_type": "code",
   "execution_count": 7,
   "metadata": {},
   "outputs": [
    {
     "name": "stdout",
     "output_type": "stream",
     "text": [
      "[0.9999594688415527, 4.055035242345184e-05]\n",
      "[0.9999594688415527, 4.055035242345184e-05]\n"
     ]
    },
    {
     "ename": "NameError",
     "evalue": "name 'pt_gender' is not defined",
     "output_type": "error",
     "traceback": [
      "\u001b[0;31m---------------------------------------------------------------------------\u001b[0m",
      "\u001b[0;31mNameError\u001b[0m                                 Traceback (most recent call last)",
      "Cell \u001b[0;32mIn[7], line 25\u001b[0m\n\u001b[1;32m     22\u001b[0m img \u001b[39m=\u001b[39m img\u001b[39m.\u001b[39mtranspose(\u001b[39m2\u001b[39m, \u001b[39m0\u001b[39m, \u001b[39m1\u001b[39m)\n\u001b[1;32m     23\u001b[0m torch_img \u001b[39m=\u001b[39m torch\u001b[39m.\u001b[39mfrom_numpy(img)\n\u001b[0;32m---> 25\u001b[0m pt_gender\u001b[39m.\u001b[39meval()\n\u001b[1;32m     26\u001b[0m \u001b[39mwith\u001b[39;00m torch\u001b[39m.\u001b[39mno_grad():  \n\u001b[1;32m     27\u001b[0m   features \u001b[39m=\u001b[39m torch_model\u001b[39m.\u001b[39mfeatures(torch_img)\n",
      "\u001b[0;31mNameError\u001b[0m: name 'pt_gender' is not defined"
     ]
    }
   ],
   "source": [
    "import torch\n",
    "import cv2\n",
    "import numpy as np\n",
    "\n",
    "test_img = '/home/jixian/tmp/face_0_cropped.jpg'\n",
    "test_img = '/home/jixian/tmp/3e6469e1b29ffa4e399cdd3b4e974a71914ca34c.jpg'\n",
    "img = cv2.imread(test_img)\n",
    "img = cv2.resize(img, (224, 224))\n",
    "tf_img = np.expand_dims(img, axis=0)\n",
    "tf_img = tf_img.astype(np.float32)\n",
    "tf_img /= 255.0\n",
    "tf_res = tf_gender.predict(tf_img, verbose=0)[0].tolist()\n",
    "print(tf_res)\n",
    "tf_res = tf_gender.predict(tf_img, verbose=0)[0].tolist()\n",
    "print(tf_res)\n",
    "# convert img to torch tensor\n",
    "\n",
    "img = cv2.imread(test_img)\n",
    "img = cv2.resize(img, (224, 224))\n",
    "img = img.astype(np.float32)\n",
    "img /= 255.0\n",
    "img = img.transpose(2, 0, 1)\n",
    "torch_img = torch.from_numpy(img)\n",
    "\n",
    "pt_gender.eval()\n",
    "with torch.no_grad():  \n",
    "  features = torch_model.features(torch_img)\n",
    "  # print(features.shape, features[:10])\n",
    "  torch_res = pt_gender(features).detach().numpy().tolist()\n",
    "  print('pt_gender:',torch_res)\n",
    "    \n",
    "  torch_res = pt_gender.predict(features)\n",
    "  print(torch_res)\n",
    "\n",
    "#   torch_res2 = torch_model(torch_img).reshape(-1).detach().numpy().tolist()\n",
    "#   print(torch_res2[:10])"
   ]
  }
 ],
 "metadata": {
  "kernelspec": {
   "display_name": "base",
   "language": "python",
   "name": "python3"
  },
  "language_info": {
   "codemirror_mode": {
    "name": "ipython",
    "version": 3
   },
   "file_extension": ".py",
   "mimetype": "text/x-python",
   "name": "python",
   "nbconvert_exporter": "python",
   "pygments_lexer": "ipython3",
   "version": "3.10.9"
  },
  "orig_nbformat": 4
 },
 "nbformat": 4,
 "nbformat_minor": 2
}
