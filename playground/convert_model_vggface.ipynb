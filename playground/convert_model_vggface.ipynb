{
 "cells": [
  {
   "cell_type": "code",
   "execution_count": 1,
   "metadata": {},
   "outputs": [
    {
     "name": "stderr",
     "output_type": "stream",
     "text": [
      "2023-06-13 18:47:31.777210: I tensorflow/core/util/port.cc:110] oneDNN custom operations are on. You may see slightly different numerical results due to floating-point round-off errors from different computation orders. To turn them off, set the environment variable `TF_ENABLE_ONEDNN_OPTS=0`.\n",
      "2023-06-13 18:47:31.796034: I tensorflow/core/platform/cpu_feature_guard.cc:182] This TensorFlow binary is optimized to use available CPU instructions in performance-critical operations.\n",
      "To enable the following instructions: AVX2 AVX512F AVX512_VNNI AVX512_BF16 FMA, in other operations, rebuild TensorFlow with the appropriate compiler flags.\n"
     ]
    },
    {
     "ename": "",
     "evalue": "",
     "output_type": "error",
     "traceback": [
      "\u001b[1;31mCanceled future for execute_request message before replies were done"
     ]
    },
    {
     "ename": "",
     "evalue": "",
     "output_type": "error",
     "traceback": [
      "\u001b[1;31mThe Kernel crashed while executing code in the the current cell or a previous cell. Please review the code in the cell(s) to identify a possible cause of the failure. Click <a href='https://aka.ms/vscodeJupyterKernelCrash'>here</a> for more info. View Jupyter <a href='command:jupyter.viewOutput'>log</a> for further details."
     ]
    }
   ],
   "source": [
    "import os, sys\n",
    "project_root = os.path.abspath(os.path.join(os.path.dirname('../')))\n",
    "sys.path.append(project_root)\n",
    "\n",
    "from deepface.basemodels import VGGFace\n",
    "tf_model = VGGFace.loadModel()\n",
    "\n",
    "import torch\n",
    "from core.face.vggface import VGGFace as PTVGGFace\n",
    "torch_model = PTVGGFace()\n",
    "\n",
    "weights_file = os.path.join(project_root, \"pretrained/vggface.pth\")\n",
    "torch_model.load_weights(weights_file)\n",
    "# state_dict = torch.load(weights_file)\n",
    "# mappped_state_dict = {\n",
    "#   'features.31.weight' : 'classifier.0.weight',\n",
    "#   'features.31.bias' : 'classifier.0.bias',\n",
    "#   'features.34.weight' : 'classifier.3.weight',\n",
    "#   'features.34.bias' : 'classifier.3.bias',\n",
    "#   'features.37.weight' : 'classifier.6.weight',\n",
    "#   'features.37.bias' : 'classifier.6.bias',\n",
    "# }\n",
    "# for dict_key, mapped_key in mappped_state_dict.items():\n",
    "#   state_dict[mapped_key] = state_dict.pop(dict_key)\n",
    "# torch_model.eval()\n",
    "# torch_model.load_state_dict(state_dict)\n"
   ]
  },
  {
   "cell_type": "code",
   "execution_count": null,
   "metadata": {},
   "outputs": [],
   "source": [
    "import cv2\n",
    "import numpy as np\n",
    "test_img = '/home/jixian/tmp/face_0_cropped.jpg'\n",
    "img = cv2.imread(test_img)\n",
    "img = cv2.resize(img, (224, 224))\n",
    "tf_img = np.expand_dims(img, axis=0)\n",
    "\n",
    "tf_res = tf_model.predict(tf_img, verbose=0)[0].tolist()\n",
    "print(tf_res[:10])\n",
    "tf_res = tf_model.predict(tf_img, verbose=0)[0].tolist()\n",
    "print(tf_res[:10])\n",
    "# convert img to torch tensor\n",
    "\n",
    "img = cv2.imread(test_img)\n",
    "img = cv2.resize(img, (224, 224))\n",
    "img = img.astype(np.float32)\n",
    "img = img.transpose(2, 0, 1)\n",
    "torch_img = torch.from_numpy(img)\n",
    "\n",
    "with torch.no_grad():\n",
    "  torch_res = torch_model.embedding(torch_img).reshape(-1).detach().numpy().tolist()\n",
    "  print(torch_res[:10])\n",
    "\n",
    "  torch_res2 = torch_model.embedding(torch_img).reshape(-1).detach().numpy().tolist()\n",
    "  print(torch_res2[:10])"
   ]
  },
  {
   "cell_type": "code",
   "execution_count": null,
   "metadata": {},
   "outputs": [],
   "source": [
    "from sklearn.metrics.pairwise import cosine_similarity\n",
    "print(cosine_similarity([tf_res], [torch_res]))\n",
    "print(cosine_similarity([tf_res], [torch_res2]))\n",
    "print(cosine_similarity([torch_res], [torch_res2]))\n"
   ]
  },
  {
   "cell_type": "code",
   "execution_count": null,
   "metadata": {},
   "outputs": [],
   "source": [
    "torch.save(torch_model.state_dict(), weights_file)\n",
    "torch_model.load_weights(weights_file)"
   ]
  }
 ],
 "metadata": {
  "kernelspec": {
   "display_name": "base",
   "language": "python",
   "name": "python3"
  },
  "language_info": {
   "codemirror_mode": {
    "name": "ipython",
    "version": 3
   },
   "file_extension": ".py",
   "mimetype": "text/x-python",
   "name": "python",
   "nbconvert_exporter": "python",
   "pygments_lexer": "ipython3",
   "version": "3.10.9"
  },
  "orig_nbformat": 4
 },
 "nbformat": 4,
 "nbformat_minor": 2
}
