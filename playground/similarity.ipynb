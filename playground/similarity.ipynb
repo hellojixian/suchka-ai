{
 "cells": [
  {
   "cell_type": "code",
   "execution_count": 16,
   "metadata": {},
   "outputs": [
    {
     "name": "stdout",
     "output_type": "stream",
     "text": [
      "0.6418895816748611\n"
     ]
    }
   ],
   "source": [
    "from sklearn.metrics.pairwise import cosine_similarity\n",
    "import numpy as np\n",
    "import pickle\n",
    "\n",
    "def calculate_average_similarity(vectors):\n",
    "    # 将向量转换为NumPy数组\n",
    "    vectors = np.array(vectors)\n",
    "    \n",
    "    # 计算余弦相似度矩阵\n",
    "    similarity_matrix = cosine_similarity(vectors)\n",
    "    \n",
    "    # 计算两两相似度的平均值\n",
    "    average_similarity = np.mean(similarity_matrix)\n",
    "    \n",
    "    return average_similarity\n",
    "\n",
    "# model_name = 'Jessy Jones'  \n",
    "# model_name = 'John Strong'\n",
    "\n",
    "# model_name = 'Alissa White'\n",
    "# model_name = 'Irina Cage'\n",
    "# model_name = 'Justine Joli'\n",
    "# model_name = 'Ginger Lea'\n",
    "model_name = 'Bella Moretti'\n",
    "model_name = 'Gianna Rivera'\n",
    "model_name = 'Jenny Sanders'\n",
    "\n",
    "embeddings_file = f'/home/jixian/github/suchka-ai/output/faces/{model_name}/embeddings.pickle'\n",
    "with open(embeddings_file, 'rb') as file: embeddings = pickle.load(file)\n",
    "average_similarity = calculate_average_similarity(embeddings)\n",
    "print(average_similarity)\n"
   ]
  }
 ],
 "metadata": {
  "kernelspec": {
   "display_name": "base",
   "language": "python",
   "name": "python3"
  },
  "language_info": {
   "codemirror_mode": {
    "name": "ipython",
    "version": 3
   },
   "file_extension": ".py",
   "mimetype": "text/x-python",
   "name": "python",
   "nbconvert_exporter": "python",
   "pygments_lexer": "ipython3",
   "version": "3.10.9"
  },
  "orig_nbformat": 4
 },
 "nbformat": 4,
 "nbformat_minor": 2
}
