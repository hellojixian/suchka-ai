{
 "cells": [
  {
   "cell_type": "code",
   "execution_count": 1,
   "metadata": {},
   "outputs": [
    {
     "name": "stderr",
     "output_type": "stream",
     "text": [
      "2023-06-13 18:54:46.150286: I tensorflow/core/util/port.cc:110] oneDNN custom operations are on. You may see slightly different numerical results due to floating-point round-off errors from different computation orders. To turn them off, set the environment variable `TF_ENABLE_ONEDNN_OPTS=0`.\n",
      "2023-06-13 18:54:46.170703: I tensorflow/core/platform/cpu_feature_guard.cc:182] This TensorFlow binary is optimized to use available CPU instructions in performance-critical operations.\n",
      "To enable the following instructions: AVX2 AVX512F AVX512_VNNI AVX512_BF16 FMA, in other operations, rebuild TensorFlow with the appropriate compiler flags.\n",
      "2023-06-13 18:54:47.618467: I tensorflow/core/common_runtime/gpu/gpu_device.cc:1635] Created device /job:localhost/replica:0/task:0/device:GPU:0 with 20548 MB memory:  -> device: 0, name: NVIDIA GeForce RTX 4090, pci bus id: 0000:01:00.0, compute capability: 8.9\n",
      "2023-06-13 18:54:47.618791: I tensorflow/core/common_runtime/gpu/gpu_device.cc:1635] Created device /job:localhost/replica:0/task:0/device:GPU:1 with 20550 MB memory:  -> device: 1, name: NVIDIA GeForce RTX 4090, pci bus id: 0000:09:00.0, compute capability: 8.9\n"
     ]
    },
    {
     "data": {
      "text/plain": [
       "<All keys matched successfully>"
      ]
     },
     "execution_count": 1,
     "metadata": {},
     "output_type": "execute_result"
    }
   ],
   "source": [
    "import os, sys\n",
    "project_root = os.path.abspath(os.path.join(os.path.dirname('../')))\n",
    "sys.path.append(project_root)\n",
    "\n",
    "from deepface.basemodels import VGGFace\n",
    "tf_model = VGGFace.loadModel()\n",
    "\n",
    "import torch\n",
    "from core.face.vggface import VGGFace as PTVGGFace\n",
    "torch_model = PTVGGFace()\n",
    "\n",
    "weights_file = os.path.join(project_root, \"pretrained/vggface.pth\")\n",
    "torch_model.load_state_dict(torch.load(weights_file))"
   ]
  },
  {
   "cell_type": "code",
   "execution_count": 2,
   "metadata": {},
   "outputs": [
    {
     "name": "stderr",
     "output_type": "stream",
     "text": [
      "2023-06-13 18:54:51.155529: I tensorflow/compiler/xla/stream_executor/cuda/cuda_dnn.cc:424] Loaded cuDNN version 8902\n",
      "2023-06-13 18:54:52.057407: I tensorflow/compiler/xla/stream_executor/cuda/cuda_blas.cc:637] TensorFloat-32 will be used for the matrix multiplication. This will only be logged once.\n"
     ]
    },
    {
     "name": "stdout",
     "output_type": "stream",
     "text": [
      "[2.2699434757232666, -0.28263378143310547, 0.6138363480567932, 1.866096019744873, 2.337451457977295, 3.082468271255493, 2.981257915496826, 1.5025928020477295, 2.1959218978881836, 0.29972636699676514]\n",
      "[2.2699434757232666, -0.28263378143310547, 0.6138363480567932, 1.866096019744873, 2.337451457977295, 3.082468271255493, 2.981257915496826, 1.5025928020477295, 2.1959218978881836, 0.29972636699676514]\n",
      "[2.2696855068206787, -0.28304508328437805, 0.613831639289856, 1.8660333156585693, 2.337951183319092, 3.081942558288574, 2.98045015335083, 1.502403974533081, 2.1956019401550293, 0.29918134212493896]\n",
      "[2.2696855068206787, -0.28304508328437805, 0.613831639289856, 1.8660333156585693, 2.337951183319092, 3.081942558288574, 2.98045015335083, 1.502403974533081, 2.1956019401550293, 0.29918134212493896]\n"
     ]
    }
   ],
   "source": [
    "import cv2\n",
    "import numpy as np\n",
    "test_img = '/home/jixian/tmp/face_0_cropped.jpg'\n",
    "img = cv2.imread(test_img)\n",
    "img = cv2.resize(img, (224, 224))\n",
    "tf_img = np.expand_dims(img, axis=0)\n",
    "\n",
    "tf_res = tf_model.predict(tf_img, verbose=0)[0].tolist()\n",
    "print(tf_res[:10])\n",
    "tf_res = tf_model.predict(tf_img, verbose=0)[0].tolist()\n",
    "print(tf_res[:10])\n",
    "# convert img to torch tensor\n",
    "\n",
    "img = cv2.imread(test_img)\n",
    "img = cv2.resize(img, (224, 224))\n",
    "img = img.astype(np.float32)\n",
    "img = img.transpose(2, 0, 1)\n",
    "torch_img = torch.from_numpy(img)\n",
    "\n",
    "torch_model.eval()\n",
    "with torch.no_grad():  \n",
    "  torch_res = torch_model(torch_img).reshape(-1).detach().numpy().tolist()\n",
    "  print(torch_res[:10])\n",
    "\n",
    "  torch_res2 = torch_model.embedding(torch_img).reshape(-1).detach().numpy().tolist()\n",
    "  print(torch_res2[:10])"
   ]
  },
  {
   "cell_type": "code",
   "execution_count": 3,
   "metadata": {},
   "outputs": [
    {
     "name": "stdout",
     "output_type": "stream",
     "text": [
      "[[0.99999999]]\n",
      "[[0.99999999]]\n",
      "[[1.]]\n"
     ]
    }
   ],
   "source": [
    "from sklearn.metrics.pairwise import cosine_similarity\n",
    "print(cosine_similarity([tf_res], [torch_res]))\n",
    "print(cosine_similarity([tf_res], [torch_res2]))\n",
    "print(cosine_similarity([torch_res], [torch_res2]))\n"
   ]
  }
 ],
 "metadata": {
  "kernelspec": {
   "display_name": "base",
   "language": "python",
   "name": "python3"
  },
  "language_info": {
   "codemirror_mode": {
    "name": "ipython",
    "version": 3
   },
   "file_extension": ".py",
   "mimetype": "text/x-python",
   "name": "python",
   "nbconvert_exporter": "python",
   "pygments_lexer": "ipython3",
   "version": "3.10.9"
  },
  "orig_nbformat": 4
 },
 "nbformat": 4,
 "nbformat_minor": 2
}
