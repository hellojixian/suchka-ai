{
 "cells": [
  {
   "cell_type": "code",
   "execution_count": 2,
   "metadata": {},
   "outputs": [
    {
     "name": "stdout",
     "output_type": "stream",
     "text": [
      "94.17728185653687\n",
      "{'Woman': 5.8227162808179855, 'Man': 94.17728185653687}\n"
     ]
    }
   ],
   "source": [
    "import os\n",
    "import numpy as np\n",
    "from deepface import DeepFace\n",
    "from dotenv import load_dotenv\n",
    "load_dotenv()\n",
    "\n",
    "DEEPFACE_BACKEND = os.getenv(\"DEEPFACE_BACKEND\")\n",
    "DEEPFACE_MODEL = os.getenv(\"DEEPFACE_MODEL\")\n",
    "\n",
    "testfile = '/storage/suchka-facedb/Candice B/9606c1a39b031d95af381a7b51bc9f57922403bb.jpg'\n",
    "# testfile = '/storage/suchka-facedb/Candice B/18756a1e693da4f34648cc09757d4ab7dfd612b2.jpg'\n",
    "testfile = '/storage/suchka-facedb/Ellie Luna/6ad998f80de0b61f31965e21a93401c68cf01dce.jpg'\n",
    "testfile = '/storage/suchka-facedb/Ellie Luna/8a38e4707fb60f949e35c7a3028c017834db411b.jpg'\n",
    "testfile = '/storage/suchka-facedb/Lew Rubens/2a3d2a5c8e054f26cbd5d93c09b1d8d0d052723f.jpg'\n",
    "face_analysis = DeepFace.analyze(img_path = testfile,\n",
    "                                       actions=['gender'],\n",
    "                                       enforce_detection=False,\n",
    "                                       silent=True,\n",
    "                                       align=True,\n",
    "                                       detector_backend = DEEPFACE_BACKEND)\n",
    "face_gender = face_analysis[0]['gender']\n",
    "max_gender = np.max([face_gender['Man'], face_gender['Woman']])\n",
    "print(max_gender)                                       \n",
    "print(face_gender)"
   ]
  }
 ],
 "metadata": {
  "kernelspec": {
   "display_name": "base",
   "language": "python",
   "name": "python3"
  },
  "language_info": {
   "codemirror_mode": {
    "name": "ipython",
    "version": 3
   },
   "file_extension": ".py",
   "mimetype": "text/x-python",
   "name": "python",
   "nbconvert_exporter": "python",
   "pygments_lexer": "ipython3",
   "version": "3.10.9"
  },
  "orig_nbformat": 4
 },
 "nbformat": 4,
 "nbformat_minor": 2
}
