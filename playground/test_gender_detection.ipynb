{
 "cells": [
  {
   "cell_type": "code",
   "execution_count": 3,
   "metadata": {},
   "outputs": [
    {
     "name": "stdout",
     "output_type": "stream",
     "text": [
      "59.19857621192932\n",
      "{'Woman': 40.80142378807068, 'Man': 59.19857621192932}\n"
     ]
    },
    {
     "ename": "",
     "evalue": "",
     "output_type": "error",
     "traceback": [
      "\u001b[1;31mThe Kernel crashed while executing code in the the current cell or a previous cell. Please review the code in the cell(s) to identify a possible cause of the failure. Click <a href='https://aka.ms/vscodeJupyterKernelCrash'>here</a> for more info. View Jupyter <a href='command:jupyter.viewOutput'>log</a> for further details."
     ]
    }
   ],
   "source": [
    "import os\n",
    "import numpy as np\n",
    "from deepface import DeepFace\n",
    "from dotenv import load_dotenv\n",
    "load_dotenv()\n",
    "\n",
    "DEEPFACE_BACKEND = os.getenv(\"DEEPFACE_BACKEND\")\n",
    "DEEPFACE_MODEL = os.getenv(\"DEEPFACE_MODEL\")\n",
    "\n",
    "testfile = '/storage/suchka-facedb/Candice B/9606c1a39b031d95af381a7b51bc9f57922403bb.jpg'\n",
    "# testfile = '/storage/suchka-facedb/Candice B/18756a1e693da4f34648cc09757d4ab7dfd612b2.jpg'\n",
    "testfile = '/storage/suchka-facedb/Ellie Luna/6ad998f80de0b61f31965e21a93401c68cf01dce.jpg'\n",
    "testfile = '/storage/suchka-facedb/Ellie Luna/8a38e4707fb60f949e35c7a3028c017834db411b.jpg'\n",
    "testfile = '/storage/suchka-facedb/Lew Rubens/2a3d2a5c8e054f26cbd5d93c09b1d8d0d052723f.jpg'\n",
    "face_analysis = DeepFace.analyze(img_path = testfile,\n",
    "                                       actions=['gender'],\n",
    "                                       enforce_detection=False,\n",
    "                                       silent=True,\n",
    "                                       align=True,\n",
    "                                       detector_backend = DEEPFACE_BACKEND)\n",
    "face_gender = face_analysis[0]['gender']\n",
    "max_gender = np.max([face_gender['Man'], face_gender['Woman']])\n",
    "print(max_gender)                                       \n",
    "print(face_gender)"
   ]
  },
  {
   "cell_type": "code",
   "execution_count": 6,
   "metadata": {},
   "outputs": [
    {
     "name": "stdout",
     "output_type": "stream",
     "text": [
      "Woman    88.119903\n",
      "Man      11.880096\n",
      "dtype: float64\n",
      "Woman\n",
      "                                                  Woman        Man\n",
      "83f08c5297d5d4b8a9c2784d10206f55c2b36099.jpg  92.257160   7.742842\n",
      "1dd0c5bd161bb3a72f982a74ac95416554452437.jpg  99.024487   0.975516\n",
      "916068739cf6aab51b4a354b3b0dc7dbcabfeb9a.jpg  99.849534   0.150469\n",
      "7e66b99feb5dc043b751c7828341a7e7193cbf17.jpg  99.827623   0.172373\n",
      "4d3a245961e1fd7dbe6bc707207ec279e3b53f89.jpg  99.930251   0.069747\n",
      "0b64699575c89460b8d635e223c733e04498b29a.jpg   3.496748  96.503252\n",
      "f9efa4a65eea89b3e9fce9b9e5bbb48ee08dc263.jpg  93.273300   6.726697\n",
      "67150bfa9d4c9574c17e8fc70feaafb79a193892.jpg  96.971256   3.028742\n",
      "2058b489a6a9f33b2286bdcd845d7a8c833fb8c1.jpg  99.951661   0.048338\n",
      "bb6cb4d275badf3b8236183a183276333844e5a5.jpg  99.266785   0.733212\n",
      "c4b86ea58917000033348334937ec3fd4870c099.jpg  99.281186   0.718808\n",
      "f4a45b8489fb4162c36ee6bfa7ee5582b561b21c.jpg  99.839717   0.160282\n",
      "787fc8e1cb45ad37b4b831ecbd80096f881eab55.jpg  99.562573   0.437427\n",
      "8ef0b0fda6e73b91c100aa00a79826711025514d.jpg   3.149550  96.850455\n",
      "2ae5d45ad320b97b56c5a4df51ab1091384a3e7b.jpg  99.827182   0.172812\n",
      "fa30a3c602cae97a5d223e1f244fad2681f9cf24.jpg  99.780458   0.219543\n",
      "2de06c3c16b5f143be71f872ed38323543681535.jpg  90.551513   9.448490\n",
      "0e59adc5bc5b4a7a63570d1b091844d35e8dbda6.jpg  99.855870   0.144132\n",
      "b82d32685ba63c8b434aec23bf6ab4378a6837a2.jpg  98.581296   1.418696\n"
     ]
    }
   ],
   "source": [
    "import pickle\n",
    "import pandas as pd\n",
    "\n",
    "gender_file = '/storage/suchka-facedb/Lew Rubens/gender.pickle'\n",
    "gender_df = pd.read_pickle(gender_file)\n",
    "gender_mean = gender_df.mean()\n",
    "gender = 'Man' if gender_mean['Man'] > gender_mean['Woman'] else 'Woman'\n",
    "print(gender_df.mean())\n",
    "print(gender)\n",
    "print(gender_df)"
   ]
  },
  {
   "cell_type": "code",
   "execution_count": 11,
   "metadata": {},
   "outputs": [
    {
     "name": "stdout",
     "output_type": "stream",
     "text": [
      "          Woman  Man\n",
      "test.jpg      1   22\n"
     ]
    }
   ],
   "source": [
    "gender_df = pd.DataFrame(columns=[\"Woman\", \"Man\"])\n",
    "new_record = pd.Series({\"Woman\":1, \"Man\":22}, index=gender_df.columns)\n",
    "gender_df.loc['test.jpg'] = new_record\n",
    "print(gender_df)"
   ]
  }
 ],
 "metadata": {
  "kernelspec": {
   "display_name": "base",
   "language": "python",
   "name": "python3"
  },
  "language_info": {
   "codemirror_mode": {
    "name": "ipython",
    "version": 3
   },
   "file_extension": ".py",
   "mimetype": "text/x-python",
   "name": "python",
   "nbconvert_exporter": "python",
   "pygments_lexer": "ipython3",
   "version": "3.10.9"
  },
  "orig_nbformat": 4
 },
 "nbformat": 4,
 "nbformat_minor": 2
}
