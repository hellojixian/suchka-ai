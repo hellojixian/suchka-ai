{
 "cells": [
  {
   "cell_type": "code",
   "execution_count": 1,
   "metadata": {},
   "outputs": [
    {
     "name": "stderr",
     "output_type": "stream",
     "text": [
      "Load model images: 100%|██████████| 32/32 [00:00<00:00, 185.62it/s]\n"
     ]
    },
    {
     "name": "stdout",
     "output_type": "stream",
     "text": [
      "dict_keys(['face', 'facial_area', 'confidence', 'gender', 'cropped_face'])\n",
      "{'x': 354, 'y': 172, 'w': 153, 'h': 202}\n",
      "0.9911138415336609\n",
      "(224, 224, 3)\n",
      "(224, 224, 3)\n",
      "(1200, 800, 3)\n"
     ]
    }
   ],
   "source": [
    "import os, sys\n",
    "project_root = os.path.abspath(os.path.join(os.path.dirname('../')))\n",
    "sys.path.append(project_root)\n",
    "import tqdm\n",
    "from core.face.detector import load_image, process_image\n",
    "from core.data_model import Model\n",
    "from core.database import Database\n",
    "\n",
    "import shutil\n",
    "import cv2\n",
    "\n",
    "db = Database()\n",
    "\n",
    "image_root = os.environ['PROJECT_STORAGE_PATH']\n",
    "\n",
    "\n",
    "model = Model.objects(name='Red Xxx').first()\n",
    "model_images = []\n",
    "for i in range(len(model.galleries)):\n",
    "  if i >= 2: break\n",
    "  gallery = model.galleries[i]\n",
    "  gallery_path = os.path.join(image_root, gallery.path)\n",
    "  # find all jpg files in the gallery_path\n",
    "  images = [f'{gallery_path}/{f}' for f in os.listdir(gallery_path) if os.path.isfile(os.path.join(gallery_path, f)) and f.split('.')[-1].lower() == 'jpg']  \n",
    "  model_images += images\n",
    "  \n",
    "model_image_dict = {}\n",
    "for model_image in tqdm.tqdm(model_images, desc=f'Load model images'):\n",
    "  model_image_dict[model_image] = load_image(model_image)    \n",
    "\n",
    "f = list(model_image_dict.keys())[0]\n",
    "img = model_image_dict[f]\n",
    "\n",
    "tmp_folder = '/home/jixian/tmp'\n",
    "shutil.copy(f, f'{tmp_folder}/test.jpg')\n",
    "faces = process_image(img)  \n",
    "\n",
    "for i in range(len(faces)):\n",
    "  face = faces[i]\n",
    "  #save face.cropped_face to tmp folder\n",
    "  # cropped_face is an numpy array\\\n",
    "  print(face.keys())\n",
    "  print(face['facial_area'])\n",
    "  print(face['confidence'])\n",
    "  print(face['face'].shape)\n",
    "  print(face['cropped_face'].shape)\n",
    "  print(img.shape)\n",
    "  cv2.imwrite(f'{tmp_folder}/face_{i}_cropped.jpg', face['cropped_face'])\n",
    "  cv2.imwrite(f'{tmp_folder}/face_{i}_org.jpg', face['face'][:, :, ::-1] * 255)"
   ]
  }
 ],
 "metadata": {
  "kernelspec": {
   "display_name": "base",
   "language": "python",
   "name": "python3"
  },
  "language_info": {
   "codemirror_mode": {
    "name": "ipython",
    "version": 3
   },
   "file_extension": ".py",
   "mimetype": "text/x-python",
   "name": "python",
   "nbconvert_exporter": "python",
   "pygments_lexer": "ipython3",
   "version": "3.10.9"
  },
  "orig_nbformat": 4
 },
 "nbformat": 4,
 "nbformat_minor": 2
}
