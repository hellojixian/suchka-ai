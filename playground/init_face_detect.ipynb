{
 "cells": [
  {
   "cell_type": "code",
   "execution_count": 1,
   "metadata": {},
   "outputs": [
    {
     "name": "stderr",
     "output_type": "stream",
     "text": [
      "2023-06-03 11:01:14.393445: I tensorflow/core/util/port.cc:110] oneDNN custom operations are on. You may see slightly different numerical results due to floating-point round-off errors from different computation orders. To turn them off, set the environment variable `TF_ENABLE_ONEDNN_OPTS=0`.\n",
      "2023-06-03 11:01:14.414530: I tensorflow/core/platform/cpu_feature_guard.cc:182] This TensorFlow binary is optimized to use available CPU instructions in performance-critical operations.\n",
      "To enable the following instructions: AVX2 AVX512F AVX512_VNNI AVX512_BF16 FMA, in other operations, rebuild TensorFlow with the appropriate compiler flags.\n",
      "Extracting init faces from output/pornpics/11877003:   0%|          | 0/17 [00:00<?, ?it/s]2023-06-03 11:01:16.043439: I tensorflow/core/common_runtime/gpu/gpu_device.cc:1635] Created device /job:localhost/replica:0/task:0/device:GPU:0 with 20548 MB memory:  -> device: 0, name: NVIDIA GeForce RTX 4090, pci bus id: 0000:01:00.0, compute capability: 8.9\n",
      "2023-06-03 11:01:16.043696: I tensorflow/core/common_runtime/gpu/gpu_device.cc:1635] Created device /job:localhost/replica:0/task:0/device:GPU:1 with 17550 MB memory:  -> device: 1, name: NVIDIA GeForce RTX 4090, pci bus id: 0000:09:00.0, compute capability: 8.9\n",
      "2023-06-03 11:01:16.803997: I tensorflow/compiler/xla/stream_executor/cuda/cuda_dnn.cc:424] Loaded cuDNN version 8600\n",
      "2023-06-03 11:01:17.236967: I tensorflow/tsl/platform/default/subprocess.cc:304] Start cannot spawn child process: No such file or directory\n",
      "2023-06-03 11:01:17.286994: I tensorflow/compiler/xla/stream_executor/cuda/cuda_blas.cc:637] TensorFloat-32 will be used for the matrix multiplication. This will only be logged once.\n"
     ]
    },
    {
     "name": "stdout",
     "output_type": "stream",
     "text": [
      "(193, 249, 3) {'x': 282, 'y': 109, 'w': 136, 'h': 193} 28 0 /home/jixian/github/suchka-ai/output/pornpics/11877003/d462d1fb676779c0981754a0e4f4cb56cb1629b1.jpg\n",
      "109 302 254 503 (1280, 853, 3)\n"
     ]
    },
    {
     "name": "stderr",
     "output_type": "stream",
     "text": [
      "Extracting init faces from output/pornpics/11877003:   6%|▌         | 1/17 [00:04<01:05,  4.09s/it]"
     ]
    },
    {
     "name": "stdout",
     "output_type": "stream",
     "text": [
      "(212, 282, 3) {'x': 927, 'y': 130, 'w': 142, 'h': 212} 35 0 /home/jixian/github/suchka-ai/output/pornpics/11877003/9c28c354935450eeb676651deef98f070fcac91c.jpg\n",
      "130 342 892 1174 (853, 1280, 3)\n"
     ]
    },
    {
     "name": "stderr",
     "output_type": "stream",
     "text": [
      "Extracting init faces from output/pornpics/11877003:  12%|█▏        | 2/17 [00:05<00:35,  2.36s/it]"
     ]
    },
    {
     "name": "stdout",
     "output_type": "stream",
     "text": [
      "(436, 570, 3) {'x': 128, 'y': 268, 'w': 302, 'h': 436} 67 0 /home/jixian/github/suchka-ai/output/pornpics/11877003/a3a006e6d9aaa612fb59161238f29dd96c607cd4.jpg\n",
      "268 704 61 631 (1280, 853, 3)\n"
     ]
    },
    {
     "name": "stderr",
     "output_type": "stream",
     "text": [
      "Extracting init faces from output/pornpics/11877003:  18%|█▊        | 3/17 [00:05<00:22,  1.58s/it]"
     ]
    },
    {
     "name": "stdout",
     "output_type": "stream",
     "text": [
      "(190, 246, 3) {'x': 344, 'y': 148, 'w': 134, 'h': 190} 28 0 /home/jixian/github/suchka-ai/output/pornpics/11877003/ab23d0442f93232f7860b726d52527c94c0302a2.jpg\n",
      "148 338 316 562 (1280, 853, 3)\n"
     ]
    },
    {
     "name": "stderr",
     "output_type": "stream",
     "text": [
      "Extracting init faces from output/pornpics/11877003:  24%|██▎       | 4/17 [00:06<00:16,  1.25s/it]"
     ]
    },
    {
     "name": "stdout",
     "output_type": "stream",
     "text": [
      "(305, 403, 3) {'x': 321, 'y': 266, 'w': 207, 'h': 305} 49 0 /home/jixian/github/suchka-ai/output/pornpics/11877003/6105c64ace91b6d79e86cc5282b2da3c8db64ece.jpg\n",
      "266 571 272 675 (1280, 853, 3)\n"
     ]
    },
    {
     "name": "stderr",
     "output_type": "stream",
     "text": [
      "Extracting init faces from output/pornpics/11877003:  29%|██▉       | 5/17 [00:07<00:12,  1.05s/it]"
     ]
    },
    {
     "name": "stdout",
     "output_type": "stream",
     "text": [
      "(189, 235, 3) {'x': 340, 'y': 146, 'w': 142, 'h': 189} 23 0 /home/jixian/github/suchka-ai/output/pornpics/11877003/79ca2ccc4e40584f8a7589afc4f3ca70ab4e5cb4.jpg\n",
      "146 335 317 552 (1280, 853, 3)\n"
     ]
    },
    {
     "name": "stderr",
     "output_type": "stream",
     "text": [
      "Extracting init faces from output/pornpics/11877003:  35%|███▌      | 6/17 [00:07<00:10,  1.10it/s]"
     ]
    },
    {
     "name": "stdout",
     "output_type": "stream",
     "text": [
      "(231, 301, 3) {'x': 363, 'y': 168, 'w': 161, 'h': 231} 35 0 /home/jixian/github/suchka-ai/output/pornpics/11877003/cfd0f65729d1a7650c6a738bce9afb1fce652ab8.jpg\n",
      "168 399 328 629 (1280, 853, 3)\n"
     ]
    },
    {
     "name": "stderr",
     "output_type": "stream",
     "text": [
      "Extracting init faces from output/pornpics/11877003:  41%|████      | 7/17 [00:08<00:08,  1.16it/s]"
     ]
    },
    {
     "name": "stdout",
     "output_type": "stream",
     "text": [
      "(299, 391, 3) {'x': 331, 'y': 275, 'w': 206, 'h': 299} 46 0 /home/jixian/github/suchka-ai/output/pornpics/11877003/6634e9f6c61796b7c02ec031106cc9a544ed1518.jpg\n",
      "275 574 285 676 (1280, 853, 3)\n"
     ]
    },
    {
     "name": "stderr",
     "output_type": "stream",
     "text": [
      "Extracting init faces from output/pornpics/11877003:  47%|████▋     | 8/17 [00:09<00:07,  1.23it/s]"
     ]
    },
    {
     "name": "stdout",
     "output_type": "stream",
     "text": [
      "(333, 431, 3) {'x': 238, 'y': 405, 'w': 234, 'h': 333} 49 0 /home/jixian/github/suchka-ai/output/pornpics/11877003/cb399fb36836dd766388da6fe0f1daa544c8dd73.jpg\n",
      "405 738 189 620 (1280, 853, 3)\n"
     ]
    },
    {
     "name": "stderr",
     "output_type": "stream",
     "text": [
      "Extracting init faces from output/pornpics/11877003:  53%|█████▎    | 9/17 [00:10<00:06,  1.30it/s]"
     ]
    },
    {
     "name": "stdout",
     "output_type": "stream",
     "text": [
      "(217, 279, 3) {'x': 895, 'y': 137, 'w': 155, 'h': 217} 31 0 /home/jixian/github/suchka-ai/output/pornpics/11877003/834c11326a0014ba16d684e79a301137b8c303dd.jpg\n",
      "137 354 864 1143 (853, 1280, 3)\n"
     ]
    },
    {
     "name": "stderr",
     "output_type": "stream",
     "text": [
      "Extracting init faces from output/pornpics/11877003:  59%|█████▉    | 10/17 [00:10<00:05,  1.36it/s]"
     ]
    },
    {
     "name": "stdout",
     "output_type": "stream",
     "text": [
      "(270, 340, 3) {'x': 313, 'y': 117, 'w': 200, 'h': 270} 35 0 /home/jixian/github/suchka-ai/output/pornpics/11877003/843045370de914ee20ef7ffb9156ecdb6eaa8030.jpg\n",
      "117 387 278 618 (1280, 853, 3)\n"
     ]
    },
    {
     "name": "stderr",
     "output_type": "stream",
     "text": [
      "Extracting init faces from output/pornpics/11877003:  65%|██████▍   | 11/17 [00:11<00:04,  1.39it/s]"
     ]
    },
    {
     "name": "stdout",
     "output_type": "stream",
     "text": [
      "(403, 507, 3) {'x': 273, 'y': 317, 'w': 298, 'h': 403} 52 0 /home/jixian/github/suchka-ai/output/pornpics/11877003/449eb9f2b6f05577e5031191b40df999c7bea5d6.jpg\n",
      "317 720 221 728 (1280, 853, 3)\n"
     ]
    },
    {
     "name": "stderr",
     "output_type": "stream",
     "text": [
      "Extracting init faces from output/pornpics/11877003:  71%|███████   | 12/17 [00:12<00:03,  1.41it/s]"
     ]
    },
    {
     "name": "stdout",
     "output_type": "stream",
     "text": [
      "(340, 458, 3) {'x': 346, 'y': 168, 'w': 222, 'h': 340} 59 0 /home/jixian/github/suchka-ai/output/pornpics/11877003/ff8c14eda9c5db61e89925f833d95193e05815b9.jpg\n",
      "168 508 287 745 (1280, 853, 3)\n"
     ]
    },
    {
     "name": "stderr",
     "output_type": "stream",
     "text": [
      "Extracting init faces from output/pornpics/11877003:  76%|███████▋  | 13/17 [00:12<00:02,  1.44it/s]"
     ]
    },
    {
     "name": "stdout",
     "output_type": "stream",
     "text": [
      "(180, 234, 3) {'x': 432, 'y': 183, 'w': 125, 'h': 180} 27 0 /home/jixian/github/suchka-ai/output/pornpics/11877003/7c6aa07bdb6e30d02e75ff807a295bcb56d0cd66.jpg\n",
      "183 363 405 639 (853, 1280, 3)\n"
     ]
    },
    {
     "name": "stderr",
     "output_type": "stream",
     "text": [
      "Extracting init faces from output/pornpics/11877003:  88%|████████▊ | 15/17 [00:13<00:01,  1.65it/s]"
     ]
    },
    {
     "name": "stdout",
     "output_type": "stream",
     "text": [
      "(197, 197, 3) {'x': 939, 'y': 68, 'w': 197, 'h': 196} 0 0 /home/jixian/github/suchka-ai/output/pornpics/11877003/7e44189432a21eafd69abd612e7f23827d3f4d8b.jpg\n",
      "68 265 939 1136 (853, 1280, 3)\n"
     ]
    },
    {
     "name": "stderr",
     "output_type": "stream",
     "text": [
      "Extracting init faces from output/pornpics/11877003:  94%|█████████▍| 16/17 [00:14<00:00,  1.61it/s]"
     ]
    },
    {
     "name": "stdout",
     "output_type": "stream",
     "text": [
      "(253, 267, 3) {'x': 1011, 'y': 35, 'w': 238, 'h': 253} 7 0 /home/jixian/github/suchka-ai/output/pornpics/11877003/4b9178590481ed5f3788e0f6ba0d81ce47b33dfc.jpg\n",
      "35 288 1004 1271 (853, 1280, 3)\n"
     ]
    },
    {
     "name": "stderr",
     "output_type": "stream",
     "text": [
      "Extracting init faces from output/pornpics/11877003: 100%|██████████| 17/17 [00:15<00:00,  1.12it/s]\n",
      "Extracting init faces from output/pornpics/84624209:   0%|          | 0/20 [00:00<?, ?it/s]"
     ]
    },
    {
     "name": "stdout",
     "output_type": "stream",
     "text": [
      "(152, 188, 3) {'x': 397, 'y': 122, 'w': 116, 'h': 152} 18 0 /home/jixian/github/suchka-ai/output/pornpics/84624209/9a06c0c284037b015865a9b5aa91c97429a86cd9.jpg\n",
      "122 274 379 567 (1280, 853, 3)\n"
     ]
    },
    {
     "name": "stderr",
     "output_type": "stream",
     "text": [
      "Extracting init faces from output/pornpics/84624209:   5%|▌         | 1/20 [00:00<00:13,  1.45it/s]"
     ]
    },
    {
     "name": "stdout",
     "output_type": "stream",
     "text": [
      "(200, 248, 3) {'x': 359, 'y': 97, 'w': 152, 'h': 200} 24 0 /home/jixian/github/suchka-ai/output/pornpics/84624209/751ae551877019eecf44db650b57da41e46bea21.jpg\n",
      "97 297 335 583 (1280, 853, 3)\n"
     ]
    },
    {
     "name": "stderr",
     "output_type": "stream",
     "text": [
      "Extracting init faces from output/pornpics/84624209:  10%|█         | 2/20 [00:01<00:12,  1.41it/s]"
     ]
    },
    {
     "name": "stdout",
     "output_type": "stream",
     "text": [
      "(194, 240, 3) {'x': 308, 'y': 147, 'w': 148, 'h': 194} 23 0 /home/jixian/github/suchka-ai/output/pornpics/84624209/92616b6f93eacbff672446a0fcb1850ecbaade56.jpg\n",
      "147 341 285 525 (1280, 853, 3)\n"
     ]
    },
    {
     "name": "stderr",
     "output_type": "stream",
     "text": [
      "Extracting init faces from output/pornpics/84624209:  15%|█▌        | 3/20 [00:02<00:11,  1.45it/s]"
     ]
    },
    {
     "name": "stdout",
     "output_type": "stream",
     "text": [
      "(182, 234, 3) {'x': 391, 'y': 120, 'w': 130, 'h': 182} 26 0 /home/jixian/github/suchka-ai/output/pornpics/84624209/720e7660da58a1c384ae2ff8f9f2c0e9b42c3da3.jpg\n",
      "120 302 365 599 (1280, 853, 3)\n"
     ]
    },
    {
     "name": "stderr",
     "output_type": "stream",
     "text": [
      "Extracting init faces from output/pornpics/84624209:  20%|██        | 4/20 [00:02<00:10,  1.46it/s]"
     ]
    },
    {
     "name": "stdout",
     "output_type": "stream",
     "text": [
      "(166, 206, 3) {'x': 366, 'y': 80, 'w': 125, 'h': 166} 20 0 /home/jixian/github/suchka-ai/output/pornpics/84624209/fc3074b022ba65a266a721c933f87f37334231c6.jpg\n",
      "80 246 346 552 (1280, 853, 3)\n"
     ]
    },
    {
     "name": "stderr",
     "output_type": "stream",
     "text": [
      "Extracting init faces from output/pornpics/84624209:  25%|██▌       | 5/20 [00:03<00:10,  1.45it/s]"
     ]
    },
    {
     "name": "stdout",
     "output_type": "stream",
     "text": [
      "(193, 245, 3) {'x': 351, 'y': 70, 'w': 141, 'h': 193} 26 0 /home/jixian/github/suchka-ai/output/pornpics/84624209/f9c99db3fb61c3492a0862481192f57c45b3d74b.jpg\n",
      "70 263 325 570 (1280, 853, 3)\n"
     ]
    },
    {
     "name": "stderr",
     "output_type": "stream",
     "text": [
      "Extracting init faces from output/pornpics/84624209:  30%|███       | 6/20 [00:04<00:09,  1.44it/s]"
     ]
    },
    {
     "name": "stdout",
     "output_type": "stream",
     "text": [
      "(195, 247, 3) {'x': 417, 'y': 102, 'w': 142, 'h': 195} 26 0 /home/jixian/github/suchka-ai/output/pornpics/84624209/91963aa29806204bb4d89b6be9a02a82188e63d5.jpg\n",
      "102 297 391 638 (1280, 853, 3)\n"
     ]
    },
    {
     "name": "stderr",
     "output_type": "stream",
     "text": [
      "Extracting init faces from output/pornpics/84624209:  35%|███▌      | 7/20 [00:04<00:09,  1.42it/s]"
     ]
    },
    {
     "name": "stdout",
     "output_type": "stream",
     "text": [
      "(289, 327, 3) {'x': 204, 'y': 149, 'w': 250, 'h': 289} 19 0 /home/jixian/github/suchka-ai/output/pornpics/84624209/aecfd87bd7f5682a58aace74b365c641e1faf05a.jpg\n",
      "149 438 185 512 (853, 1280, 3)\n"
     ]
    },
    {
     "name": "stderr",
     "output_type": "stream",
     "text": [
      "Extracting init faces from output/pornpics/84624209:  40%|████      | 8/20 [00:05<00:08,  1.42it/s]"
     ]
    },
    {
     "name": "stdout",
     "output_type": "stream",
     "text": [
      "(216, 270, 3) {'x': 392, 'y': 178, 'w': 162, 'h': 216} 27 0 /home/jixian/github/suchka-ai/output/pornpics/84624209/cc1b3c76e5463347a790b2ff28f96283f7ec5996.jpg\n",
      "178 394 365 635 (1280, 853, 3)\n"
     ]
    },
    {
     "name": "stderr",
     "output_type": "stream",
     "text": [
      "Extracting init faces from output/pornpics/84624209:  45%|████▌     | 9/20 [00:06<00:07,  1.39it/s]"
     ]
    },
    {
     "name": "stdout",
     "output_type": "stream",
     "text": [
      "(248, 316, 3) {'x': 314, 'y': 168, 'w': 179, 'h': 248} 34 0 /home/jixian/github/suchka-ai/output/pornpics/84624209/10dc09aecd7f9aaa0748162fae95995e629349f5.jpg\n",
      "168 416 280 596 (1280, 853, 3)\n"
     ]
    },
    {
     "name": "stderr",
     "output_type": "stream",
     "text": [
      "Extracting init faces from output/pornpics/84624209:  50%|█████     | 10/20 [00:07<00:07,  1.40it/s]"
     ]
    },
    {
     "name": "stdout",
     "output_type": "stream",
     "text": [
      "(194, 248, 3) {'x': 380, 'y': 134, 'w': 139, 'h': 194} 27 0 /home/jixian/github/suchka-ai/output/pornpics/84624209/0a41f759d9311b2f4f34e2e9d2c9e85938deed6e.jpg\n",
      "134 328 353 601 (1280, 853, 3)\n"
     ]
    },
    {
     "name": "stderr",
     "output_type": "stream",
     "text": [
      "Extracting init faces from output/pornpics/84624209:  55%|█████▌    | 11/20 [00:07<00:06,  1.41it/s]"
     ]
    },
    {
     "name": "stdout",
     "output_type": "stream",
     "text": [
      "(121, 149, 3) {'x': 381, 'y': 127, 'w': 92, 'h': 121} 14 0 /home/jixian/github/suchka-ai/output/pornpics/84624209/15fee66134a7aef8bfbdac6f796d617a3d860c7b.jpg\n",
      "127 248 367 516 (1280, 853, 3)\n"
     ]
    },
    {
     "name": "stderr",
     "output_type": "stream",
     "text": [
      "Extracting init faces from output/pornpics/84624209:  60%|██████    | 12/20 [00:08<00:05,  1.44it/s]"
     ]
    },
    {
     "name": "stdout",
     "output_type": "stream",
     "text": [
      "(294, 372, 3) {'x': 212, 'y': 141, 'w': 216, 'h': 294} 39 0 /home/jixian/github/suchka-ai/output/pornpics/84624209/6a868eb66bc8a3069b80150e7de41d3dfb436585.jpg\n",
      "141 435 173 545 (853, 1280, 3)\n"
     ]
    },
    {
     "name": "stderr",
     "output_type": "stream",
     "text": [
      "Extracting init faces from output/pornpics/84624209:  65%|██████▌   | 13/20 [00:09<00:04,  1.42it/s]"
     ]
    },
    {
     "name": "stdout",
     "output_type": "stream",
     "text": [
      "(234, 294, 3) {'x': 338, 'y': 92, 'w': 174, 'h': 234} 30 0 /home/jixian/github/suchka-ai/output/pornpics/84624209/214203894c9788d509b213f774ccb33c938b6945.jpg\n",
      "92 326 308 602 (1280, 853, 3)\n"
     ]
    },
    {
     "name": "stderr",
     "output_type": "stream",
     "text": [
      "Extracting init faces from output/pornpics/84624209:  70%|███████   | 14/20 [00:09<00:04,  1.43it/s]"
     ]
    },
    {
     "name": "stdout",
     "output_type": "stream",
     "text": [
      "(161, 201, 3) {'x': 415, 'y': 101, 'w': 121, 'h': 161} 20 0 /home/jixian/github/suchka-ai/output/pornpics/84624209/eb0e1f340ee8fa8416a35c5ed7409dc98b097251.jpg\n",
      "101 262 395 596 (1280, 853, 3)\n"
     ]
    },
    {
     "name": "stderr",
     "output_type": "stream",
     "text": [
      "Extracting init faces from output/pornpics/84624209:  75%|███████▌  | 15/20 [00:10<00:03,  1.39it/s]"
     ]
    },
    {
     "name": "stdout",
     "output_type": "stream",
     "text": [
      "(178, 214, 3) {'x': 373, 'y': 159, 'w': 141, 'h': 178} 18 0 /home/jixian/github/suchka-ai/output/pornpics/84624209/10cc2c45f5ede581585d0fcb265a51053ae3726e.jpg\n",
      "159 337 355 569 (1280, 853, 3)\n"
     ]
    },
    {
     "name": "stderr",
     "output_type": "stream",
     "text": [
      "Extracting init faces from output/pornpics/84624209:  80%|████████  | 16/20 [00:11<00:02,  1.38it/s]"
     ]
    },
    {
     "name": "stdout",
     "output_type": "stream",
     "text": [
      "(190, 240, 3) {'x': 400, 'y': 85, 'w': 140, 'h': 190} 25 0 /home/jixian/github/suchka-ai/output/pornpics/84624209/37bc9b6db890424a2a9014cb90b7e30bcbbb9162.jpg\n",
      "85 275 375 615 (1280, 853, 3)\n"
     ]
    },
    {
     "name": "stderr",
     "output_type": "stream",
     "text": [
      "Extracting init faces from output/pornpics/84624209:  85%|████████▌ | 17/20 [00:12<00:02,  1.36it/s]"
     ]
    },
    {
     "name": "stdout",
     "output_type": "stream",
     "text": [
      "(234, 294, 3) {'x': 298, 'y': 60, 'w': 174, 'h': 234} 30 0 /home/jixian/github/suchka-ai/output/pornpics/84624209/f723fef5046c86e1cfdc7e00c2eff54202308bca.jpg\n",
      "60 294 268 562 (1280, 853, 3)\n"
     ]
    },
    {
     "name": "stderr",
     "output_type": "stream",
     "text": [
      "Extracting init faces from output/pornpics/84624209:  90%|█████████ | 18/20 [00:12<00:01,  1.40it/s]"
     ]
    },
    {
     "name": "stdout",
     "output_type": "stream",
     "text": [
      "(222, 288, 3) {'x': 355, 'y': 135, 'w': 156, 'h': 222} 33 0 /home/jixian/github/suchka-ai/output/pornpics/84624209/cd103a4e4e60a37bf14c2e38e86b7fc576bc6b2a.jpg\n",
      "135 357 322 610 (1280, 853, 3)\n"
     ]
    },
    {
     "name": "stderr",
     "output_type": "stream",
     "text": [
      "Extracting init faces from output/pornpics/84624209:  95%|█████████▌| 19/20 [00:13<00:00,  1.40it/s]"
     ]
    },
    {
     "name": "stdout",
     "output_type": "stream",
     "text": [
      "(126, 162, 3) {'x': 396, 'y': 103, 'w': 90, 'h': 126} 18 0 /home/jixian/github/suchka-ai/output/pornpics/84624209/8c0e6129a3ff84ee9623ceb1451dd25c0cb73c05.jpg\n",
      "103 229 378 540 (1280, 853, 3)\n"
     ]
    },
    {
     "name": "stderr",
     "output_type": "stream",
     "text": [
      "Extracting init faces from output/pornpics/84624209: 100%|██████████| 20/20 [00:14<00:00,  1.42it/s]\n",
      "Extracting init faces from output/pornpics/39603925:   0%|          | 0/16 [00:00<?, ?it/s]"
     ]
    },
    {
     "name": "stdout",
     "output_type": "stream",
     "text": [
      "(119, 145, 3) {'x': 122, 'y': 125, 'w': 93, 'h': 119} 13 0 /home/jixian/github/suchka-ai/output/pornpics/39603925/4bccc1f0ba70297e478c92e5f524d41b9765ed81.jpg\n",
      "125 244 109 254 (600, 900, 3)\n",
      "(120, 134, 3) {'x': 616, 'y': 112, 'w': 105, 'h': 120} 7 0 /home/jixian/github/suchka-ai/output/pornpics/39603925/4bccc1f0ba70297e478c92e5f524d41b9765ed81.jpg\n",
      "112 232 609 743 (600, 900, 3)\n"
     ]
    },
    {
     "name": "stderr",
     "output_type": "stream",
     "text": [
      "Extracting init faces from output/pornpics/39603925:   6%|▋         | 1/16 [00:01<00:18,  1.25s/it]"
     ]
    },
    {
     "name": "stdout",
     "output_type": "stream",
     "text": [
      "(103, 107, 3) {'x': 185, 'y': 296, 'w': 98, 'h': 103} 2 0 /home/jixian/github/suchka-ai/output/pornpics/39603925/975ac2c3c1bb5bf3500e4267957a1c874f5b2b48.jpg\n",
      "296 399 183 290 (600, 900, 3)\n",
      "(129, 147, 3) {'x': 663, 'y': 19, 'w': 110, 'h': 129} 9 0 /home/jixian/github/suchka-ai/output/pornpics/39603925/975ac2c3c1bb5bf3500e4267957a1c874f5b2b48.jpg\n",
      "19 148 654 801 (600, 900, 3)\n"
     ]
    },
    {
     "name": "stderr",
     "output_type": "stream",
     "text": [
      "Extracting init faces from output/pornpics/39603925:  12%|█▎        | 2/16 [00:02<00:14,  1.00s/it]"
     ]
    },
    {
     "name": "stdout",
     "output_type": "stream",
     "text": [
      "(104, 122, 3) {'x': 550, 'y': 47, 'w': 85, 'h': 104} 9 0 /home/jixian/github/suchka-ai/output/pornpics/39603925/9dd7daedb4c68563359cac6be69359681d3ca45f.jpg\n",
      "47 151 541 663 (600, 900, 3)\n",
      "(109, 143, 3) {'x': 458, 'y': 53, 'w': 74, 'h': 109} 17 0 /home/jixian/github/suchka-ai/output/pornpics/39603925/9dd7daedb4c68563359cac6be69359681d3ca45f.jpg\n",
      "53 162 441 584 (600, 900, 3)\n",
      "(93, 105, 3) {'x': 328, 'y': 33, 'w': 81, 'h': 93} 6 0 /home/jixian/github/suchka-ai/output/pornpics/39603925/9dd7daedb4c68563359cac6be69359681d3ca45f.jpg\n",
      "33 126 322 427 (600, 900, 3)\n"
     ]
    },
    {
     "name": "stderr",
     "output_type": "stream",
     "text": [
      "Extracting init faces from output/pornpics/39603925:  19%|█▉        | 3/16 [00:03<00:14,  1.12s/it]"
     ]
    },
    {
     "name": "stdout",
     "output_type": "stream",
     "text": [
      "(92, 124, 3) {'x': 557, 'y': 101, 'w': 60, 'h': 92} 16 0 /home/jixian/github/suchka-ai/output/pornpics/39603925/5a001127388ce406a66ae5d7c5d89930afb78ea4.jpg\n",
      "101 193 541 665 (600, 900, 3)\n"
     ]
    },
    {
     "name": "stderr",
     "output_type": "stream",
     "text": [
      "Extracting init faces from output/pornpics/39603925:  25%|██▌       | 4/16 [00:03<00:11,  1.08it/s]"
     ]
    },
    {
     "name": "stdout",
     "output_type": "stream",
     "text": [
      "(236, 294, 3) {'x': 504, 'y': 125, 'w': 177, 'h': 236} 29 0 /home/jixian/github/suchka-ai/output/pornpics/39603925/f60ebfef4439c944c19421a4388975e8ed846257.jpg\n",
      "125 361 475 769 (600, 900, 3)\n",
      "(250, 296, 3) {'x': 301, 'y': 255, 'w': 204, 'h': 250} 23 0 /home/jixian/github/suchka-ai/output/pornpics/39603925/f60ebfef4439c944c19421a4388975e8ed846257.jpg\n",
      "255 505 278 574 (600, 900, 3)\n"
     ]
    },
    {
     "name": "stderr",
     "output_type": "stream",
     "text": [
      "Extracting init faces from output/pornpics/39603925:  31%|███▏      | 5/16 [00:04<00:10,  1.08it/s]"
     ]
    },
    {
     "name": "stdout",
     "output_type": "stream",
     "text": [
      "(86, 110, 3) {'x': 388, 'y': 173, 'w': 62, 'h': 86} 12 0 /home/jixian/github/suchka-ai/output/pornpics/39603925/89b50c8a93effbef75ad5f0ad12099c1ac7685d5.jpg\n",
      "173 259 376 486 (600, 900, 3)\n",
      "(118, 148, 3) {'x': 388, 'y': 110, 'w': 88, 'h': 118} 15 0 /home/jixian/github/suchka-ai/output/pornpics/39603925/89b50c8a93effbef75ad5f0ad12099c1ac7685d5.jpg\n",
      "110 228 373 521 (600, 900, 3)\n"
     ]
    },
    {
     "name": "stderr",
     "output_type": "stream",
     "text": [
      "Extracting init faces from output/pornpics/39603925:  38%|███▊      | 6/16 [00:06<00:10,  1.03s/it]"
     ]
    },
    {
     "name": "stdout",
     "output_type": "stream",
     "text": [
      "(130, 148, 3) {'x': 347, 'y': 110, 'w': 112, 'h': 130} 9 0 /home/jixian/github/suchka-ai/output/pornpics/39603925/77672810acf7767f889205eba23b29e51ea115a5.jpg\n",
      "110 240 338 486 (600, 900, 3)\n",
      "(145, 187, 3) {'x': 522, 'y': 72, 'w': 103, 'h': 145} 21 0 /home/jixian/github/suchka-ai/output/pornpics/39603925/77672810acf7767f889205eba23b29e51ea115a5.jpg\n",
      "72 217 501 688 (600, 900, 3)\n"
     ]
    },
    {
     "name": "stderr",
     "output_type": "stream",
     "text": [
      "Extracting init faces from output/pornpics/39603925:  44%|████▍     | 7/16 [00:07<00:09,  1.02s/it]"
     ]
    },
    {
     "name": "stdout",
     "output_type": "stream",
     "text": [
      "(101, 135, 3) {'x': 509, 'y': 90, 'w': 67, 'h': 101} 17 0 /home/jixian/github/suchka-ai/output/pornpics/39603925/103a9b99461292338e674f748cb64a74e36ad1d2.jpg\n",
      "90 191 492 627 (600, 900, 3)\n"
     ]
    },
    {
     "name": "stderr",
     "output_type": "stream",
     "text": [
      "Extracting init faces from output/pornpics/39603925:  56%|█████▋    | 9/16 [00:08<00:05,  1.26it/s]"
     ]
    },
    {
     "name": "stdout",
     "output_type": "stream",
     "text": [
      "(195, 227, 3) {'x': 652, 'y': 36, 'w': 163, 'h': 195} 16 0 /home/jixian/github/suchka-ai/output/pornpics/39603925/ce5be0186919ba493587ea20479ee3d1a95b094a.jpg\n",
      "36 231 636 863 (600, 900, 3)\n",
      "(164, 196, 3) {'x': 393, 'y': 198, 'w': 132, 'h': 164} 16 0 /home/jixian/github/suchka-ai/output/pornpics/39603925/ce5be0186919ba493587ea20479ee3d1a95b094a.jpg\n",
      "198 362 377 573 (600, 900, 3)\n"
     ]
    },
    {
     "name": "stderr",
     "output_type": "stream",
     "text": [
      "Extracting init faces from output/pornpics/39603925:  62%|██████▎   | 10/16 [00:09<00:04,  1.22it/s]"
     ]
    },
    {
     "name": "stdout",
     "output_type": "stream",
     "text": [
      "(124, 146, 3) {'x': 404, 'y': 0, 'w': 102, 'h': 124} 11 0 /home/jixian/github/suchka-ai/output/pornpics/39603925/21568a16973a31b6ce08db6bc47d760502685247.jpg\n",
      "0 124 393 539 (600, 900, 3)\n",
      "(123, 111, 3) {'x': 253, 'y': 0, 'w': 111, 'h': 98} 0 6 /home/jixian/github/suchka-ai/output/pornpics/39603925/21568a16973a31b6ce08db6bc47d760502685247.jpg\n",
      "0 123 253 364 (600, 900, 3)\n"
     ]
    },
    {
     "name": "stderr",
     "output_type": "stream",
     "text": [
      "Extracting init faces from output/pornpics/39603925:  69%|██████▉   | 11/16 [00:10<00:04,  1.13it/s]"
     ]
    },
    {
     "name": "stdout",
     "output_type": "stream",
     "text": [
      "(214, 266, 3) {'x': 522, 'y': 270, 'w': 162, 'h': 214} 26 0 /home/jixian/github/suchka-ai/output/pornpics/39603925/7eb1362f255cbc70bafba664e44355089c8294a5.jpg\n",
      "270 484 496 762 (600, 900, 3)\n",
      "(237, 295, 3) {'x': 334, 'y': 175, 'w': 179, 'h': 237} 29 0 /home/jixian/github/suchka-ai/output/pornpics/39603925/7eb1362f255cbc70bafba664e44355089c8294a5.jpg\n",
      "175 412 305 600 (600, 900, 3)\n"
     ]
    },
    {
     "name": "stderr",
     "output_type": "stream",
     "text": [
      "Extracting init faces from output/pornpics/39603925:  75%|███████▌  | 12/16 [00:11<00:03,  1.15it/s]"
     ]
    },
    {
     "name": "stdout",
     "output_type": "stream",
     "text": [
      "(92, 118, 3) {'x': 642, 'y': 167, 'w': 66, 'h': 92} 13 0 /home/jixian/github/suchka-ai/output/pornpics/39603925/8ffada36ad06c34ad24cd46cca2e40d065bd9110.jpg\n",
      "167 259 629 747 (600, 900, 3)\n",
      "(85, 105, 3) {'x': 285, 'y': 113, 'w': 65, 'h': 85} 10 0 /home/jixian/github/suchka-ai/output/pornpics/39603925/8ffada36ad06c34ad24cd46cca2e40d065bd9110.jpg\n",
      "113 198 275 380 (600, 900, 3)\n",
      "(115, 149, 3) {'x': 460, 'y': 100, 'w': 80, 'h': 115} 17 0 /home/jixian/github/suchka-ai/output/pornpics/39603925/8ffada36ad06c34ad24cd46cca2e40d065bd9110.jpg\n",
      "100 215 443 592 (600, 900, 3)\n"
     ]
    },
    {
     "name": "stderr",
     "output_type": "stream",
     "text": [
      "Extracting init faces from output/pornpics/39603925:  81%|████████▏ | 13/16 [00:12<00:02,  1.02it/s]"
     ]
    },
    {
     "name": "stdout",
     "output_type": "stream",
     "text": [
      "(90, 118, 3) {'x': 501, 'y': 167, 'w': 62, 'h': 90} 14 0 /home/jixian/github/suchka-ai/output/pornpics/39603925/a1c480fca22a5f4ca0b663daa79ae5d33859c6f7.jpg\n",
      "167 257 487 605 (600, 900, 3)\n",
      "(86, 102, 3) {'x': 269, 'y': 126, 'w': 69, 'h': 86} 8 0 /home/jixian/github/suchka-ai/output/pornpics/39603925/a1c480fca22a5f4ca0b663daa79ae5d33859c6f7.jpg\n",
      "126 212 261 363 (600, 900, 3)\n",
      "(114, 146, 3) {'x': 405, 'y': 132, 'w': 82, 'h': 114} 16 0 /home/jixian/github/suchka-ai/output/pornpics/39603925/a1c480fca22a5f4ca0b663daa79ae5d33859c6f7.jpg\n",
      "132 246 389 535 (600, 900, 3)\n"
     ]
    },
    {
     "name": "stderr",
     "output_type": "stream",
     "text": [
      "Extracting init faces from output/pornpics/39603925:  94%|█████████▍| 15/16 [00:13<00:00,  1.20it/s]"
     ]
    },
    {
     "name": "stdout",
     "output_type": "stream",
     "text": [
      "(124, 138, 3) {'x': 531, 'y': 88, 'w': 109, 'h': 124} 7 0 /home/jixian/github/suchka-ai/output/pornpics/39603925/4a52217817db29e68139bc0f8067773089e4eb5f.jpg\n",
      "88 212 524 662 (600, 900, 3)\n",
      "(97, 101, 3) {'x': 205, 'y': 331, 'w': 92, 'h': 97} 2 0 /home/jixian/github/suchka-ai/output/pornpics/39603925/4a52217817db29e68139bc0f8067773089e4eb5f.jpg\n",
      "331 428 203 304 (600, 900, 3)\n"
     ]
    },
    {
     "name": "stderr",
     "output_type": "stream",
     "text": [
      "Extracting init faces from output/pornpics/39603925: 100%|██████████| 16/16 [00:14<00:00,  1.09it/s]\n",
      "Extracting init faces from output/pornpics/20840305:   0%|          | 0/21 [00:00<?, ?it/s]"
     ]
    },
    {
     "name": "stdout",
     "output_type": "stream",
     "text": [
      "(358, 422, 3) {'x': 256, 'y': 320, 'w': 293, 'h': 358} 32 0 /home/jixian/github/suchka-ai/output/pornpics/20840305/c01b8bf5447ffb36145ebede20d7bffd7c94b143.jpg\n",
      "320 678 224 646 (1280, 853, 3)\n"
     ]
    },
    {
     "name": "stderr",
     "output_type": "stream",
     "text": [
      "Extracting init faces from output/pornpics/20840305:  10%|▉         | 2/21 [00:00<00:08,  2.19it/s]"
     ]
    },
    {
     "name": "stdout",
     "output_type": "stream",
     "text": [
      "(146, 188, 3) {'x': 295, 'y': 70, 'w': 103, 'h': 146} 21 0 /home/jixian/github/suchka-ai/output/pornpics/20840305/499e1a6010cd47a110dc7c63f704a84464b86d76.jpg\n",
      "70 216 274 462 (853, 1280, 3)\n"
     ]
    },
    {
     "name": "stderr",
     "output_type": "stream",
     "text": [
      "Extracting init faces from output/pornpics/20840305:  14%|█▍        | 3/21 [00:01<00:10,  1.79it/s]"
     ]
    },
    {
     "name": "stdout",
     "output_type": "stream",
     "text": [
      "(162, 216, 3) {'x': 309, 'y': 192, 'w': 107, 'h': 162} 27 0 /home/jixian/github/suchka-ai/output/pornpics/20840305/7c80d0c43a776b4858c8da3cc6359e3c2295ed4f.jpg\n",
      "192 354 282 498 (1280, 853, 3)\n",
      "(182, 230, 3) {'x': 216, 'y': 408, 'w': 133, 'h': 182} 24 0 /home/jixian/github/suchka-ai/output/pornpics/20840305/7c80d0c43a776b4858c8da3cc6359e3c2295ed4f.jpg\n",
      "408 590 192 422 (1280, 853, 3)\n"
     ]
    },
    {
     "name": "stderr",
     "output_type": "stream",
     "text": [
      "Extracting init faces from output/pornpics/20840305:  19%|█▉        | 4/21 [00:02<00:13,  1.29it/s]"
     ]
    },
    {
     "name": "stdout",
     "output_type": "stream",
     "text": [
      "(240, 306, 3) {'x': 378, 'y': 190, 'w': 174, 'h': 240} 33 0 /home/jixian/github/suchka-ai/output/pornpics/20840305/7de4cb95864a4fe2fbfb19b85b2c6bc0492bca5c.jpg\n",
      "190 430 345 651 (1280, 853, 3)\n"
     ]
    },
    {
     "name": "stderr",
     "output_type": "stream",
     "text": [
      "Extracting init faces from output/pornpics/20840305:  24%|██▍       | 5/21 [00:03<00:12,  1.33it/s]"
     ]
    },
    {
     "name": "stdout",
     "output_type": "stream",
     "text": [
      "(195, 249, 3) {'x': 363, 'y': 201, 'w': 141, 'h': 195} 27 0 /home/jixian/github/suchka-ai/output/pornpics/20840305/2d9f63caa4a801c069001e5c98689a2c52330658.jpg\n",
      "201 396 336 585 (1280, 853, 3)\n"
     ]
    },
    {
     "name": "stderr",
     "output_type": "stream",
     "text": [
      "Extracting init faces from output/pornpics/20840305:  29%|██▊       | 6/21 [00:04<00:10,  1.38it/s]"
     ]
    },
    {
     "name": "stdout",
     "output_type": "stream",
     "text": [
      "(210, 276, 3) {'x': 819, 'y': 125, 'w': 144, 'h': 210} 33 0 /home/jixian/github/suchka-ai/output/pornpics/20840305/9d9a479cad63ee32cc3d612691533ef4b229f71c.jpg\n",
      "125 335 786 1062 (853, 1280, 3)\n"
     ]
    },
    {
     "name": "stderr",
     "output_type": "stream",
     "text": [
      "Extracting init faces from output/pornpics/20840305:  33%|███▎      | 7/21 [00:04<00:09,  1.40it/s]"
     ]
    },
    {
     "name": "stdout",
     "output_type": "stream",
     "text": [
      "(345, 449, 3) {'x': 485, 'y': 156, 'w': 240, 'h': 345} 52 0 /home/jixian/github/suchka-ai/output/pornpics/20840305/98f359ac106f553fda9788ee4c45221713eb4d62.jpg\n",
      "156 501 433 882 (853, 1280, 3)\n"
     ]
    },
    {
     "name": "stderr",
     "output_type": "stream",
     "text": [
      "Extracting init faces from output/pornpics/20840305:  43%|████▎     | 9/21 [00:05<00:07,  1.70it/s]"
     ]
    },
    {
     "name": "stdout",
     "output_type": "stream",
     "text": [
      "(331, 433, 3) {'x': 300, 'y': 132, 'w': 229, 'h': 331} 51 0 /home/jixian/github/suchka-ai/output/pornpics/20840305/0064574e98f2ee1ac7a9a84b72b77f5f04869e0d.jpg\n",
      "132 463 249 682 (1280, 853, 3)\n"
     ]
    },
    {
     "name": "stderr",
     "output_type": "stream",
     "text": [
      "Extracting init faces from output/pornpics/20840305:  52%|█████▏    | 11/21 [00:07<00:05,  1.71it/s]"
     ]
    },
    {
     "name": "stdout",
     "output_type": "stream",
     "text": [
      "(201, 247, 3) {'x': 933, 'y': 84, 'w': 155, 'h': 201} 23 0 /home/jixian/github/suchka-ai/output/pornpics/20840305/38bdd5ddfd9f10c7e3fd178533d77b0c822efdfd.jpg\n",
      "84 285 910 1157 (853, 1280, 3)\n"
     ]
    },
    {
     "name": "stderr",
     "output_type": "stream",
     "text": [
      "Extracting init faces from output/pornpics/20840305:  57%|█████▋    | 12/21 [00:07<00:05,  1.63it/s]"
     ]
    },
    {
     "name": "stdout",
     "output_type": "stream",
     "text": [
      "(206, 274, 3) {'x': 919, 'y': 124, 'w': 138, 'h': 206} 34 0 /home/jixian/github/suchka-ai/output/pornpics/20840305/1bb4f6e46f3376e2ae33907b4be0de62f64e6816.jpg\n",
      "124 330 885 1159 (853, 1280, 3)\n"
     ]
    },
    {
     "name": "stderr",
     "output_type": "stream",
     "text": [
      "Extracting init faces from output/pornpics/20840305:  62%|██████▏   | 13/21 [00:08<00:05,  1.57it/s]"
     ]
    },
    {
     "name": "stdout",
     "output_type": "stream",
     "text": [
      "(191, 235, 3) {'x': 883, 'y': 168, 'w': 146, 'h': 191} 22 0 /home/jixian/github/suchka-ai/output/pornpics/20840305/cf18b5b5c7b2125696e7dd628640275b99ef2cc8.jpg\n",
      "168 359 861 1096 (853, 1280, 3)\n",
      "(193, 253, 3) {'x': 563, 'y': 26, 'w': 133, 'h': 193} 30 0 /home/jixian/github/suchka-ai/output/pornpics/20840305/cf18b5b5c7b2125696e7dd628640275b99ef2cc8.jpg\n",
      "26 219 533 786 (853, 1280, 3)\n"
     ]
    },
    {
     "name": "stderr",
     "output_type": "stream",
     "text": [
      "Extracting init faces from output/pornpics/20840305:  67%|██████▋   | 14/21 [00:09<00:05,  1.40it/s]"
     ]
    },
    {
     "name": "stdout",
     "output_type": "stream",
     "text": [
      "(195, 237, 3) {'x': 345, 'y': 309, 'w': 152, 'h': 195} 21 0 /home/jixian/github/suchka-ai/output/pornpics/20840305/aaf551c24dec2917202274b2b3cf315d1b6701d1.jpg\n",
      "309 504 324 561 (1280, 853, 3)\n"
     ]
    },
    {
     "name": "stderr",
     "output_type": "stream",
     "text": [
      "Extracting init faces from output/pornpics/20840305:  71%|███████▏  | 15/21 [00:10<00:04,  1.41it/s]"
     ]
    },
    {
     "name": "stdout",
     "output_type": "stream",
     "text": [
      "(210, 280, 3) {'x': 575, 'y': 97, 'w': 139, 'h': 210} 35 0 /home/jixian/github/suchka-ai/output/pornpics/20840305/bcba5e71ded6c3609c6b5370bc417889de063740.jpg\n",
      "97 307 540 820 (853, 1280, 3)\n",
      "(249, 287, 3) {'x': 340, 'y': 265, 'w': 210, 'h': 249} 19 0 /home/jixian/github/suchka-ai/output/pornpics/20840305/bcba5e71ded6c3609c6b5370bc417889de063740.jpg\n",
      "265 514 321 608 (853, 1280, 3)\n"
     ]
    },
    {
     "name": "stderr",
     "output_type": "stream",
     "text": [
      "Extracting init faces from output/pornpics/20840305:  76%|███████▌  | 16/21 [00:10<00:03,  1.30it/s]"
     ]
    },
    {
     "name": "stdout",
     "output_type": "stream",
     "text": [
      "(188, 238, 3) {'x': 181, 'y': 184, 'w': 137, 'h': 188} 25 0 /home/jixian/github/suchka-ai/output/pornpics/20840305/647ba600fabe7d4ab7d470480abdf1ee682800e4.jpg\n",
      "184 372 156 394 (1280, 853, 3)\n",
      "(149, 159, 3) {'x': 517, 'y': 504, 'w': 138, 'h': 149} 5 0 /home/jixian/github/suchka-ai/output/pornpics/20840305/647ba600fabe7d4ab7d470480abdf1ee682800e4.jpg\n",
      "504 653 512 671 (1280, 853, 3)\n"
     ]
    },
    {
     "name": "stderr",
     "output_type": "stream",
     "text": [
      "Extracting init faces from output/pornpics/20840305:  81%|████████  | 17/21 [00:12<00:03,  1.16it/s]"
     ]
    },
    {
     "name": "stdout",
     "output_type": "stream",
     "text": [
      "(146, 192, 3) {'x': 361, 'y': 96, 'w': 100, 'h': 146} 23 0 /home/jixian/github/suchka-ai/output/pornpics/20840305/fd8e5cf1a8dfa5b1502b77ee944fbeb61ecaeaf5.jpg\n",
      "96 242 338 530 (853, 1280, 3)\n",
      "(118, 134, 3) {'x': 1053, 'y': 210, 'w': 101, 'h': 118} 8 0 /home/jixian/github/suchka-ai/output/pornpics/20840305/fd8e5cf1a8dfa5b1502b77ee944fbeb61ecaeaf5.jpg\n",
      "210 328 1045 1179 (853, 1280, 3)\n"
     ]
    },
    {
     "name": "stderr",
     "output_type": "stream",
     "text": [
      "Extracting init faces from output/pornpics/20840305:  86%|████████▌ | 18/21 [00:12<00:02,  1.12it/s]"
     ]
    },
    {
     "name": "stdout",
     "output_type": "stream",
     "text": [
      "(269, 367, 3) {'x': 564, 'y': 78, 'w': 170, 'h': 269} 49 0 /home/jixian/github/suchka-ai/output/pornpics/20840305/5c8264535f69b98f62f9ad81c478cad9a171dfd7.jpg\n",
      "78 347 486 882 (1280, 853, 3)\n"
     ]
    },
    {
     "name": "stderr",
     "output_type": "stream",
     "text": [
      "Extracting init faces from output/pornpics/20840305:  90%|█████████ | 19/21 [00:13<00:01,  1.20it/s]"
     ]
    },
    {
     "name": "stdout",
     "output_type": "stream",
     "text": [
      "(102, 134, 3) {'x': 244, 'y': 277, 'w': 69, 'h': 102} 16 0 /home/jixian/github/suchka-ai/output/pornpics/20840305/1cc0110d4c43de6b039b312a64805584a1e23c3e.jpg\n",
      "277 379 228 362 (1280, 853, 3)\n",
      "(89, 103, 3) {'x': 388, 'y': 462, 'w': 75, 'h': 89} 7 0 /home/jixian/github/suchka-ai/output/pornpics/20840305/1cc0110d4c43de6b039b312a64805584a1e23c3e.jpg\n",
      "462 551 381 484 (1280, 853, 3)\n"
     ]
    },
    {
     "name": "stderr",
     "output_type": "stream",
     "text": [
      "Extracting init faces from output/pornpics/20840305:  95%|█████████▌| 20/21 [00:14<00:00,  1.09it/s]"
     ]
    },
    {
     "name": "stdout",
     "output_type": "stream",
     "text": [
      "(201, 241, 3) {'x': 567, 'y': 119, 'w': 160, 'h': 201} 20 0 /home/jixian/github/suchka-ai/output/pornpics/20840305/ab5fb0ae4cc303dedec3d7e5b3c41241055e6e75.jpg\n",
      "119 320 547 788 (853, 1280, 3)\n",
      "(209, 241, 3) {'x': 363, 'y': 254, 'w': 177, 'h': 209} 16 0 /home/jixian/github/suchka-ai/output/pornpics/20840305/ab5fb0ae4cc303dedec3d7e5b3c41241055e6e75.jpg\n",
      "254 463 347 588 (853, 1280, 3)\n"
     ]
    },
    {
     "name": "stderr",
     "output_type": "stream",
     "text": [
      "Extracting init faces from output/pornpics/20840305: 100%|██████████| 21/21 [00:15<00:00,  1.34it/s]\n"
     ]
    },
    {
     "name": "stdout",
     "output_type": "stream",
     "text": [
      "similarity: 0.5730113249151411 | 0.5730113249151411 | 0.5730113249151411 | 0.7\n",
      "similarity: 0.5258500755295653 | 0.5258500755295653 | 0.5730113249151411 | 0.7\n",
      "similarity: 0.3812906207159094 | 0.3812906207159094 | 0.5730113249151411 | 0.7\n",
      "similarity: 0.5849140604041643 | 0.5849140604041643 | 0.5849140604041643 | 0.7\n",
      "similarity: 0.47456770842309265 | 0.47456770842309265 | 0.5849140604041643 | 0.7\n",
      "similarity: 0.5628355730029854 | 0.5628355730029854 | 0.5849140604041643 | 0.7\n",
      "similarity: 0.5634436706270346 | 0.5634436706270346 | 0.5849140604041643 | 0.7\n",
      "similarity: 0.41821139043474875 | 0.41821139043474875 | 0.5849140604041643 | 0.7\n",
      "similarity: 0.5670328092512067 | 0.5670328092512067 | 0.5849140604041643 | 0.7\n",
      "similarity: 0.4895035250676303 | 0.4895035250676303 | 0.5849140604041643 | 0.7\n",
      "similarity: 0.6275292674207869 | 0.6275292674207869 | 0.6275292674207869 | 0.7\n",
      "similarity: 0.4969354641439485 | 0.4969354641439485 | 0.6275292674207869 | 0.7\n",
      "similarity: 0.4316245750591253 | 0.4316245750591253 | 0.6275292674207869 | 0.7\n",
      "similarity: 0.5290619989294739 | 0.5290619989294739 | 0.6275292674207869 | 0.7\n",
      "similarity: 0.5003210048220784 | 0.5003210048220784 | 0.6275292674207869 | 0.7\n",
      "similarity: 0.5730113249151412 | 0.5730113249151412 | 0.6275292674207869 | 0.7\n",
      "similarity: 0.5628355730029854 | 0.5628355730029854 | 0.6275292674207869 | 0.7\n",
      "similarity: 0.6275292674207869 | 0.6275292674207869 | 0.6275292674207869 | 0.7\n",
      "similarity: 0.4004095143780111 | 0.4004095143780111 | 0.6275292674207869 | 0.7\n",
      "similarity: 0.37447730268937035 | 0.37447730268937035 | 0.6275292674207869 | 0.7\n",
      "similarity: 0.5072418935430668 | 0.5072418935430668 | 0.6275292674207869 | 0.7\n",
      "similarity: 0.37617001326606636 | 0.37617001326606636 | 0.6275292674207869 | 0.7\n",
      "similarity: 0.5258500755295652 | 0.5258500755295652 | 0.6275292674207869 | 0.7\n",
      "similarity: 0.5634436706270346 | 0.5634436706270346 | 0.6275292674207869 | 0.7\n",
      "similarity: 0.4969354641439485 | 0.4969354641439485 | 0.6275292674207869 | 0.7\n",
      "similarity: 0.4004095143780111 | 0.4004095143780111 | 0.6275292674207869 | 0.7\n",
      "similarity: 0.4127347811265172 | 0.4127347811265172 | 0.6275292674207869 | 0.7\n",
      "similarity: 0.3812906207159094 | 0.3812906207159094 | 0.6275292674207869 | 0.7\n",
      "similarity: 0.41821139043474875 | 0.41821139043474875 | 0.6275292674207869 | 0.7\n",
      "similarity: 0.4316245750591254 | 0.4316245750591254 | 0.6275292674207869 | 0.7\n",
      "similarity: 0.37447730268937035 | 0.37447730268937035 | 0.6275292674207869 | 0.7\n",
      "similarity: 0.8047742285125399 | 0.8047742285125399 | 0.8047742285125399 | 0.7\n",
      "similarity: 0.5849140604041643 | 0.5849140604041643 | 0.8047742285125399 | 0.7\n",
      "similarity: 0.5670328092512067 | 0.5670328092512067 | 0.8047742285125399 | 0.7\n",
      "similarity: 0.5290619989294739 | 0.5290619989294739 | 0.8047742285125399 | 0.7\n",
      "similarity: 0.5072418935430668 | 0.5072418935430668 | 0.8047742285125399 | 0.7\n",
      "similarity: 0.5456946197415738 | 0.5456946197415738 | 0.8047742285125399 | 0.7\n",
      "similarity: 0.47456770842309265 | 0.47456770842309265 | 0.8047742285125399 | 0.7\n",
      "similarity: 0.4895035250676303 | 0.4895035250676303 | 0.8047742285125399 | 0.7\n",
      "similarity: 0.5003210048220784 | 0.5003210048220784 | 0.8047742285125399 | 0.7\n",
      "similarity: 0.37617001326606636 | 0.37617001326606636 | 0.8047742285125399 | 0.7\n",
      "similarity: 0.4127347811265172 | 0.4127347811265172 | 0.8047742285125399 | 0.7\n",
      "similarity: 0.8776230255595081 | 0.8776230255595081 | 0.8776230255595081 | 0.7\n",
      "similarity: 0.5165702668424415 | 0.5165702668424415 | 0.8776230255595081 | 0.7\n"
     ]
    },
    {
     "name": "stderr",
     "output_type": "stream",
     "text": [
      "Extracting init faces from output/pornpics/68681429:   0%|          | 0/15 [00:00<?, ?it/s]"
     ]
    },
    {
     "name": "stdout",
     "output_type": "stream",
     "text": [
      "(110, 144, 3) {'x': 353, 'y': 259, 'w': 76, 'h': 110} 17 0 /home/jixian/github/suchka-ai/output/pornpics/68681429/2d6a8ac69b25bdb52a2440e1160f242944819ad8.jpg\n",
      "259 369 336 480 (1280, 853, 3)\n",
      "(314, 384, 3) {'x': 429, 'y': 311, 'w': 244, 'h': 314} 35 0 /home/jixian/github/suchka-ai/output/pornpics/68681429/2d6a8ac69b25bdb52a2440e1160f242944819ad8.jpg\n",
      "311 625 394 778 (1280, 853, 3)\n"
     ]
    },
    {
     "name": "stderr",
     "output_type": "stream",
     "text": [
      "Extracting init faces from output/pornpics/68681429:   7%|▋         | 1/15 [00:01<00:18,  1.29s/it]"
     ]
    },
    {
     "name": "stdout",
     "output_type": "stream",
     "text": [
      "(80, 98, 3) {'x': 250, 'y': 201, 'w': 62, 'h': 80} 9 0 /home/jixian/github/suchka-ai/output/pornpics/68681429/92b0e579c048d038c2445078343f4d0c99959761.jpg\n",
      "201 281 241 339 (1280, 853, 3)\n",
      "(106, 136, 3) {'x': 469, 'y': 278, 'w': 76, 'h': 106} 15 0 /home/jixian/github/suchka-ai/output/pornpics/68681429/92b0e579c048d038c2445078343f4d0c99959761.jpg\n",
      "278 384 454 590 (1280, 853, 3)\n"
     ]
    },
    {
     "name": "stderr",
     "output_type": "stream",
     "text": [
      "Extracting init faces from output/pornpics/68681429:  13%|█▎        | 2/15 [00:02<00:14,  1.11s/it]"
     ]
    },
    {
     "name": "stdout",
     "output_type": "stream",
     "text": [
      "(177, 167, 3) {'x': 863, 'y': 299, 'w': 167, 'h': 157} 0 5 /home/jixian/github/suchka-ai/output/pornpics/68681429/944fd19e1f79d8a0e6cfec3db198d5f771852840.jpg\n",
      "294 471 863 1030 (853, 1280, 3)\n"
     ]
    },
    {
     "name": "stderr",
     "output_type": "stream",
     "text": [
      "Extracting init faces from output/pornpics/68681429:  20%|██        | 3/15 [00:02<00:11,  1.08it/s]"
     ]
    },
    {
     "name": "stdout",
     "output_type": "stream",
     "text": [
      "(111, 137, 3) {'x': 545, 'y': 330, 'w': 85, 'h': 111} 13 0 /home/jixian/github/suchka-ai/output/pornpics/68681429/ad8e809c59849c7d7890bfe1f7009431af426b9f.jpg\n",
      "330 441 532 669 (1280, 853, 3)\n"
     ]
    },
    {
     "name": "stderr",
     "output_type": "stream",
     "text": [
      "Extracting init faces from output/pornpics/68681429:  27%|██▋       | 4/15 [00:03<00:09,  1.18it/s]"
     ]
    },
    {
     "name": "stdout",
     "output_type": "stream",
     "text": [
      "(257, 297, 3) {'x': 250, 'y': 364, 'w': 216, 'h': 257} 20 0 /home/jixian/github/suchka-ai/output/pornpics/68681429/77e215033112a67ba65377fd0f64cacd6582925a.jpg\n",
      "364 621 230 527 (853, 1280, 3)\n"
     ]
    },
    {
     "name": "stderr",
     "output_type": "stream",
     "text": [
      "Extracting init faces from output/pornpics/68681429:  33%|███▎      | 5/15 [00:04<00:07,  1.26it/s]"
     ]
    },
    {
     "name": "stdout",
     "output_type": "stream",
     "text": [
      "(112, 110, 3) {'x': 354, 'y': 329, 'w': 110, 'h': 107} 0 1 /home/jixian/github/suchka-ai/output/pornpics/68681429/26ec6a63fdbe1f8e0ecdbdc9edda9374124a08fa.jpg\n",
      "328 440 354 464 (853, 1280, 3)\n"
     ]
    },
    {
     "name": "stderr",
     "output_type": "stream",
     "text": [
      "Extracting init faces from output/pornpics/68681429:  40%|████      | 6/15 [00:05<00:06,  1.29it/s]"
     ]
    },
    {
     "name": "stdout",
     "output_type": "stream",
     "text": [
      "(229, 267, 3) {'x': 1010, 'y': 226, 'w': 190, 'h': 229} 19 0 /home/jixian/github/suchka-ai/output/pornpics/68681429/38c5c91ea4aebba6ee1dc8570929132850e921a4.jpg\n",
      "226 455 991 1258 (853, 1280, 3)\n"
     ]
    },
    {
     "name": "stderr",
     "output_type": "stream",
     "text": [
      "Extracting init faces from output/pornpics/68681429:  47%|████▋     | 7/15 [00:05<00:05,  1.34it/s]"
     ]
    },
    {
     "name": "stdout",
     "output_type": "stream",
     "text": [
      "(92, 118, 3) {'x': 361, 'y': 142, 'w': 65, 'h': 92} 13 0 /home/jixian/github/suchka-ai/output/pornpics/68681429/577d813c265905d2f5127fc2ae6df05f8ff96ee2.jpg\n",
      "142 234 348 466 (1280, 853, 3)\n",
      "(158, 194, 3) {'x': 76, 'y': 555, 'w': 122, 'h': 158} 18 0 /home/jixian/github/suchka-ai/output/pornpics/68681429/577d813c265905d2f5127fc2ae6df05f8ff96ee2.jpg\n",
      "555 713 58 252 (1280, 853, 3)\n",
      "(165, 193, 3) {'x': 530, 'y': 216, 'w': 136, 'h': 165} 14 0 /home/jixian/github/suchka-ai/output/pornpics/68681429/577d813c265905d2f5127fc2ae6df05f8ff96ee2.jpg\n",
      "216 381 516 709 (1280, 853, 3)\n"
     ]
    },
    {
     "name": "stderr",
     "output_type": "stream",
     "text": [
      "Extracting init faces from output/pornpics/68681429:  53%|█████▎    | 8/15 [00:07<00:06,  1.08it/s]"
     ]
    },
    {
     "name": "stdout",
     "output_type": "stream",
     "text": [
      "(518, 600, 3) {'x': 358, 'y': 302, 'w': 436, 'h': 518} 41 0 /home/jixian/github/suchka-ai/output/pornpics/68681429/067cb115ca4274f4e3732d70320bf7d43e78a172.jpg\n",
      "302 820 253 917 (1280, 853, 3)\n"
     ]
    },
    {
     "name": "stderr",
     "output_type": "stream",
     "text": [
      "Extracting init faces from output/pornpics/68681429:  60%|██████    | 9/15 [00:07<00:05,  1.16it/s]"
     ]
    },
    {
     "name": "stdout",
     "output_type": "stream",
     "text": [
      "(573, 651, 3) {'x': 117, 'y': 346, 'w': 495, 'h': 573} 39 0 /home/jixian/github/suchka-ai/output/pornpics/68681429/c04b3cc3396a1fec737ad3e46b2083592c56a385.jpg\n",
      "346 919 78 729 (1280, 853, 3)\n"
     ]
    },
    {
     "name": "stderr",
     "output_type": "stream",
     "text": [
      "Extracting init faces from output/pornpics/68681429:  67%|██████▋   | 10/15 [00:08<00:04,  1.23it/s]"
     ]
    },
    {
     "name": "stdout",
     "output_type": "stream",
     "text": [
      "(170, 178, 3) {'x': 959, 'y': 279, 'w': 162, 'h': 170} 4 0 /home/jixian/github/suchka-ai/output/pornpics/68681429/ba1b1c127079b5b44621f7f426b1ddc263f658fa.jpg\n",
      "279 449 955 1133 (853, 1280, 3)\n"
     ]
    },
    {
     "name": "stderr",
     "output_type": "stream",
     "text": [
      "Extracting init faces from output/pornpics/68681429:  73%|███████▎  | 11/15 [00:09<00:03,  1.29it/s]"
     ]
    },
    {
     "name": "stdout",
     "output_type": "stream",
     "text": [
      "(91, 119, 3) {'x': 511, 'y': 293, 'w': 62, 'h': 91} 14 0 /home/jixian/github/suchka-ai/output/pornpics/68681429/628889916d539ba8e04a2f4b6260565a2ce628f3.jpg\n",
      "293 384 497 616 (1280, 853, 3)\n",
      "(157, 185, 3) {'x': 259, 'y': 132, 'w': 129, 'h': 157} 14 0 /home/jixian/github/suchka-ai/output/pornpics/68681429/628889916d539ba8e04a2f4b6260565a2ce628f3.jpg\n",
      "132 289 245 430 (1280, 853, 3)\n",
      "(119, 115, 3) {'x': 629, 'y': 570, 'w': 115, 'h': 110} 0 2 /home/jixian/github/suchka-ai/output/pornpics/68681429/628889916d539ba8e04a2f4b6260565a2ce628f3.jpg\n",
      "568 687 629 744 (1280, 853, 3)\n"
     ]
    },
    {
     "name": "stderr",
     "output_type": "stream",
     "text": [
      "Extracting init faces from output/pornpics/68681429:  80%|████████  | 12/15 [00:10<00:02,  1.06it/s]"
     ]
    },
    {
     "name": "stdout",
     "output_type": "stream",
     "text": [
      "(131, 169, 3) {'x': 250, 'y': 163, 'w': 93, 'h': 131} 19 0 /home/jixian/github/suchka-ai/output/pornpics/68681429/16b05ee118c145c70920e298d61b29085038294d.jpg\n",
      "163 294 231 400 (1280, 853, 3)\n",
      "(107, 137, 3) {'x': 395, 'y': 529, 'w': 76, 'h': 107} 15 0 /home/jixian/github/suchka-ai/output/pornpics/68681429/16b05ee118c145c70920e298d61b29085038294d.jpg\n",
      "529 636 380 517 (1280, 853, 3)\n"
     ]
    },
    {
     "name": "stderr",
     "output_type": "stream",
     "text": [
      "Extracting init faces from output/pornpics/68681429:  87%|████████▋ | 13/15 [00:11<00:01,  1.07it/s]"
     ]
    },
    {
     "name": "stdout",
     "output_type": "stream",
     "text": [
      "(89, 101, 3) {'x': 588, 'y': 150, 'w': 77, 'h': 89} 6 0 /home/jixian/github/suchka-ai/output/pornpics/68681429/5ee965d0f835d59e7956bb134c65e807296f66e5.jpg\n",
      "150 239 582 683 (853, 1280, 3)\n",
      "(117, 137, 3) {'x': 543, 'y': 245, 'w': 97, 'h': 117} 10 0 /home/jixian/github/suchka-ai/output/pornpics/68681429/5ee965d0f835d59e7956bb134c65e807296f66e5.jpg\n",
      "245 362 533 670 (853, 1280, 3)\n"
     ]
    },
    {
     "name": "stderr",
     "output_type": "stream",
     "text": [
      "Extracting init faces from output/pornpics/68681429:  93%|█████████▎| 14/15 [00:12<00:00,  1.02it/s]"
     ]
    },
    {
     "name": "stdout",
     "output_type": "stream",
     "text": [
      "(91, 119, 3) {'x': 317, 'y': 130, 'w': 62, 'h': 91} 14 0 /home/jixian/github/suchka-ai/output/pornpics/68681429/0077093247f747b7979fc16980fb2f23e26e4373.jpg\n",
      "130 221 303 422 (1280, 853, 3)\n",
      "(180, 212, 3) {'x': 413, 'y': 112, 'w': 148, 'h': 180} 16 0 /home/jixian/github/suchka-ai/output/pornpics/68681429/0077093247f747b7979fc16980fb2f23e26e4373.jpg\n",
      "112 292 397 609 (1280, 853, 3)\n",
      "(135, 169, 3) {'x': 120, 'y': 559, 'w': 101, 'h': 135} 17 0 /home/jixian/github/suchka-ai/output/pornpics/68681429/0077093247f747b7979fc16980fb2f23e26e4373.jpg\n",
      "559 694 103 272 (1280, 853, 3)\n"
     ]
    },
    {
     "name": "stderr",
     "output_type": "stream",
     "text": [
      "Extracting init faces from output/pornpics/68681429: 100%|██████████| 15/15 [00:13<00:00,  1.08it/s]\n"
     ]
    },
    {
     "name": "stdout",
     "output_type": "stream",
     "text": [
      "similarity: 0.5730113249151411 | 0.5730113249151411 | 0.8776230255595081 | 0.7\n",
      "similarity: 0.5258500755295653 | 0.5258500755295653 | 0.8776230255595081 | 0.7\n",
      "similarity: 0.427929164569501 | 0.427929164569501 | 0.8776230255595081 | 0.7\n",
      "similarity: 0.5849140604041643 | 0.5849140604041643 | 0.8776230255595081 | 0.7\n",
      "similarity: 0.427929164569501 | 0.427929164569501 | 0.8776230255595081 | 0.7\n",
      "similarity: 0.6342774294823073 | 0.6342774294823073 | 0.8776230255595081 | 0.7\n",
      "similarity: 0.4312839780223146 | 0.4312839780223146 | 0.8776230255595081 | 0.7\n",
      "similarity: 0.46035838039159355 | 0.46035838039159355 | 0.8776230255595081 | 0.7\n",
      "similarity: 0.5628355730029854 | 0.5628355730029854 | 0.8776230255595081 | 0.7\n",
      "similarity: 0.5634436706270346 | 0.5634436706270346 | 0.8776230255595081 | 0.7\n",
      "similarity: 0.45385745775118946 | 0.45385745775118946 | 0.8776230255595081 | 0.7\n",
      "similarity: 0.5670328092512067 | 0.5670328092512067 | 0.8776230255595081 | 0.7\n",
      "similarity: 0.45385745775118946 | 0.45385745775118946 | 0.8776230255595081 | 0.7\n",
      "similarity: 0.5982216346851134 | 0.5982216346851134 | 0.8776230255595081 | 0.7\n",
      "similarity: 0.4021579774676282 | 0.4021579774676282 | 0.8776230255595081 | 0.7\n",
      "similarity: 0.4459890894198161 | 0.4459890894198161 | 0.8776230255595081 | 0.7\n",
      "similarity: 0.6275292674207869 | 0.6275292674207869 | 0.8776230255595081 | 0.7\n",
      "similarity: 0.4969354641439485 | 0.4969354641439485 | 0.8776230255595081 | 0.7\n",
      "similarity: 0.4659727899406019 | 0.4659727899406019 | 0.8776230255595081 | 0.7\n",
      "similarity: 0.5290619989294739 | 0.5290619989294739 | 0.8776230255595081 | 0.7\n",
      "similarity: 0.4659727899406019 | 0.4659727899406019 | 0.8776230255595081 | 0.7\n",
      "similarity: 0.6899395234465227 | 0.6899395234465227 | 0.8776230255595081 | 0.7\n",
      "similarity: 0.4539541099318097 | 0.4539541099318097 | 0.8776230255595081 | 0.7\n",
      "similarity: 0.4797649163948488 | 0.4797649163948488 | 0.8776230255595081 | 0.7\n",
      "similarity: 0.5730113249151412 | 0.5730113249151412 | 0.8776230255595081 | 0.7\n",
      "similarity: 0.5628355730029854 | 0.5628355730029854 | 0.8776230255595081 | 0.7\n",
      "similarity: 0.6275292674207869 | 0.6275292674207869 | 0.8776230255595081 | 0.7\n",
      "similarity: 0.4004095143780111 | 0.4004095143780111 | 0.8776230255595081 | 0.7\n",
      "similarity: 0.3753236579777184 | 0.3753236579777184 | 0.8776230255595081 | 0.7\n",
      "similarity: 0.5072418935430668 | 0.5072418935430668 | 0.8776230255595081 | 0.7\n",
      "similarity: 0.3753236579777184 | 0.3753236579777184 | 0.8776230255595081 | 0.7\n",
      "similarity: 0.48209502981810615 | 0.48209502981810615 | 0.8776230255595081 | 0.7\n",
      "similarity: 0.361346481829806 | 0.361346481829806 | 0.8776230255595081 | 0.7\n",
      "similarity: 0.38723025072243766 | 0.38723025072243766 | 0.8776230255595081 | 0.7\n",
      "similarity: 0.5258500755295652 | 0.5258500755295652 | 0.8776230255595081 | 0.7\n",
      "similarity: 0.5634436706270346 | 0.5634436706270346 | 0.8776230255595081 | 0.7\n",
      "similarity: 0.4969354641439485 | 0.4969354641439485 | 0.8776230255595081 | 0.7\n",
      "similarity: 0.4004095143780111 | 0.4004095143780111 | 0.8776230255595081 | 0.7\n",
      "similarity: 0.36719232363775783 | 0.36719232363775783 | 0.8776230255595081 | 0.7\n",
      "similarity: 0.40926197099236156 | 0.40926197099236156 | 0.8776230255595081 | 0.7\n",
      "similarity: 0.35083887198142716 | 0.35083887198142716 | 0.8776230255595081 | 0.7\n",
      "similarity: 0.2890882688072448 | 0.2890882688072448 | 0.8776230255595081 | 0.7\n",
      "similarity: 0.427929164569501 | 0.427929164569501 | 0.8776230255595081 | 0.7\n",
      "similarity: 0.4538574577511896 | 0.4538574577511896 | 0.8776230255595081 | 0.7\n",
      "similarity: 0.4659727899406019 | 0.4659727899406019 | 0.8776230255595081 | 0.7\n",
      "similarity: 0.3753236579777184 | 0.3753236579777184 | 0.8776230255595081 | 0.7\n",
      "similarity: 0.8818413888406804 | 0.8818413888406804 | 0.8818413888406804 | 0.7\n",
      "similarity: 0.49975582027911103 | 0.49975582027911103 | 0.8818413888406804 | 0.7\n",
      "similarity: 0.5430136637733849 | 0.5430136637733849 | 0.8818413888406804 | 0.7\n",
      "similarity: 0.4902889377089239 | 0.4902889377089239 | 0.8818413888406804 | 0.7\n",
      "similarity: 0.5849140604041643 | 0.5849140604041643 | 0.8818413888406804 | 0.7\n",
      "similarity: 0.5670328092512067 | 0.5670328092512067 | 0.8818413888406804 | 0.7\n",
      "similarity: 0.5290619989294739 | 0.5290619989294739 | 0.8818413888406804 | 0.7\n",
      "similarity: 0.5072418935430668 | 0.5072418935430668 | 0.8818413888406804 | 0.7\n",
      "similarity: 0.5165702668424415 | 0.5165702668424415 | 0.8818413888406804 | 0.7\n",
      "similarity: 0.5442572155661964 | 0.5442572155661964 | 0.8818413888406804 | 0.7\n",
      "similarity: 0.5377930809599532 | 0.5377930809599532 | 0.8818413888406804 | 0.7\n",
      "similarity: 0.4784297690724132 | 0.4784297690724132 | 0.8818413888406804 | 0.7\n",
      "similarity: 0.4279291645695011 | 0.4279291645695011 | 0.8818413888406804 | 0.7\n",
      "similarity: 0.4538574577511896 | 0.4538574577511896 | 0.8818413888406804 | 0.7\n",
      "similarity: 0.4659727899406019 | 0.4659727899406019 | 0.8818413888406804 | 0.7\n",
      "similarity: 0.3753236579777184 | 0.3753236579777184 | 0.8818413888406804 | 0.7\n",
      "similarity: 0.36719232363775783 | 0.36719232363775783 | 0.8818413888406804 | 0.7\n",
      "similarity: 0.8818413888406804 | 0.8818413888406804 | 0.8818413888406804 | 0.7\n",
      "similarity: 0.5165702668424415 | 0.5165702668424415 | 0.8818413888406804 | 0.7\n",
      "similarity: 0.49975582027911103 | 0.49975582027911103 | 0.8818413888406804 | 0.7\n",
      "similarity: 0.5430136637733849 | 0.5430136637733849 | 0.8818413888406804 | 0.7\n",
      "similarity: 0.4902889377089239 | 0.4902889377089239 | 0.8818413888406804 | 0.7\n",
      "similarity: 0.6342774294823074 | 0.6342774294823074 | 0.8818413888406804 | 0.7\n",
      "similarity: 0.5982216346851134 | 0.5982216346851134 | 0.8818413888406804 | 0.7\n",
      "similarity: 0.6899395234465227 | 0.6899395234465227 | 0.8818413888406804 | 0.7\n",
      "similarity: 0.48209502981810615 | 0.48209502981810615 | 0.8818413888406804 | 0.7\n",
      "similarity: 0.40926197099236156 | 0.40926197099236156 | 0.8818413888406804 | 0.7\n",
      "similarity: 0.49975582027911103 | 0.49975582027911103 | 0.8818413888406804 | 0.7\n",
      "similarity: 0.5442572155661963 | 0.5442572155661963 | 0.8818413888406804 | 0.7\n",
      "similarity: 0.49975582027911103 | 0.49975582027911103 | 0.8818413888406804 | 0.7\n",
      "similarity: 0.4312839780223146 | 0.4312839780223146 | 0.8818413888406804 | 0.7\n",
      "similarity: 0.4021579774676282 | 0.4021579774676282 | 0.8818413888406804 | 0.7\n",
      "similarity: 0.4539541099318096 | 0.4539541099318096 | 0.8818413888406804 | 0.7\n",
      "similarity: 0.361346481829806 | 0.361346481829806 | 0.8818413888406804 | 0.7\n",
      "similarity: 0.3508388719814272 | 0.3508388719814272 | 0.8818413888406804 | 0.7\n",
      "similarity: 0.5430136637733849 | 0.5430136637733849 | 0.8818413888406804 | 0.7\n",
      "similarity: 0.5377930809599532 | 0.5377930809599532 | 0.8818413888406804 | 0.7\n",
      "similarity: 0.5430136637733849 | 0.5430136637733849 | 0.8818413888406804 | 0.7\n",
      "similarity: 0.46035838039159355 | 0.46035838039159355 | 0.8818413888406804 | 0.7\n",
      "similarity: 0.4459890894198161 | 0.4459890894198161 | 0.8818413888406804 | 0.7\n",
      "similarity: 0.4797649163948488 | 0.4797649163948488 | 0.8818413888406804 | 0.7\n",
      "similarity: 0.38723025072243766 | 0.38723025072243766 | 0.8818413888406804 | 0.7\n",
      "similarity: 0.2890882688072448 | 0.2890882688072448 | 0.8818413888406804 | 0.7\n",
      "similarity: 0.4902889377089239 | 0.4902889377089239 | 0.8818413888406804 | 0.7\n",
      "similarity: 0.4784297690724131 | 0.4784297690724131 | 0.8818413888406804 | 0.7\n",
      "similarity: 0.4902889377089239 | 0.4902889377089239 | 0.8818413888406804 | 0.7\n"
     ]
    },
    {
     "name": "stderr",
     "output_type": "stream",
     "text": [
      "Extracting init faces from output/pornpics/77225687:   0%|          | 0/21 [00:00<?, ?it/s]"
     ]
    },
    {
     "name": "stdout",
     "output_type": "stream",
     "text": [
      "(146, 188, 3) {'x': 551, 'y': 124, 'w': 103, 'h': 146} 21 0 /home/jixian/github/suchka-ai/output/pornpics/77225687/5fc7f8bcbdb722bc34bb970c53f22a679490ee13.jpg\n",
      "124 270 530 718 (854, 1280, 3)\n",
      "(179, 157, 3) {'x': 954, 'y': 645, 'w': 157, 'h': 135} 0 11 /home/jixian/github/suchka-ai/output/pornpics/77225687/5fc7f8bcbdb722bc34bb970c53f22a679490ee13.jpg\n",
      "634 813 954 1111 (854, 1280, 3)\n"
     ]
    },
    {
     "name": "stderr",
     "output_type": "stream",
     "text": [
      "Extracting init faces from output/pornpics/77225687:   5%|▍         | 1/21 [00:00<00:19,  1.03it/s]"
     ]
    },
    {
     "name": "stdout",
     "output_type": "stream",
     "text": [
      "(149, 207, 3) {'x': 496, 'y': 187, 'w': 90, 'h': 149} 29 0 /home/jixian/github/suchka-ai/output/pornpics/77225687/6d75b9b8c0b6aeb076e837e2e9aca0c048e58677.jpg\n",
      "187 336 467 674 (854, 1280, 3)\n",
      "(110, 130, 3) {'x': 580, 'y': 98, 'w': 90, 'h': 110} 10 0 /home/jixian/github/suchka-ai/output/pornpics/77225687/6d75b9b8c0b6aeb076e837e2e9aca0c048e58677.jpg\n",
      "98 208 570 700 (854, 1280, 3)\n"
     ]
    },
    {
     "name": "stderr",
     "output_type": "stream",
     "text": [
      "Extracting init faces from output/pornpics/77225687:  10%|▉         | 2/21 [00:02<00:19,  1.03s/it]"
     ]
    },
    {
     "name": "stdout",
     "output_type": "stream",
     "text": [
      "(135, 157, 3) {'x': 373, 'y': 142, 'w': 113, 'h': 135} 11 0 /home/jixian/github/suchka-ai/output/pornpics/77225687/5d0063a7a4d27f058d0ed4bdaaab2a38ced0bae0.jpg\n",
      "142 277 362 519 (854, 1280, 3)\n"
     ]
    },
    {
     "name": "stderr",
     "output_type": "stream",
     "text": [
      "Extracting init faces from output/pornpics/77225687:  14%|█▍        | 3/21 [00:02<00:16,  1.12it/s]"
     ]
    },
    {
     "name": "stdout",
     "output_type": "stream",
     "text": [
      "(327, 393, 3) {'x': 547, 'y': 94, 'w': 260, 'h': 327} 33 0 /home/jixian/github/suchka-ai/output/pornpics/77225687/069affd4b6d79a7d3ce50eb42a5349e439f20bca.jpg\n",
      "94 421 514 907 (854, 1280, 3)\n",
      "(280, 330, 3) {'x': 293, 'y': 367, 'w': 229, 'h': 280} 25 0 /home/jixian/github/suchka-ai/output/pornpics/77225687/069affd4b6d79a7d3ce50eb42a5349e439f20bca.jpg\n",
      "367 647 268 598 (854, 1280, 3)\n"
     ]
    },
    {
     "name": "stderr",
     "output_type": "stream",
     "text": [
      "Extracting init faces from output/pornpics/77225687:  19%|█▉        | 4/21 [00:03<00:15,  1.08it/s]"
     ]
    },
    {
     "name": "stdout",
     "output_type": "stream",
     "text": [
      "(225, 221, 3) {'x': 389, 'y': 47, 'w': 221, 'h': 217} 0 2 /home/jixian/github/suchka-ai/output/pornpics/77225687/d58d91dc9412bf06bc2693834771186c94c0376c.jpg\n",
      "45 270 389 610 (854, 1280, 3)\n"
     ]
    },
    {
     "name": "stderr",
     "output_type": "stream",
     "text": [
      "Extracting init faces from output/pornpics/77225687:  29%|██▊       | 6/21 [00:05<00:11,  1.32it/s]"
     ]
    },
    {
     "name": "stdout",
     "output_type": "stream",
     "text": [
      "(111, 135, 3) {'x': 431, 'y': 62, 'w': 86, 'h': 111} 12 0 /home/jixian/github/suchka-ai/output/pornpics/77225687/4ebd16f57f97daa86dbde2a63bae69eabe68b700.jpg\n",
      "62 173 419 554 (1280, 854, 3)\n",
      "(163, 211, 3) {'x': 158, 'y': 401, 'w': 115, 'h': 163} 24 0 /home/jixian/github/suchka-ai/output/pornpics/77225687/4ebd16f57f97daa86dbde2a63bae69eabe68b700.jpg\n",
      "401 564 134 345 (1280, 854, 3)\n"
     ]
    },
    {
     "name": "stderr",
     "output_type": "stream",
     "text": [
      "Extracting init faces from output/pornpics/77225687:  33%|███▎      | 7/21 [00:06<00:12,  1.12it/s]"
     ]
    },
    {
     "name": "stdout",
     "output_type": "stream",
     "text": [
      "(271, 321, 3) {'x': 899, 'y': 69, 'w': 220, 'h': 271} 25 0 /home/jixian/github/suchka-ai/output/pornpics/77225687/e8eaec1138be9339dc5b3d735a886a238b98caec.jpg\n",
      "69 340 874 1195 (854, 1280, 3)\n"
     ]
    },
    {
     "name": "stderr",
     "output_type": "stream",
     "text": [
      "Extracting init faces from output/pornpics/77225687:  38%|███▊      | 8/21 [00:06<00:10,  1.20it/s]"
     ]
    },
    {
     "name": "stdout",
     "output_type": "stream",
     "text": [
      "(139, 181, 3) {'x': 691, 'y': 124, 'w': 97, 'h': 139} 21 0 /home/jixian/github/suchka-ai/output/pornpics/77225687/3cf16a77c193b4cfbe9121a9552470e2cfdcb7c9.jpg\n",
      "124 263 670 851 (854, 1280, 3)\n",
      "(183, 249, 3) {'x': 511, 'y': 91, 'w': 116, 'h': 183} 33 0 /home/jixian/github/suchka-ai/output/pornpics/77225687/3cf16a77c193b4cfbe9121a9552470e2cfdcb7c9.jpg\n",
      "91 274 478 727 (854, 1280, 3)\n"
     ]
    },
    {
     "name": "stderr",
     "output_type": "stream",
     "text": [
      "Extracting init faces from output/pornpics/77225687:  43%|████▎     | 9/21 [00:07<00:10,  1.17it/s]"
     ]
    },
    {
     "name": "stdout",
     "output_type": "stream",
     "text": [
      "(309, 391, 3) {'x': 377, 'y': 123, 'w': 227, 'h': 309} 41 0 /home/jixian/github/suchka-ai/output/pornpics/77225687/6e624f04d86a25dc0ca003e2e3e9bcb59e784a8b.jpg\n",
      "123 432 336 727 (854, 1280, 3)\n"
     ]
    },
    {
     "name": "stderr",
     "output_type": "stream",
     "text": [
      "Extracting init faces from output/pornpics/77225687:  48%|████▊     | 10/21 [00:08<00:08,  1.24it/s]"
     ]
    },
    {
     "name": "stdout",
     "output_type": "stream",
     "text": [
      "(129, 159, 3) {'x': 721, 'y': 88, 'w': 99, 'h': 129} 15 0 /home/jixian/github/suchka-ai/output/pornpics/77225687/8aee3d151e613e071b36549ab3f64d1469d6c203.jpg\n",
      "88 217 706 865 (854, 1280, 3)\n",
      "(106, 136, 3) {'x': 336, 'y': 208, 'w': 76, 'h': 106} 15 0 /home/jixian/github/suchka-ai/output/pornpics/77225687/8aee3d151e613e071b36549ab3f64d1469d6c203.jpg\n",
      "208 314 321 457 (854, 1280, 3)\n"
     ]
    },
    {
     "name": "stderr",
     "output_type": "stream",
     "text": [
      "Extracting init faces from output/pornpics/77225687:  52%|█████▏    | 11/21 [00:09<00:08,  1.18it/s]"
     ]
    },
    {
     "name": "stdout",
     "output_type": "stream",
     "text": [
      "(141, 157, 3) {'x': 545, 'y': 72, 'w': 124, 'h': 141} 8 0 /home/jixian/github/suchka-ai/output/pornpics/77225687/cea711403673caf5cf4991235cc76a1dcaacab89.jpg\n",
      "72 213 537 694 (854, 1280, 3)\n",
      "(138, 174, 3) {'x': 819, 'y': 79, 'w': 102, 'h': 138} 18 0 /home/jixian/github/suchka-ai/output/pornpics/77225687/cea711403673caf5cf4991235cc76a1dcaacab89.jpg\n",
      "79 217 801 975 (854, 1280, 3)\n"
     ]
    },
    {
     "name": "stderr",
     "output_type": "stream",
     "text": [
      "Extracting init faces from output/pornpics/77225687:  57%|█████▋    | 12/21 [00:10<00:08,  1.08it/s]"
     ]
    },
    {
     "name": "stdout",
     "output_type": "stream",
     "text": [
      "(155, 209, 3) {'x': 341, 'y': 87, 'w': 101, 'h': 155} 27 0 /home/jixian/github/suchka-ai/output/pornpics/77225687/d9f3ce7066942a717b99de25379522f3e42d9ad3.jpg\n",
      "87 242 314 523 (854, 1280, 3)\n",
      "(115, 143, 3) {'x': 768, 'y': 48, 'w': 87, 'h': 115} 14 0 /home/jixian/github/suchka-ai/output/pornpics/77225687/d9f3ce7066942a717b99de25379522f3e42d9ad3.jpg\n",
      "48 163 754 897 (854, 1280, 3)\n"
     ]
    },
    {
     "name": "stderr",
     "output_type": "stream",
     "text": [
      "Extracting init faces from output/pornpics/77225687:  62%|██████▏   | 13/21 [00:11<00:07,  1.08it/s]"
     ]
    },
    {
     "name": "stdout",
     "output_type": "stream",
     "text": [
      "(200, 242, 3) {'x': 593, 'y': 83, 'w': 157, 'h': 200} 21 0 /home/jixian/github/suchka-ai/output/pornpics/77225687/4c2e9c4e3f34a7d978c71646828f33277bd83aa2.jpg\n",
      "83 283 572 814 (854, 1280, 3)\n",
      "(234, 210, 3) {'x': 823, 'y': 362, 'w': 210, 'h': 186} 0 12 /home/jixian/github/suchka-ai/output/pornpics/77225687/4c2e9c4e3f34a7d978c71646828f33277bd83aa2.jpg\n",
      "350 584 823 1033 (854, 1280, 3)\n"
     ]
    },
    {
     "name": "stderr",
     "output_type": "stream",
     "text": [
      "Extracting init faces from output/pornpics/77225687:  67%|██████▋   | 14/21 [00:12<00:07,  1.05s/it]"
     ]
    },
    {
     "name": "stdout",
     "output_type": "stream",
     "text": [
      "(97, 121, 3) {'x': 364, 'y': 99, 'w': 72, 'h': 97} 12 0 /home/jixian/github/suchka-ai/output/pornpics/77225687/b982369b73ffdfc45b06fde89fbf2d5b724cfb47.jpg\n",
      "99 196 352 473 (854, 1280, 3)\n",
      "(106, 136, 3) {'x': 677, 'y': 33, 'w': 75, 'h': 106} 15 0 /home/jixian/github/suchka-ai/output/pornpics/77225687/b982369b73ffdfc45b06fde89fbf2d5b724cfb47.jpg\n",
      "33 139 662 798 (854, 1280, 3)\n"
     ]
    },
    {
     "name": "stderr",
     "output_type": "stream",
     "text": [
      "Extracting init faces from output/pornpics/77225687:  71%|███████▏  | 15/21 [00:14<00:06,  1.09s/it]"
     ]
    },
    {
     "name": "stdout",
     "output_type": "stream",
     "text": [
      "(97, 129, 3) {'x': 532, 'y': 380, 'w': 65, 'h': 97} 16 0 /home/jixian/github/suchka-ai/output/pornpics/77225687/9597c3888dfbc32d4de47a4cd705d6875330caac.jpg\n",
      "380 477 516 645 (854, 1280, 3)\n"
     ]
    },
    {
     "name": "stderr",
     "output_type": "stream",
     "text": [
      "Extracting init faces from output/pornpics/77225687:  76%|███████▌  | 16/21 [00:14<00:04,  1.02it/s]"
     ]
    },
    {
     "name": "stdout",
     "output_type": "stream",
     "text": [
      "(140, 178, 3) {'x': 800, 'y': 72, 'w': 101, 'h': 140} 19 0 /home/jixian/github/suchka-ai/output/pornpics/77225687/a233649fdbcd827a6ab639b1c543551126f905ea.jpg\n",
      "72 212 781 959 (854, 1280, 3)\n",
      "(134, 168, 3) {'x': 482, 'y': 256, 'w': 100, 'h': 134} 17 0 /home/jixian/github/suchka-ai/output/pornpics/77225687/a233649fdbcd827a6ab639b1c543551126f905ea.jpg\n",
      "256 390 465 633 (854, 1280, 3)\n"
     ]
    },
    {
     "name": "stderr",
     "output_type": "stream",
     "text": [
      "Extracting init faces from output/pornpics/77225687:  81%|████████  | 17/21 [00:15<00:03,  1.04it/s]"
     ]
    },
    {
     "name": "stdout",
     "output_type": "stream",
     "text": [
      "(282, 356, 3) {'x': 363, 'y': 116, 'w': 208, 'h': 282} 37 0 /home/jixian/github/suchka-ai/output/pornpics/77225687/af32b4fa7c7463557690b207b516fee2ff5f9395.jpg\n",
      "116 398 326 682 (854, 1280, 3)\n",
      "(402, 522, 3) {'x': 501, 'y': 309, 'w': 281, 'h': 402} 60 0 /home/jixian/github/suchka-ai/output/pornpics/77225687/af32b4fa7c7463557690b207b516fee2ff5f9395.jpg\n",
      "309 711 441 963 (854, 1280, 3)\n"
     ]
    },
    {
     "name": "stderr",
     "output_type": "stream",
     "text": [
      "Extracting init faces from output/pornpics/77225687:  86%|████████▌ | 18/21 [00:16<00:02,  1.05it/s]"
     ]
    },
    {
     "name": "stdout",
     "output_type": "stream",
     "text": [
      "(140, 172, 3) {'x': 386, 'y': 89, 'w': 107, 'h': 140} 16 0 /home/jixian/github/suchka-ai/output/pornpics/77225687/18421218b24fd984f20e2b9e29878b1badaa8669.jpg\n",
      "89 229 370 542 (854, 1280, 3)\n"
     ]
    },
    {
     "name": "stderr",
     "output_type": "stream",
     "text": [
      "Extracting init faces from output/pornpics/77225687:  90%|█████████ | 19/21 [00:17<00:01,  1.08it/s]\n"
     ]
    },
    {
     "ename": "KeyboardInterrupt",
     "evalue": "",
     "output_type": "error",
     "traceback": [
      "\u001b[0;31m---------------------------------------------------------------------------\u001b[0m",
      "\u001b[0;31mKeyboardInterrupt\u001b[0m                         Traceback (most recent call last)",
      "Cell \u001b[0;32mIn[1], line 21\u001b[0m\n\u001b[1;32m     18\u001b[0m output_dir \u001b[39m=\u001b[39m \u001b[39mf\u001b[39m\u001b[39m'\u001b[39m\u001b[39m{\u001b[39;00mproject_root\u001b[39m}\u001b[39;00m\u001b[39m/output/faces\u001b[39m\u001b[39m'\u001b[39m\n\u001b[1;32m     19\u001b[0m galleries \u001b[39m=\u001b[39m model\u001b[39m.\u001b[39mModel\u001b[39m.\u001b[39mobjects(name \u001b[39m=\u001b[39m model_name)\u001b[39m.\u001b[39mfirst()\u001b[39m.\u001b[39mgalleries\n\u001b[0;32m---> 21\u001b[0m init_model_face_db(model_name, galleries, output_dir)\n",
      "File \u001b[0;32m~/github/suchka-ai/core/face_processor.py:140\u001b[0m, in \u001b[0;36minit_model_face_db\u001b[0;34m(model_name, galleries, output_dir)\u001b[0m\n\u001b[1;32m    138\u001b[0m \u001b[39mfor\u001b[39;00m image_path \u001b[39min\u001b[39;00m tqdm\u001b[39m.\u001b[39mtqdm(images, desc\u001b[39m=\u001b[39m\u001b[39mf\u001b[39m\u001b[39m'\u001b[39m\u001b[39mExtracting init faces from \u001b[39m\u001b[39m{\u001b[39;00mgallery\u001b[39m.\u001b[39mpath\u001b[39m}\u001b[39;00m\u001b[39m'\u001b[39m):\n\u001b[1;32m    139\u001b[0m   output_file \u001b[39m=\u001b[39m \u001b[39mf\u001b[39m\u001b[39m'\u001b[39m\u001b[39m{\u001b[39;00mtemp_folder\u001b[39m}\u001b[39;00m\u001b[39m/\u001b[39m\u001b[39m{\u001b[39;00mgid\u001b[39m}\u001b[39;00m\u001b[39m/\u001b[39m\u001b[39m{\u001b[39;00mos\u001b[39m.\u001b[39mpath\u001b[39m.\u001b[39mbasename(image_path)\u001b[39m.\u001b[39mreplace(\u001b[39m\"\u001b[39m\u001b[39m.jpg\u001b[39m\u001b[39m\"\u001b[39m,\u001b[39m \u001b[39m\u001b[39m\"\u001b[39m\u001b[39m\"\u001b[39m)\u001b[39m}\u001b[39;00m\u001b[39m_0.jpg\u001b[39m\u001b[39m'\u001b[39m\n\u001b[0;32m--> 140\u001b[0m   faces \u001b[39m=\u001b[39m DeepFace\u001b[39m.\u001b[39;49mextract_faces(img_path \u001b[39m=\u001b[39;49m image_path,\n\u001b[1;32m    141\u001b[0m                                  enforce_detection \u001b[39m=\u001b[39;49m \u001b[39mFalse\u001b[39;49;00m,\n\u001b[1;32m    142\u001b[0m                                  grayscale \u001b[39m=\u001b[39;49m \u001b[39mFalse\u001b[39;49;00m,\n\u001b[1;32m    143\u001b[0m                                  align \u001b[39m=\u001b[39;49m \u001b[39mFalse\u001b[39;49;00m,\n\u001b[1;32m    144\u001b[0m                                  detector_backend \u001b[39m=\u001b[39;49m DEEPFACE_BACKEND)\n\u001b[1;32m    145\u001b[0m   face_id \u001b[39m=\u001b[39m \u001b[39m0\u001b[39m\n\u001b[1;32m    146\u001b[0m   \u001b[39mfor\u001b[39;00m face \u001b[39min\u001b[39;00m faces:\n",
      "File \u001b[0;32m~/anaconda3/lib/python3.10/site-packages/deepface/DeepFace.py:787\u001b[0m, in \u001b[0;36mextract_faces\u001b[0;34m(img_path, target_size, detector_backend, enforce_detection, align, grayscale)\u001b[0m\n\u001b[1;32m    757\u001b[0m \u001b[39m\u001b[39m\u001b[39m\"\"\"\u001b[39;00m\n\u001b[1;32m    758\u001b[0m \u001b[39mThis function applies pre-processing stages of a face recognition pipeline\u001b[39;00m\n\u001b[1;32m    759\u001b[0m \u001b[39mincluding detection and alignment\u001b[39;00m\n\u001b[0;32m   (...)\u001b[0m\n\u001b[1;32m    783\u001b[0m \n\u001b[1;32m    784\u001b[0m \u001b[39m\"\"\"\u001b[39;00m\n\u001b[1;32m    786\u001b[0m resp_objs \u001b[39m=\u001b[39m []\n\u001b[0;32m--> 787\u001b[0m img_objs \u001b[39m=\u001b[39m functions\u001b[39m.\u001b[39;49mextract_faces(\n\u001b[1;32m    788\u001b[0m     img\u001b[39m=\u001b[39;49mimg_path,\n\u001b[1;32m    789\u001b[0m     target_size\u001b[39m=\u001b[39;49mtarget_size,\n\u001b[1;32m    790\u001b[0m     detector_backend\u001b[39m=\u001b[39;49mdetector_backend,\n\u001b[1;32m    791\u001b[0m     grayscale\u001b[39m=\u001b[39;49mgrayscale,\n\u001b[1;32m    792\u001b[0m     enforce_detection\u001b[39m=\u001b[39;49menforce_detection,\n\u001b[1;32m    793\u001b[0m     align\u001b[39m=\u001b[39;49malign,\n\u001b[1;32m    794\u001b[0m )\n\u001b[1;32m    796\u001b[0m \u001b[39mfor\u001b[39;00m img, region, confidence \u001b[39min\u001b[39;00m img_objs:\n\u001b[1;32m    797\u001b[0m     resp_obj \u001b[39m=\u001b[39m {}\n",
      "File \u001b[0;32m~/anaconda3/lib/python3.10/site-packages/deepface/commons/functions.py:111\u001b[0m, in \u001b[0;36mextract_faces\u001b[0;34m(img, target_size, detector_backend, grayscale, enforce_detection, align)\u001b[0m\n\u001b[1;32m    109\u001b[0m \u001b[39melse\u001b[39;00m:\n\u001b[1;32m    110\u001b[0m     face_detector \u001b[39m=\u001b[39m FaceDetector\u001b[39m.\u001b[39mbuild_model(detector_backend)\n\u001b[0;32m--> 111\u001b[0m     face_objs \u001b[39m=\u001b[39m FaceDetector\u001b[39m.\u001b[39;49mdetect_faces(face_detector, detector_backend, img, align)\n\u001b[1;32m    113\u001b[0m \u001b[39m# in case of no face found\u001b[39;00m\n\u001b[1;32m    114\u001b[0m \u001b[39mif\u001b[39;00m \u001b[39mlen\u001b[39m(face_objs) \u001b[39m==\u001b[39m \u001b[39m0\u001b[39m \u001b[39mand\u001b[39;00m enforce_detection \u001b[39mis\u001b[39;00m \u001b[39mTrue\u001b[39;00m:\n",
      "File \u001b[0;32m~/anaconda3/lib/python3.10/site-packages/deepface/detectors/FaceDetector.py:71\u001b[0m, in \u001b[0;36mdetect_faces\u001b[0;34m(face_detector, detector_backend, img, align)\u001b[0m\n\u001b[1;32m     68\u001b[0m detect_face_fn \u001b[39m=\u001b[39m backends\u001b[39m.\u001b[39mget(detector_backend)\n\u001b[1;32m     70\u001b[0m \u001b[39mif\u001b[39;00m detect_face_fn:  \u001b[39m# pylint: disable=no-else-return\u001b[39;00m\n\u001b[0;32m---> 71\u001b[0m     obj \u001b[39m=\u001b[39m detect_face_fn(face_detector, img, align)\n\u001b[1;32m     72\u001b[0m     \u001b[39m# obj stores list of (detected_face, region, confidence)\u001b[39;00m\n\u001b[1;32m     73\u001b[0m     \u001b[39mreturn\u001b[39;00m obj\n",
      "File \u001b[0;32m~/anaconda3/lib/python3.10/site-packages/deepface/detectors/MtcnnWrapper.py:20\u001b[0m, in \u001b[0;36mdetect_face\u001b[0;34m(face_detector, img, align)\u001b[0m\n\u001b[1;32m     17\u001b[0m img_region \u001b[39m=\u001b[39m [\u001b[39m0\u001b[39m, \u001b[39m0\u001b[39m, img\u001b[39m.\u001b[39mshape[\u001b[39m1\u001b[39m], img\u001b[39m.\u001b[39mshape[\u001b[39m0\u001b[39m]]\n\u001b[1;32m     19\u001b[0m img_rgb \u001b[39m=\u001b[39m cv2\u001b[39m.\u001b[39mcvtColor(img, cv2\u001b[39m.\u001b[39mCOLOR_BGR2RGB)  \u001b[39m# mtcnn expects RGB but OpenCV read BGR\u001b[39;00m\n\u001b[0;32m---> 20\u001b[0m detections \u001b[39m=\u001b[39m face_detector\u001b[39m.\u001b[39;49mdetect_faces(img_rgb)\n\u001b[1;32m     22\u001b[0m \u001b[39mif\u001b[39;00m \u001b[39mlen\u001b[39m(detections) \u001b[39m>\u001b[39m \u001b[39m0\u001b[39m:\n\u001b[1;32m     24\u001b[0m     \u001b[39mfor\u001b[39;00m detection \u001b[39min\u001b[39;00m detections:\n",
      "File \u001b[0;32m~/anaconda3/lib/python3.10/site-packages/mtcnn/mtcnn.py:300\u001b[0m, in \u001b[0;36mMTCNN.detect_faces\u001b[0;34m(self, img)\u001b[0m\n\u001b[1;32m    298\u001b[0m \u001b[39m# We pipe here each of the stages\u001b[39;00m\n\u001b[1;32m    299\u001b[0m \u001b[39mfor\u001b[39;00m stage \u001b[39min\u001b[39;00m stages:\n\u001b[0;32m--> 300\u001b[0m     result \u001b[39m=\u001b[39m stage(img, result[\u001b[39m0\u001b[39;49m], result[\u001b[39m1\u001b[39;49m])\n\u001b[1;32m    302\u001b[0m [total_boxes, points] \u001b[39m=\u001b[39m result\n\u001b[1;32m    304\u001b[0m bounding_boxes \u001b[39m=\u001b[39m []\n",
      "File \u001b[0;32m~/anaconda3/lib/python3.10/site-packages/mtcnn/mtcnn.py:342\u001b[0m, in \u001b[0;36mMTCNN.__stage1\u001b[0;34m(self, image, scales, stage_status)\u001b[0m\n\u001b[1;32m    339\u001b[0m img_x \u001b[39m=\u001b[39m np\u001b[39m.\u001b[39mexpand_dims(scaled_image, \u001b[39m0\u001b[39m)\n\u001b[1;32m    340\u001b[0m img_y \u001b[39m=\u001b[39m np\u001b[39m.\u001b[39mtranspose(img_x, (\u001b[39m0\u001b[39m, \u001b[39m2\u001b[39m, \u001b[39m1\u001b[39m, \u001b[39m3\u001b[39m))\n\u001b[0;32m--> 342\u001b[0m out \u001b[39m=\u001b[39m \u001b[39mself\u001b[39;49m\u001b[39m.\u001b[39;49m_pnet\u001b[39m.\u001b[39;49mpredict(img_y)\n\u001b[1;32m    344\u001b[0m out0 \u001b[39m=\u001b[39m np\u001b[39m.\u001b[39mtranspose(out[\u001b[39m0\u001b[39m], (\u001b[39m0\u001b[39m, \u001b[39m2\u001b[39m, \u001b[39m1\u001b[39m, \u001b[39m3\u001b[39m))\n\u001b[1;32m    345\u001b[0m out1 \u001b[39m=\u001b[39m np\u001b[39m.\u001b[39mtranspose(out[\u001b[39m1\u001b[39m], (\u001b[39m0\u001b[39m, \u001b[39m2\u001b[39m, \u001b[39m1\u001b[39m, \u001b[39m3\u001b[39m))\n",
      "File \u001b[0;32m~/anaconda3/lib/python3.10/site-packages/keras/utils/traceback_utils.py:65\u001b[0m, in \u001b[0;36mfilter_traceback.<locals>.error_handler\u001b[0;34m(*args, **kwargs)\u001b[0m\n\u001b[1;32m     63\u001b[0m filtered_tb \u001b[39m=\u001b[39m \u001b[39mNone\u001b[39;00m\n\u001b[1;32m     64\u001b[0m \u001b[39mtry\u001b[39;00m:\n\u001b[0;32m---> 65\u001b[0m     \u001b[39mreturn\u001b[39;00m fn(\u001b[39m*\u001b[39;49margs, \u001b[39m*\u001b[39;49m\u001b[39m*\u001b[39;49mkwargs)\n\u001b[1;32m     66\u001b[0m \u001b[39mexcept\u001b[39;00m \u001b[39mException\u001b[39;00m \u001b[39mas\u001b[39;00m e:\n\u001b[1;32m     67\u001b[0m     filtered_tb \u001b[39m=\u001b[39m _process_traceback_frames(e\u001b[39m.\u001b[39m__traceback__)\n",
      "File \u001b[0;32m~/anaconda3/lib/python3.10/site-packages/keras/engine/training.py:2349\u001b[0m, in \u001b[0;36mModel.predict\u001b[0;34m(self, x, batch_size, verbose, steps, callbacks, max_queue_size, workers, use_multiprocessing)\u001b[0m\n\u001b[1;32m   2340\u001b[0m     \u001b[39mexcept\u001b[39;00m \u001b[39mValueError\u001b[39;00m:\n\u001b[1;32m   2341\u001b[0m         warnings\u001b[39m.\u001b[39mwarn(\n\u001b[1;32m   2342\u001b[0m             \u001b[39m\"\u001b[39m\u001b[39mUsing Model.predict with MultiWorkerMirroredStrategy \u001b[39m\u001b[39m\"\u001b[39m\n\u001b[1;32m   2343\u001b[0m             \u001b[39m\"\u001b[39m\u001b[39mor TPUStrategy and AutoShardPolicy.FILE might lead to \u001b[39m\u001b[39m\"\u001b[39m\n\u001b[0;32m   (...)\u001b[0m\n\u001b[1;32m   2346\u001b[0m             stacklevel\u001b[39m=\u001b[39m\u001b[39m2\u001b[39m,\n\u001b[1;32m   2347\u001b[0m         )\n\u001b[0;32m-> 2349\u001b[0m data_handler \u001b[39m=\u001b[39m data_adapter\u001b[39m.\u001b[39;49mget_data_handler(\n\u001b[1;32m   2350\u001b[0m     x\u001b[39m=\u001b[39;49mx,\n\u001b[1;32m   2351\u001b[0m     batch_size\u001b[39m=\u001b[39;49mbatch_size,\n\u001b[1;32m   2352\u001b[0m     steps_per_epoch\u001b[39m=\u001b[39;49msteps,\n\u001b[1;32m   2353\u001b[0m     initial_epoch\u001b[39m=\u001b[39;49m\u001b[39m0\u001b[39;49m,\n\u001b[1;32m   2354\u001b[0m     epochs\u001b[39m=\u001b[39;49m\u001b[39m1\u001b[39;49m,\n\u001b[1;32m   2355\u001b[0m     max_queue_size\u001b[39m=\u001b[39;49mmax_queue_size,\n\u001b[1;32m   2356\u001b[0m     workers\u001b[39m=\u001b[39;49mworkers,\n\u001b[1;32m   2357\u001b[0m     use_multiprocessing\u001b[39m=\u001b[39;49muse_multiprocessing,\n\u001b[1;32m   2358\u001b[0m     model\u001b[39m=\u001b[39;49m\u001b[39mself\u001b[39;49m,\n\u001b[1;32m   2359\u001b[0m     steps_per_execution\u001b[39m=\u001b[39;49m\u001b[39mself\u001b[39;49m\u001b[39m.\u001b[39;49m_steps_per_execution,\n\u001b[1;32m   2360\u001b[0m )\n\u001b[1;32m   2362\u001b[0m \u001b[39m# Container that configures and calls `tf.keras.Callback`s.\u001b[39;00m\n\u001b[1;32m   2363\u001b[0m \u001b[39mif\u001b[39;00m \u001b[39mnot\u001b[39;00m \u001b[39misinstance\u001b[39m(callbacks, callbacks_module\u001b[39m.\u001b[39mCallbackList):\n",
      "File \u001b[0;32m~/anaconda3/lib/python3.10/site-packages/keras/engine/data_adapter.py:1583\u001b[0m, in \u001b[0;36mget_data_handler\u001b[0;34m(*args, **kwargs)\u001b[0m\n\u001b[1;32m   1581\u001b[0m \u001b[39mif\u001b[39;00m \u001b[39mgetattr\u001b[39m(kwargs[\u001b[39m\"\u001b[39m\u001b[39mmodel\u001b[39m\u001b[39m\"\u001b[39m], \u001b[39m\"\u001b[39m\u001b[39m_cluster_coordinator\u001b[39m\u001b[39m\"\u001b[39m, \u001b[39mNone\u001b[39;00m):\n\u001b[1;32m   1582\u001b[0m     \u001b[39mreturn\u001b[39;00m _ClusterCoordinatorDataHandler(\u001b[39m*\u001b[39margs, \u001b[39m*\u001b[39m\u001b[39m*\u001b[39mkwargs)\n\u001b[0;32m-> 1583\u001b[0m \u001b[39mreturn\u001b[39;00m DataHandler(\u001b[39m*\u001b[39;49margs, \u001b[39m*\u001b[39;49m\u001b[39m*\u001b[39;49mkwargs)\n",
      "File \u001b[0;32m~/anaconda3/lib/python3.10/site-packages/keras/engine/data_adapter.py:1260\u001b[0m, in \u001b[0;36mDataHandler.__init__\u001b[0;34m(self, x, y, sample_weight, batch_size, steps_per_epoch, initial_epoch, epochs, shuffle, class_weight, max_queue_size, workers, use_multiprocessing, model, steps_per_execution, distribute)\u001b[0m\n\u001b[1;32m   1257\u001b[0m     \u001b[39mself\u001b[39m\u001b[39m.\u001b[39m_steps_per_execution \u001b[39m=\u001b[39m steps_per_execution\n\u001b[1;32m   1259\u001b[0m adapter_cls \u001b[39m=\u001b[39m select_data_adapter(x, y)\n\u001b[0;32m-> 1260\u001b[0m \u001b[39mself\u001b[39m\u001b[39m.\u001b[39m_adapter \u001b[39m=\u001b[39m adapter_cls(\n\u001b[1;32m   1261\u001b[0m     x,\n\u001b[1;32m   1262\u001b[0m     y,\n\u001b[1;32m   1263\u001b[0m     batch_size\u001b[39m=\u001b[39;49mbatch_size,\n\u001b[1;32m   1264\u001b[0m     steps\u001b[39m=\u001b[39;49msteps_per_epoch,\n\u001b[1;32m   1265\u001b[0m     epochs\u001b[39m=\u001b[39;49mepochs \u001b[39m-\u001b[39;49m initial_epoch,\n\u001b[1;32m   1266\u001b[0m     sample_weights\u001b[39m=\u001b[39;49msample_weight,\n\u001b[1;32m   1267\u001b[0m     shuffle\u001b[39m=\u001b[39;49mshuffle,\n\u001b[1;32m   1268\u001b[0m     max_queue_size\u001b[39m=\u001b[39;49mmax_queue_size,\n\u001b[1;32m   1269\u001b[0m     workers\u001b[39m=\u001b[39;49mworkers,\n\u001b[1;32m   1270\u001b[0m     use_multiprocessing\u001b[39m=\u001b[39;49muse_multiprocessing,\n\u001b[1;32m   1271\u001b[0m     distribution_strategy\u001b[39m=\u001b[39;49mtf\u001b[39m.\u001b[39;49mdistribute\u001b[39m.\u001b[39;49mget_strategy(),\n\u001b[1;32m   1272\u001b[0m     model\u001b[39m=\u001b[39;49mmodel,\n\u001b[1;32m   1273\u001b[0m )\n\u001b[1;32m   1275\u001b[0m strategy \u001b[39m=\u001b[39m tf\u001b[39m.\u001b[39mdistribute\u001b[39m.\u001b[39mget_strategy()\n\u001b[1;32m   1277\u001b[0m \u001b[39mself\u001b[39m\u001b[39m.\u001b[39m_current_step \u001b[39m=\u001b[39m \u001b[39m0\u001b[39m\n",
      "File \u001b[0;32m~/anaconda3/lib/python3.10/site-packages/keras/engine/data_adapter.py:348\u001b[0m, in \u001b[0;36mTensorLikeDataAdapter.__init__\u001b[0;34m(self, x, y, sample_weights, sample_weight_modes, batch_size, epochs, steps, shuffle, **kwargs)\u001b[0m\n\u001b[1;32m    344\u001b[0m     \u001b[39mreturn\u001b[39;00m flat_dataset\n\u001b[1;32m    346\u001b[0m indices_dataset \u001b[39m=\u001b[39m indices_dataset\u001b[39m.\u001b[39mflat_map(slice_batch_indices)\n\u001b[0;32m--> 348\u001b[0m dataset \u001b[39m=\u001b[39m \u001b[39mself\u001b[39;49m\u001b[39m.\u001b[39;49mslice_inputs(indices_dataset, inputs)\n\u001b[1;32m    350\u001b[0m \u001b[39mif\u001b[39;00m shuffle \u001b[39m==\u001b[39m \u001b[39m\"\u001b[39m\u001b[39mbatch\u001b[39m\u001b[39m\"\u001b[39m:\n\u001b[1;32m    352\u001b[0m     \u001b[39mdef\u001b[39;00m \u001b[39mshuffle_batch\u001b[39m(\u001b[39m*\u001b[39mbatch):\n",
      "File \u001b[0;32m~/anaconda3/lib/python3.10/site-packages/keras/engine/data_adapter.py:389\u001b[0m, in \u001b[0;36mTensorLikeDataAdapter.slice_inputs\u001b[0;34m(self, indices_dataset, inputs)\u001b[0m\n\u001b[1;32m    384\u001b[0m \u001b[39mdef\u001b[39;00m \u001b[39mgrab_batch\u001b[39m(i, data):\n\u001b[1;32m    385\u001b[0m     \u001b[39mreturn\u001b[39;00m tf\u001b[39m.\u001b[39mnest\u001b[39m.\u001b[39mmap_structure(\n\u001b[1;32m    386\u001b[0m         \u001b[39mlambda\u001b[39;00m d: tf\u001b[39m.\u001b[39mgather(d, i, axis\u001b[39m=\u001b[39m\u001b[39m0\u001b[39m), data\n\u001b[1;32m    387\u001b[0m     )\n\u001b[0;32m--> 389\u001b[0m dataset \u001b[39m=\u001b[39m dataset\u001b[39m.\u001b[39;49mmap(grab_batch, num_parallel_calls\u001b[39m=\u001b[39;49mtf\u001b[39m.\u001b[39;49mdata\u001b[39m.\u001b[39;49mAUTOTUNE)\n\u001b[1;32m    391\u001b[0m \u001b[39m# Default optimizations are disabled to avoid the overhead of\u001b[39;00m\n\u001b[1;32m    392\u001b[0m \u001b[39m# (unnecessary) input pipeline graph serialization and deserialization\u001b[39;00m\n\u001b[1;32m    393\u001b[0m options \u001b[39m=\u001b[39m tf\u001b[39m.\u001b[39mdata\u001b[39m.\u001b[39mOptions()\n",
      "File \u001b[0;32m~/anaconda3/lib/python3.10/site-packages/tensorflow/python/data/ops/dataset_ops.py:2240\u001b[0m, in \u001b[0;36mDatasetV2.map\u001b[0;34m(self, map_func, num_parallel_calls, deterministic, name)\u001b[0m\n\u001b[1;32m   2236\u001b[0m \u001b[39m# Loaded lazily due to a circular dependency (dataset_ops -> map_op ->\u001b[39;00m\n\u001b[1;32m   2237\u001b[0m \u001b[39m# dataset_ops).\u001b[39;00m\n\u001b[1;32m   2238\u001b[0m \u001b[39m# pylint: disable=g-import-not-at-top,protected-access\u001b[39;00m\n\u001b[1;32m   2239\u001b[0m \u001b[39mfrom\u001b[39;00m \u001b[39mtensorflow\u001b[39;00m\u001b[39m.\u001b[39;00m\u001b[39mpython\u001b[39;00m\u001b[39m.\u001b[39;00m\u001b[39mdata\u001b[39;00m\u001b[39m.\u001b[39;00m\u001b[39mops\u001b[39;00m \u001b[39mimport\u001b[39;00m map_op\n\u001b[0;32m-> 2240\u001b[0m \u001b[39mreturn\u001b[39;00m map_op\u001b[39m.\u001b[39;49m_map_v2(\n\u001b[1;32m   2241\u001b[0m     \u001b[39mself\u001b[39;49m,\n\u001b[1;32m   2242\u001b[0m     map_func,\n\u001b[1;32m   2243\u001b[0m     num_parallel_calls\u001b[39m=\u001b[39;49mnum_parallel_calls,\n\u001b[1;32m   2244\u001b[0m     deterministic\u001b[39m=\u001b[39;49mdeterministic,\n\u001b[1;32m   2245\u001b[0m     name\u001b[39m=\u001b[39;49mname)\n",
      "File \u001b[0;32m~/anaconda3/lib/python3.10/site-packages/tensorflow/python/data/ops/map_op.py:40\u001b[0m, in \u001b[0;36m_map_v2\u001b[0;34m(input_dataset, map_func, num_parallel_calls, deterministic, name)\u001b[0m\n\u001b[1;32m     37\u001b[0m   \u001b[39mreturn\u001b[39;00m _MapDataset(\n\u001b[1;32m     38\u001b[0m       input_dataset, map_func, preserve_cardinality\u001b[39m=\u001b[39m\u001b[39mTrue\u001b[39;00m, name\u001b[39m=\u001b[39mname)\n\u001b[1;32m     39\u001b[0m \u001b[39melse\u001b[39;00m:\n\u001b[0;32m---> 40\u001b[0m   \u001b[39mreturn\u001b[39;00m _ParallelMapDataset(\n\u001b[1;32m     41\u001b[0m       input_dataset,\n\u001b[1;32m     42\u001b[0m       map_func,\n\u001b[1;32m     43\u001b[0m       num_parallel_calls\u001b[39m=\u001b[39;49mnum_parallel_calls,\n\u001b[1;32m     44\u001b[0m       deterministic\u001b[39m=\u001b[39;49mdeterministic,\n\u001b[1;32m     45\u001b[0m       preserve_cardinality\u001b[39m=\u001b[39;49m\u001b[39mTrue\u001b[39;49;00m,\n\u001b[1;32m     46\u001b[0m       name\u001b[39m=\u001b[39;49mname)\n",
      "File \u001b[0;32m~/anaconda3/lib/python3.10/site-packages/tensorflow/python/data/ops/map_op.py:148\u001b[0m, in \u001b[0;36m_ParallelMapDataset.__init__\u001b[0;34m(self, input_dataset, map_func, num_parallel_calls, deterministic, use_inter_op_parallelism, preserve_cardinality, use_legacy_function, name)\u001b[0m\n\u001b[1;32m    146\u001b[0m \u001b[39mself\u001b[39m\u001b[39m.\u001b[39m_input_dataset \u001b[39m=\u001b[39m input_dataset\n\u001b[1;32m    147\u001b[0m \u001b[39mself\u001b[39m\u001b[39m.\u001b[39m_use_inter_op_parallelism \u001b[39m=\u001b[39m use_inter_op_parallelism\n\u001b[0;32m--> 148\u001b[0m \u001b[39mself\u001b[39m\u001b[39m.\u001b[39m_map_func \u001b[39m=\u001b[39m structured_function\u001b[39m.\u001b[39;49mStructuredFunctionWrapper(\n\u001b[1;32m    149\u001b[0m     map_func,\n\u001b[1;32m    150\u001b[0m     \u001b[39mself\u001b[39;49m\u001b[39m.\u001b[39;49m_transformation_name(),\n\u001b[1;32m    151\u001b[0m     dataset\u001b[39m=\u001b[39;49minput_dataset,\n\u001b[1;32m    152\u001b[0m     use_legacy_function\u001b[39m=\u001b[39;49muse_legacy_function)\n\u001b[1;32m    153\u001b[0m \u001b[39mif\u001b[39;00m deterministic \u001b[39mis\u001b[39;00m \u001b[39mNone\u001b[39;00m:\n\u001b[1;32m    154\u001b[0m   \u001b[39mself\u001b[39m\u001b[39m.\u001b[39m_deterministic \u001b[39m=\u001b[39m \u001b[39m\"\u001b[39m\u001b[39mdefault\u001b[39m\u001b[39m\"\u001b[39m\n",
      "File \u001b[0;32m~/anaconda3/lib/python3.10/site-packages/tensorflow/python/data/ops/structured_function.py:261\u001b[0m, in \u001b[0;36mStructuredFunctionWrapper.__init__\u001b[0;34m(self, func, transformation_name, dataset, input_classes, input_shapes, input_types, input_structure, add_to_graph, use_legacy_function, defun_kwargs)\u001b[0m\n\u001b[1;32m    254\u001b[0m       warnings\u001b[39m.\u001b[39mwarn(\n\u001b[1;32m    255\u001b[0m           \u001b[39m\"\u001b[39m\u001b[39mEven though the `tf.config.experimental_run_functions_eagerly` \u001b[39m\u001b[39m\"\u001b[39m\n\u001b[1;32m    256\u001b[0m           \u001b[39m\"\u001b[39m\u001b[39moption is set, this option does not apply to tf.data functions. \u001b[39m\u001b[39m\"\u001b[39m\n\u001b[1;32m    257\u001b[0m           \u001b[39m\"\u001b[39m\u001b[39mTo force eager execution of tf.data functions, please use \u001b[39m\u001b[39m\"\u001b[39m\n\u001b[1;32m    258\u001b[0m           \u001b[39m\"\u001b[39m\u001b[39m`tf.data.experimental.enable_debug_mode()`.\u001b[39m\u001b[39m\"\u001b[39m)\n\u001b[1;32m    259\u001b[0m     fn_factory \u001b[39m=\u001b[39m trace_tf_function(defun_kwargs)\n\u001b[0;32m--> 261\u001b[0m \u001b[39mself\u001b[39m\u001b[39m.\u001b[39m_function \u001b[39m=\u001b[39m fn_factory()\n\u001b[1;32m    262\u001b[0m \u001b[39m# There is no graph to add in eager mode.\u001b[39;00m\n\u001b[1;32m    263\u001b[0m add_to_graph \u001b[39m&\u001b[39m\u001b[39m=\u001b[39m \u001b[39mnot\u001b[39;00m context\u001b[39m.\u001b[39mexecuting_eagerly()\n",
      "File \u001b[0;32m~/anaconda3/lib/python3.10/site-packages/tensorflow/python/eager/polymorphic_function/tracing_compiler.py:232\u001b[0m, in \u001b[0;36mTracingCompiler.get_concrete_function\u001b[0;34m(self, *args, **kwargs)\u001b[0m\n\u001b[1;32m    223\u001b[0m \u001b[39mdef\u001b[39;00m \u001b[39mget_concrete_function\u001b[39m(\u001b[39mself\u001b[39m, \u001b[39m*\u001b[39margs, \u001b[39m*\u001b[39m\u001b[39m*\u001b[39mkwargs):\n\u001b[1;32m    224\u001b[0m \u001b[39m  \u001b[39m\u001b[39m\"\"\"Returns a `ConcreteFunction` specialized to inputs and execution context.\u001b[39;00m\n\u001b[1;32m    225\u001b[0m \n\u001b[1;32m    226\u001b[0m \u001b[39m  Args:\u001b[39;00m\n\u001b[0;32m   (...)\u001b[0m\n\u001b[1;32m    230\u001b[0m \u001b[39m      `tf.Tensor` or `tf.TensorSpec`.\u001b[39;00m\n\u001b[1;32m    231\u001b[0m \u001b[39m  \"\"\"\u001b[39;00m\n\u001b[0;32m--> 232\u001b[0m   concrete_function \u001b[39m=\u001b[39m \u001b[39mself\u001b[39;49m\u001b[39m.\u001b[39;49m_get_concrete_function_garbage_collected(\n\u001b[1;32m    233\u001b[0m       \u001b[39m*\u001b[39;49margs, \u001b[39m*\u001b[39;49m\u001b[39m*\u001b[39;49mkwargs)\n\u001b[1;32m    234\u001b[0m   concrete_function\u001b[39m.\u001b[39m_garbage_collector\u001b[39m.\u001b[39mrelease()  \u001b[39m# pylint: disable=protected-access\u001b[39;00m\n\u001b[1;32m    235\u001b[0m   \u001b[39mreturn\u001b[39;00m concrete_function\n",
      "File \u001b[0;32m~/anaconda3/lib/python3.10/site-packages/tensorflow/python/eager/polymorphic_function/tracing_compiler.py:202\u001b[0m, in \u001b[0;36mTracingCompiler._get_concrete_function_garbage_collected\u001b[0;34m(self, *args, **kwargs)\u001b[0m\n\u001b[1;32m    199\u001b[0m   \u001b[39mself\u001b[39m\u001b[39m.\u001b[39m_function_spec\u001b[39m.\u001b[39mmake_canonicalized_monomorphic_type(args, kwargs)\n\u001b[1;32m    201\u001b[0m \u001b[39mwith\u001b[39;00m \u001b[39mself\u001b[39m\u001b[39m.\u001b[39m_lock:\n\u001b[0;32m--> 202\u001b[0m   concrete_function, _ \u001b[39m=\u001b[39m \u001b[39mself\u001b[39;49m\u001b[39m.\u001b[39;49m_maybe_define_concrete_function(args, kwargs)\n\u001b[1;32m    203\u001b[0m   seen_names \u001b[39m=\u001b[39m \u001b[39mset\u001b[39m()\n\u001b[1;32m    204\u001b[0m   concrete_function\u001b[39m.\u001b[39m_arg_keywords \u001b[39m=\u001b[39m []  \u001b[39m# pylint: disable=protected-access\u001b[39;00m\n",
      "File \u001b[0;32m~/anaconda3/lib/python3.10/site-packages/tensorflow/python/eager/polymorphic_function/tracing_compiler.py:166\u001b[0m, in \u001b[0;36mTracingCompiler._maybe_define_concrete_function\u001b[0;34m(self, args, kwargs)\u001b[0m\n\u001b[1;32m    163\u001b[0m   args \u001b[39m=\u001b[39m \u001b[39mself\u001b[39m\u001b[39m.\u001b[39minput_signature\n\u001b[1;32m    164\u001b[0m   kwargs \u001b[39m=\u001b[39m {}\n\u001b[0;32m--> 166\u001b[0m \u001b[39mreturn\u001b[39;00m \u001b[39mself\u001b[39;49m\u001b[39m.\u001b[39;49m_maybe_define_function(args, kwargs)\n",
      "File \u001b[0;32m~/anaconda3/lib/python3.10/site-packages/tensorflow/python/eager/polymorphic_function/tracing_compiler.py:396\u001b[0m, in \u001b[0;36mTracingCompiler._maybe_define_function\u001b[0;34m(self, args, kwargs)\u001b[0m\n\u001b[1;32m    393\u001b[0m   args \u001b[39m=\u001b[39m placeholder_bound_args\u001b[39m.\u001b[39margs\n\u001b[1;32m    394\u001b[0m kwargs \u001b[39m=\u001b[39m placeholder_bound_args\u001b[39m.\u001b[39mkwargs\n\u001b[0;32m--> 396\u001b[0m concrete_function \u001b[39m=\u001b[39m \u001b[39mself\u001b[39;49m\u001b[39m.\u001b[39;49m_create_concrete_function(\n\u001b[1;32m    397\u001b[0m     args, kwargs, func_graph)\n\u001b[1;32m    399\u001b[0m \u001b[39m# TODO(b/263520817): Remove access to private attribute.\u001b[39;00m\n\u001b[1;32m    400\u001b[0m graph_capture_container \u001b[39m=\u001b[39m concrete_function\u001b[39m.\u001b[39mgraph\u001b[39m.\u001b[39m_function_captures  \u001b[39m# pylint: disable=protected-access\u001b[39;00m\n",
      "File \u001b[0;32m~/anaconda3/lib/python3.10/site-packages/tensorflow/python/eager/polymorphic_function/tracing_compiler.py:300\u001b[0m, in \u001b[0;36mTracingCompiler._create_concrete_function\u001b[0;34m(self, args, kwargs, func_graph)\u001b[0m\n\u001b[1;32m    296\u001b[0m \u001b[39melse\u001b[39;00m:\n\u001b[1;32m    297\u001b[0m   arg_names \u001b[39m=\u001b[39m base_arg_names\n\u001b[1;32m    299\u001b[0m concrete_function \u001b[39m=\u001b[39m monomorphic_function\u001b[39m.\u001b[39mConcreteFunction(\n\u001b[0;32m--> 300\u001b[0m     func_graph_module\u001b[39m.\u001b[39;49mfunc_graph_from_py_func(\n\u001b[1;32m    301\u001b[0m         \u001b[39mself\u001b[39;49m\u001b[39m.\u001b[39;49m_name,\n\u001b[1;32m    302\u001b[0m         \u001b[39mself\u001b[39;49m\u001b[39m.\u001b[39;49m_python_function,\n\u001b[1;32m    303\u001b[0m         args,\n\u001b[1;32m    304\u001b[0m         kwargs,\n\u001b[1;32m    305\u001b[0m         \u001b[39mNone\u001b[39;49;00m,\n\u001b[1;32m    306\u001b[0m         func_graph\u001b[39m=\u001b[39;49mfunc_graph,\n\u001b[1;32m    307\u001b[0m         autograph\u001b[39m=\u001b[39;49m\u001b[39mself\u001b[39;49m\u001b[39m.\u001b[39;49m_autograph,\n\u001b[1;32m    308\u001b[0m         autograph_options\u001b[39m=\u001b[39;49m\u001b[39mself\u001b[39;49m\u001b[39m.\u001b[39;49m_autograph_options,\n\u001b[1;32m    309\u001b[0m         arg_names\u001b[39m=\u001b[39;49marg_names,\n\u001b[1;32m    310\u001b[0m         capture_by_value\u001b[39m=\u001b[39;49m\u001b[39mself\u001b[39;49m\u001b[39m.\u001b[39;49m_capture_by_value,\n\u001b[1;32m    311\u001b[0m         create_placeholders\u001b[39m=\u001b[39;49m\u001b[39mFalse\u001b[39;49;00m),\n\u001b[1;32m    312\u001b[0m     \u001b[39mself\u001b[39m\u001b[39m.\u001b[39m_function_attributes,\n\u001b[1;32m    313\u001b[0m     spec\u001b[39m=\u001b[39m\u001b[39mself\u001b[39m\u001b[39m.\u001b[39mfunction_spec,\n\u001b[1;32m    314\u001b[0m     \u001b[39m# Tell the ConcreteFunction to clean up its graph once it goes out of\u001b[39;00m\n\u001b[1;32m    315\u001b[0m     \u001b[39m# scope. This is not the default behavior since it gets used in some\u001b[39;00m\n\u001b[1;32m    316\u001b[0m     \u001b[39m# places (like Keras) where the FuncGraph lives longer than the\u001b[39;00m\n\u001b[1;32m    317\u001b[0m     \u001b[39m# ConcreteFunction.\u001b[39;00m\n\u001b[1;32m    318\u001b[0m     shared_func_graph\u001b[39m=\u001b[39m\u001b[39mFalse\u001b[39;00m)\n\u001b[1;32m    319\u001b[0m \u001b[39mreturn\u001b[39;00m concrete_function\n",
      "File \u001b[0;32m~/anaconda3/lib/python3.10/site-packages/tensorflow/python/framework/func_graph.py:1214\u001b[0m, in \u001b[0;36mfunc_graph_from_py_func\u001b[0;34m(name, python_func, args, kwargs, signature, func_graph, autograph, autograph_options, add_control_dependencies, arg_names, op_return_value, collections, capture_by_value, create_placeholders, acd_record_initial_resource_uses)\u001b[0m\n\u001b[1;32m   1211\u001b[0m \u001b[39melse\u001b[39;00m:\n\u001b[1;32m   1212\u001b[0m   _, original_func \u001b[39m=\u001b[39m tf_decorator\u001b[39m.\u001b[39munwrap(python_func)\n\u001b[0;32m-> 1214\u001b[0m func_outputs \u001b[39m=\u001b[39m python_func(\u001b[39m*\u001b[39;49mfunc_args, \u001b[39m*\u001b[39;49m\u001b[39m*\u001b[39;49mfunc_kwargs)\n\u001b[1;32m   1216\u001b[0m \u001b[39m# invariant: `func_outputs` contains only Tensors, CompositeTensors,\u001b[39;00m\n\u001b[1;32m   1217\u001b[0m \u001b[39m# TensorArrays and `None`s.\u001b[39;00m\n\u001b[1;32m   1218\u001b[0m func_outputs \u001b[39m=\u001b[39m variable_utils\u001b[39m.\u001b[39mconvert_variables_to_tensors(func_outputs)\n",
      "File \u001b[0;32m~/anaconda3/lib/python3.10/site-packages/tensorflow/python/data/ops/structured_function.py:238\u001b[0m, in \u001b[0;36mStructuredFunctionWrapper.__init__.<locals>.trace_tf_function.<locals>.wrapped_fn\u001b[0;34m(*args)\u001b[0m\n\u001b[1;32m    232\u001b[0m \u001b[39m@eager_function\u001b[39m\u001b[39m.\u001b[39mdefun_with_attributes(\n\u001b[1;32m    233\u001b[0m     input_signature\u001b[39m=\u001b[39mstructure\u001b[39m.\u001b[39mget_flat_tensor_specs(\n\u001b[1;32m    234\u001b[0m         \u001b[39mself\u001b[39m\u001b[39m.\u001b[39m_input_structure),\n\u001b[1;32m    235\u001b[0m     autograph\u001b[39m=\u001b[39m\u001b[39mFalse\u001b[39;00m,\n\u001b[1;32m    236\u001b[0m     attributes\u001b[39m=\u001b[39mdefun_kwargs)\n\u001b[1;32m    237\u001b[0m \u001b[39mdef\u001b[39;00m \u001b[39mwrapped_fn\u001b[39m(\u001b[39m*\u001b[39margs):  \u001b[39m# pylint: disable=missing-docstring\u001b[39;00m\n\u001b[0;32m--> 238\u001b[0m   ret \u001b[39m=\u001b[39m wrapper_helper(\u001b[39m*\u001b[39;49margs)\n\u001b[1;32m    239\u001b[0m   ret \u001b[39m=\u001b[39m structure\u001b[39m.\u001b[39mto_tensor_list(\u001b[39mself\u001b[39m\u001b[39m.\u001b[39m_output_structure, ret)\n\u001b[1;32m    240\u001b[0m   \u001b[39mreturn\u001b[39;00m [ops\u001b[39m.\u001b[39mconvert_to_tensor(t) \u001b[39mfor\u001b[39;00m t \u001b[39min\u001b[39;00m ret]\n",
      "File \u001b[0;32m~/anaconda3/lib/python3.10/site-packages/tensorflow/python/data/ops/structured_function.py:165\u001b[0m, in \u001b[0;36mStructuredFunctionWrapper.__init__.<locals>.wrapper_helper\u001b[0;34m(*args)\u001b[0m\n\u001b[1;32m    163\u001b[0m \u001b[39mdef\u001b[39;00m \u001b[39mwrapper_helper\u001b[39m(\u001b[39m*\u001b[39margs):\n\u001b[1;32m    164\u001b[0m \u001b[39m  \u001b[39m\u001b[39m\"\"\"Wrapper for passing nested structures to and from tf.data functions.\"\"\"\u001b[39;00m\n\u001b[0;32m--> 165\u001b[0m   nested_args \u001b[39m=\u001b[39m structure\u001b[39m.\u001b[39;49mfrom_compatible_tensor_list(\n\u001b[1;32m    166\u001b[0m       \u001b[39mself\u001b[39;49m\u001b[39m.\u001b[39;49m_input_structure, args)\n\u001b[1;32m    167\u001b[0m   \u001b[39mif\u001b[39;00m \u001b[39mnot\u001b[39;00m _should_unpack(nested_args):\n\u001b[1;32m    168\u001b[0m     nested_args \u001b[39m=\u001b[39m (nested_args,)\n",
      "File \u001b[0;32m~/anaconda3/lib/python3.10/site-packages/tensorflow/python/data/util/structure.py:249\u001b[0m, in \u001b[0;36mfrom_compatible_tensor_list\u001b[0;34m(element_spec, tensor_list)\u001b[0m\n\u001b[1;32m    232\u001b[0m \u001b[39m\u001b[39m\u001b[39m\"\"\"Returns an element constructed from the given spec and tensor list.\u001b[39;00m\n\u001b[1;32m    233\u001b[0m \n\u001b[1;32m    234\u001b[0m \u001b[39mArgs:\u001b[39;00m\n\u001b[0;32m   (...)\u001b[0m\n\u001b[1;32m    244\u001b[0m \u001b[39m    the given spec does not match the given number of tensors.\u001b[39;00m\n\u001b[1;32m    245\u001b[0m \u001b[39m\"\"\"\u001b[39;00m\n\u001b[1;32m    247\u001b[0m \u001b[39m# pylint: disable=protected-access\u001b[39;00m\n\u001b[1;32m    248\u001b[0m \u001b[39m# pylint: disable=g-long-lambda\u001b[39;00m\n\u001b[0;32m--> 249\u001b[0m \u001b[39mreturn\u001b[39;00m _from_tensor_list_helper(\n\u001b[1;32m    250\u001b[0m     \u001b[39mlambda\u001b[39;49;00m spec, value: spec\u001b[39m.\u001b[39;49m_from_compatible_tensor_list(value),\n\u001b[1;32m    251\u001b[0m     element_spec, tensor_list)\n",
      "File \u001b[0;32m~/anaconda3/lib/python3.10/site-packages/tensorflow/python/data/util/structure.py:216\u001b[0m, in \u001b[0;36m_from_tensor_list_helper\u001b[0;34m(decode_fn, element_spec, tensor_list)\u001b[0m\n\u001b[1;32m    197\u001b[0m \u001b[39m\u001b[39m\u001b[39m\"\"\"Returns an element constructed from the given spec and tensor list.\u001b[39;00m\n\u001b[1;32m    198\u001b[0m \n\u001b[1;32m    199\u001b[0m \u001b[39mArgs:\u001b[39;00m\n\u001b[0;32m   (...)\u001b[0m\n\u001b[1;32m    211\u001b[0m \u001b[39m    the given spec does not match the given number of tensors.\u001b[39;00m\n\u001b[1;32m    212\u001b[0m \u001b[39m\"\"\"\u001b[39;00m\n\u001b[1;32m    214\u001b[0m \u001b[39m# pylint: disable=protected-access\u001b[39;00m\n\u001b[0;32m--> 216\u001b[0m flat_specs \u001b[39m=\u001b[39m nest\u001b[39m.\u001b[39;49mflatten(element_spec)\n\u001b[1;32m    217\u001b[0m flat_spec_lengths \u001b[39m=\u001b[39m [\u001b[39mlen\u001b[39m(spec\u001b[39m.\u001b[39m_flat_tensor_specs) \u001b[39mfor\u001b[39;00m spec \u001b[39min\u001b[39;00m flat_specs]\n\u001b[1;32m    218\u001b[0m \u001b[39mif\u001b[39;00m \u001b[39msum\u001b[39m(flat_spec_lengths) \u001b[39m!=\u001b[39m \u001b[39mlen\u001b[39m(tensor_list):\n",
      "\u001b[0;31mKeyboardInterrupt\u001b[0m: "
     ]
    }
   ],
   "source": [
    "import os\n",
    "import sys\n",
    "import json\n",
    "import tqdm\n",
    "import cv2\n",
    "import pickle\n",
    "\n",
    "project_root = os.path.abspath(os.path.join(os.path.dirname('../')))\n",
    "sys.path.append(project_root)\n",
    "\n",
    "from core.face_processor import init_model_face_db\n",
    "import core.data_schema.model as model\n",
    "from core.database import Database\n",
    "\n",
    "db = Database()\n",
    "\n",
    "model_name = 'Jessy Jones'\n",
    "output_dir = f'{project_root}/output/faces'\n",
    "galleries = model.Model.objects(name = model_name).first().galleries\n",
    "\n",
    "init_model_face_db(model_name, galleries, output_dir)\n"
   ]
  }
 ],
 "metadata": {
  "kernelspec": {
   "display_name": "base",
   "language": "python",
   "name": "python3"
  },
  "language_info": {
   "codemirror_mode": {
    "name": "ipython",
    "version": 3
   },
   "file_extension": ".py",
   "mimetype": "text/x-python",
   "name": "python",
   "nbconvert_exporter": "python",
   "pygments_lexer": "ipython3",
   "version": "3.10.9"
  },
  "orig_nbformat": 4
 },
 "nbformat": 4,
 "nbformat_minor": 2
}
