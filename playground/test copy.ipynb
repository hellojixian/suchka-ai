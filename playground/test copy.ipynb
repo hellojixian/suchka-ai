{
 "cells": [
  {
   "cell_type": "code",
   "execution_count": 4,
   "metadata": {},
   "outputs": [
    {
     "name": "stdout",
     "output_type": "stream",
     "text": [
      "{'galleries': {1}, 'models': {}, 'channels': {}}\n",
      "{'galleries': set(), 'models': {}, 'channels': {}}\n"
     ]
    }
   ],
   "source": [
    "from copy import deepcopy\n",
    "\n",
    "cache_tag_record = { 'galleries': set(), 'models': dict(), 'channels': dict() }\n",
    "a = deepcopy(cache_tag_record)\n",
    "b = deepcopy(cache_tag_record)\n",
    "a['galleries'].add(1)\n",
    "\n",
    "print(a)\n",
    "print(b)"
   ]
  },
  {
   "cell_type": "code",
   "execution_count": null,
   "metadata": {},
   "outputs": [],
   "source": [
    "import torch\n",
    "path = '../pretrained/face_recognizer.pt'\n",
    "state_dict = torch.load(path)\n",
    "for key in state_dict:\n",
    "  print(key)\n",
    "  print(state_dict[key].shape)\n",
    "  # print(state_dict[key])\n",
    "  break"
   ]
  }
 ],
 "metadata": {
  "kernelspec": {
   "display_name": "base",
   "language": "python",
   "name": "python3"
  },
  "language_info": {
   "codemirror_mode": {
    "name": "ipython",
    "version": 3
   },
   "file_extension": ".py",
   "mimetype": "text/x-python",
   "name": "python",
   "nbconvert_exporter": "python",
   "pygments_lexer": "ipython3",
   "version": "3.10.9"
  },
  "orig_nbformat": 4
 },
 "nbformat": 4,
 "nbformat_minor": 2
}
