{
 "cells": [
  {
   "cell_type": "code",
   "execution_count": 11,
   "metadata": {},
   "outputs": [
    {
     "name": "stdout",
     "output_type": "stream",
     "text": [
      "{'0th': {256: 1667, 257: 2500, 258: (8, 8, 8), 262: 2, 270: b'my description', 274: 1, 282: (3000000, 10000), 283: (3000000, 10000), 296: 2, 305: b'Adobe Photoshop 23.2 (Windows)', 306: b'2022:04:30 20:06:34', 315: b'my author', 33432: b'PornPics', 40094: (255, 254, 107, 0, 101, 0, 121, 0, 119, 0, 111, 0, 114, 0, 100, 0, 115, 0, 32, 0, 109, 0, 97, 0, 110, 0, 121, 0), 40095: (), 34665: 341}, 'Exif': {36864: b'0231', 40961: 1, 40962: 1667, 40963: 2500}, 'GPS': {}, 'Interop': {}, '1st': {}, 'thumbnail': None}\n"
     ]
    }
   ],
   "source": [
    "import piexif\n",
    "from PIL import Image\n",
    "full_path = f\"/home/jixian/github/suchka-ai/output/pornpics/96040268/0c28b252aab9709922902d6b39ee17f011b0a565.jpg\"\n",
    "image = Image.open(full_path)\n",
    "exif_dict = piexif.load(image.info['exif'])\n",
    "# exif_dict={}\n",
    "print(exif_dict)\n",
    "# print(image.info['exif'])"
   ]
  },
  {
   "cell_type": "code",
   "execution_count": 12,
   "metadata": {},
   "outputs": [
    {
     "name": "stdout",
     "output_type": "stream",
     "text": [
      "{'0th': {256: 1667, 257: 2500, 258: (8, 8, 8), 262: 2, 270: 'my description', 274: 1, 282: (3000000, 10000), 283: (3000000, 10000), 296: 2, 305: b'Adobe Photoshop 23.2 (Windows)', 306: b'2022:04:30 20:06:34', 315: 'my author', 33432: b'PornPics', 40094: b'\\xff\\xfek\\x00e\\x00y\\x00w\\x00o\\x00r\\x00d\\x00s\\x00 \\x00m\\x00a\\x00n\\x00y\\x00', 40095: b'', 34665: 341}, 'Exif': {36864: b'0231', 40961: 1, 40962: 1667, 40963: 2500}, 'GPS': {}, 'Interop': {}, '1st': {}, 'thumbnail': None}\n"
     ]
    }
   ],
   "source": [
    "# exif_dict[\"0th\"][piexif.ImageIFD.XPComment] = u\"my comments\"\n",
    "exif_dict[\"0th\"][piexif.ImageIFD.XPKeywords] = \"keywords many\".encode(encoding='utf_16')\n",
    "exif_dict[\"0th\"][piexif.ImageIFD.XPSubject] = b\"\"\n",
    "exif_dict[\"0th\"][piexif.ImageIFD.ImageDescription] = \"my description\"\n",
    "exif_dict[\"0th\"][piexif.ImageIFD.Artist] = \"my author\"\n",
    "exif_dict[\"0th\"][piexif.ImageIFD.Copyright] = \"PornPics\".encode(encoding='utf-8')\n",
    "\n",
    "print(exif_dict)\n",
    "exif_dict['thumbnail'] = None if exif_dict['thumbnail'] == b'' else exif_dict['thumbnail']\n",
    "exif_bytes = piexif.dump(exif_dict)\n",
    "image.save(full_path, exif=exif_bytes)"
   ]
  }
 ],
 "metadata": {
  "kernelspec": {
   "display_name": "base",
   "language": "python",
   "name": "python3"
  },
  "language_info": {
   "codemirror_mode": {
    "name": "ipython",
    "version": 3
   },
   "file_extension": ".py",
   "mimetype": "text/x-python",
   "name": "python",
   "nbconvert_exporter": "python",
   "pygments_lexer": "ipython3",
   "version": "3.10.9"
  },
  "orig_nbformat": 4
 },
 "nbformat": 4,
 "nbformat_minor": 2
}
