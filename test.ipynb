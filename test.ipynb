{
 "cells": [
  {
   "cell_type": "code",
   "execution_count": null,
   "metadata": {},
   "outputs": [],
   "source": [
    "import piexif\n",
    "from PIL import Image\n",
    "full_path = f\"/home/jixian/github/suchka-ai/output/pornpics/96040268/0c28b252aab9709922902d6b39ee17f011b0a565.jpg\"\n",
    "image = Image.open(full_path)\n",
    "exif_dict = piexif.load(image.info['exif'])\n",
    "# exif_dict={}\n",
    "print(exif_dict)\n",
    "# print(image.info['exif'])"
   ]
  },
  {
   "cell_type": "code",
   "execution_count": null,
   "metadata": {},
   "outputs": [],
   "source": [
    "# exif_dict[\"0th\"][piexif.ImageIFD.XPComment] = u\"my comments\"\n",
    "exif_dict[\"0th\"][piexif.ImageIFD.XPKeywords] = \"keywords many\".encode(encoding='utf_16')\n",
    "exif_dict[\"0th\"][piexif.ImageIFD.XPSubject] = b\"\"\n",
    "exif_dict[\"0th\"][piexif.ImageIFD.ImageDescription] = \"my description\"\n",
    "exif_dict[\"0th\"][piexif.ImageIFD.Artist] = \"my author\"\n",
    "exif_dict[\"0th\"][piexif.ImageIFD.Copyright] = \"PornPics\".encode(encoding='utf-8')\n",
    "\n",
    "print(exif_dict)\n",
    "exif_dict['thumbnail'] = None if exif_dict['thumbnail'] == b'' else exif_dict['thumbnail']\n",
    "exif_bytes = piexif.dump(exif_dict)\n",
    "image.save(full_path, exif=exif_bytes)"
   ]
  },
  {
   "cell_type": "code",
   "execution_count": null,
   "metadata": {},
   "outputs": [],
   "source": [
    "import pickle\n",
    "embedding_file = 'output/faces/Alissa White/embeddings.pickle'\n",
    "with open(embedding_file, \"rb\") as f:\n",
    "  data = pickle.load(f)\n",
    "\n",
    "print(len(data))\n",
    "for emb in data:\n",
    "  # print(len(emb))\n",
    "  print(emb[0])"
   ]
  },
  {
   "cell_type": "code",
   "execution_count": 21,
   "metadata": {},
   "outputs": [
    {
     "name": "stdout",
     "output_type": "stream",
     "text": [
      "[Alissa White]\n"
     ]
    }
   ],
   "source": [
    "name = '  alIssa white '\n",
    "name = \" \".join([n.capitalize() for n in name.strip().split(' ')])\n",
    "print(f'[{name}]')"
   ]
  }
 ],
 "metadata": {
  "kernelspec": {
   "display_name": "base",
   "language": "python",
   "name": "python3"
  },
  "language_info": {
   "codemirror_mode": {
    "name": "ipython",
    "version": 3
   },
   "file_extension": ".py",
   "mimetype": "text/x-python",
   "name": "python",
   "nbconvert_exporter": "python",
   "pygments_lexer": "ipython3",
   "version": "3.10.9"
  },
  "orig_nbformat": 4
 },
 "nbformat": 4,
 "nbformat_minor": 2
}
